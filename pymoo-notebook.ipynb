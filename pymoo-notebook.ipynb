{
 "cells": [
  {
   "cell_type": "markdown",
   "source": [
    "# Pymoo Notebook"
   ],
   "metadata": {}
  },
  {
   "cell_type": "markdown",
   "source": [
    "https://katex.org/docs/supported.html"
   ],
   "metadata": {}
  },
  {
   "cell_type": "markdown",
   "source": [
    "https://pymoo.org/\r\n",
    "https://github.com/anyoptimization/pymoo"
   ],
   "metadata": {}
  },
  {
   "cell_type": "markdown",
   "source": [
    "## Contents\r\n",
    "* [Github Test Code](#test)\r\n",
    "* [Preface: Basics and Challenges](#PT0)\r\n",
    "* [Part I: A Constrained Bi-objective Optimization Problem](#PT1)\r\n",
    "* [Part II: Find a Solution Set using Multi-objective Optimization](#PT2)\r\n",
    "* [Part III: Multi-Criteria Decision Making](#PT3)\r\n",
    "* [Part III: Multi-Criteria Decision Making](#PT4)\r\n",
    "* [Part IV: Analysis of Convergence](#PT5)\r\n",
    "* [Source Code](#SC)\r\n",
    "* [API]"
   ],
   "metadata": {}
  },
  {
   "cell_type": "markdown",
   "source": [
    "# Test Code <a class='anchor' id='test'></a>"
   ],
   "metadata": {}
  },
  {
   "cell_type": "code",
   "execution_count": 120,
   "source": [
    "import sys"
   ],
   "outputs": [],
   "metadata": {}
  },
  {
   "cell_type": "code",
   "execution_count": 121,
   "source": [
    "# !pip install -U pymoo"
   ],
   "outputs": [],
   "metadata": {}
  },
  {
   "cell_type": "code",
   "execution_count": 122,
   "source": [
    "from pymoo.algorithms.moo.nsga2 import NSGA2\r\n",
    "from pymoo.factory import get_problem\r\n",
    "from pymoo.optimize import minimize\r\n",
    "from pymoo.visualization.scatter import Scatter\r\n",
    "\r\n",
    "problem = get_problem(\"zdt1\")\r\n",
    "\r\n",
    "algorithm = NSGA2(pop_size=100)\r\n",
    "\r\n",
    "res = minimize(problem,\r\n",
    "               algorithm,\r\n",
    "               ('n_gen', 200),\r\n",
    "               seed=1,\r\n",
    "               verbose=True)\r\n",
    "\r\n",
    "plot = Scatter()\r\n",
    "plot.add(problem.pareto_front(), plot_type=\"line\", color=\"black\", alpha=0.7)\r\n",
    "plot.add(res.F, color=\"red\")\r\n",
    "plot.show()"
   ],
   "outputs": [
    {
     "output_type": "stream",
     "name": "stdout",
     "text": [
      "============================================================\n",
      "n_gen |  n_eval |     igd      |      gd      |      hv     \n",
      "============================================================\n",
      "    1 |     100 |  1.968750093 |  2.604804832 |  0.00000E+00\n",
      "    2 |     200 |  1.734489567 |  2.581573950 |  0.00000E+00\n",
      "    3 |     300 |  1.734489567 |  2.459669453 |  0.00000E+00\n",
      "    4 |     400 |  1.734489567 |  2.494031231 |  0.00000E+00\n",
      "    5 |     500 |  1.717832911 |  2.121980227 |  0.00000E+00\n",
      "    6 |     600 |  1.185966215 |  2.078544110 |  0.00000E+00\n",
      "    7 |     700 |  1.185966215 |  2.085332953 |  0.00000E+00\n",
      "    8 |     800 |  1.034422085 |  1.967599712 |  0.00000E+00\n",
      "    9 |     900 |  1.031204325 |  1.672868174 |  0.00000E+00\n",
      "   10 |    1000 |  0.957837861 |  1.328719106 |  0.00000E+00\n",
      "   11 |    1100 |  0.949759789 |  1.316097258 |  0.00000E+00\n",
      "   12 |    1200 |  0.884360161 |  1.269278705 |  0.00000E+00\n",
      "   13 |    1300 |  0.850114718 |  1.187657401 |  0.00000E+00\n",
      "   14 |    1400 |  0.830429218 |  1.031565288 |  0.00000E+00\n",
      "   15 |    1500 |  0.735030226 |  1.032345638 |  0.015573226\n",
      "   16 |    1600 |  0.697020622 |  0.913973924 |  0.027205500\n",
      "   17 |    1700 |  0.686455506 |  0.921037103 |  0.028952853\n",
      "   18 |    1800 |  0.669603390 |  0.862051887 |  0.030592026\n",
      "   19 |    1900 |  0.611951494 |  0.789306350 |  0.051049801\n",
      "   20 |    2000 |  0.601453145 |  0.777531933 |  0.054600780\n",
      "   21 |    2100 |  0.548419616 |  0.725946879 |  0.067051514\n",
      "   22 |    2200 |  0.529860390 |  0.649895751 |  0.078382958\n",
      "   23 |    2300 |  0.526594155 |  0.617134130 |  0.083702145\n",
      "   24 |    2400 |  0.490372505 |  0.571248853 |  0.096371345\n",
      "   25 |    2500 |  0.467401095 |  0.571160190 |  0.123007089\n",
      "   26 |    2600 |  0.445741933 |  0.531570562 |  0.142649410\n",
      "   27 |    2700 |  0.426520376 |  0.510451416 |  0.158896081\n",
      "   28 |    2800 |  0.403553476 |  0.487577165 |  0.175718606\n",
      "   29 |    2900 |  0.380024091 |  0.432107522 |  0.192209882\n",
      "   30 |    3000 |  0.361899090 |  0.426620061 |  0.205984102\n",
      "   31 |    3100 |  0.339518899 |  0.421104161 |  0.222064009\n",
      "   32 |    3200 |  0.327544761 |  0.394680035 |  0.234422952\n",
      "   33 |    3300 |  0.318122526 |  0.379194484 |  0.245612038\n",
      "   34 |    3400 |  0.302073253 |  0.343415983 |  0.263558830\n",
      "   35 |    3500 |  0.285221530 |  0.322739846 |  0.277153375\n",
      "   36 |    3600 |  0.279196160 |  0.288108449 |  0.284390999\n",
      "   37 |    3700 |  0.270293840 |  0.293760516 |  0.297491170\n",
      "   38 |    3800 |  0.267759155 |  0.280146925 |  0.305687484\n",
      "   39 |    3900 |  0.247516711 |  0.280019872 |  0.324309165\n",
      "   40 |    4000 |  0.234592927 |  0.259510560 |  0.336210648\n",
      "   41 |    4100 |  0.223840119 |  0.242407687 |  0.353921422\n",
      "   42 |    4200 |  0.218358565 |  0.227859736 |  0.366002357\n",
      "   43 |    4300 |  0.205899427 |  0.223731249 |  0.380913964\n",
      "   44 |    4400 |  0.191245220 |  0.213850559 |  0.393225220\n",
      "   45 |    4500 |  0.185509393 |  0.206267931 |  0.399576770\n",
      "   46 |    4600 |  0.175485614 |  0.203583930 |  0.411963060\n",
      "   47 |    4700 |  0.170843622 |  0.187734164 |  0.421851793\n",
      "   48 |    4800 |  0.164650602 |  0.183939303 |  0.428651319\n",
      "   49 |    4900 |  0.160267518 |  0.172634863 |  0.438253277\n",
      "   50 |    5000 |  0.153827654 |  0.163106608 |  0.444644600\n",
      "   51 |    5100 |  0.146793103 |  0.156641633 |  0.454124900\n",
      "   52 |    5200 |  0.142836584 |  0.151303016 |  0.460082769\n",
      "   53 |    5300 |  0.136017975 |  0.147896408 |  0.467882311\n",
      "   54 |    5400 |  0.134118854 |  0.142296831 |  0.471537691\n",
      "   55 |    5500 |  0.129718166 |  0.134193234 |  0.476992514\n",
      "   56 |    5600 |  0.121443520 |  0.131358932 |  0.488499031\n",
      "   57 |    5700 |  0.116567058 |  0.127759602 |  0.496787356\n",
      "   58 |    5800 |  0.110220455 |  0.121888663 |  0.503463044\n",
      "   59 |    5900 |  0.104739760 |  0.111334366 |  0.512253879\n",
      "   60 |    6000 |  0.100274943 |  0.108191682 |  0.519705821\n",
      "   61 |    6100 |  0.095465664 |  0.102922992 |  0.524844943\n",
      "   62 |    6200 |  0.091238200 |  0.099733301 |  0.532441822\n",
      "   63 |    6300 |  0.087171575 |  0.095673033 |  0.539065130\n",
      "   64 |    6400 |  0.079518813 |  0.091882485 |  0.547322457\n",
      "   65 |    6500 |  0.075036525 |  0.084410916 |  0.553326928\n",
      "   66 |    6600 |  0.070747279 |  0.082723930 |  0.559501688\n",
      "   67 |    6700 |  0.065289475 |  0.076278750 |  0.566223277\n",
      "   68 |    6800 |  0.060692284 |  0.067707839 |  0.572690313\n",
      "   69 |    6900 |  0.055284810 |  0.060928052 |  0.579828993\n",
      "   70 |    7000 |  0.052480653 |  0.057263896 |  0.584309766\n",
      "   71 |    7100 |  0.050838578 |  0.056170117 |  0.587511457\n",
      "   72 |    7200 |  0.048889248 |  0.053203815 |  0.590964681\n",
      "   73 |    7300 |  0.046736543 |  0.049442788 |  0.594664829\n",
      "   74 |    7400 |  0.044739322 |  0.046682003 |  0.597982790\n",
      "   75 |    7500 |  0.042437542 |  0.045356004 |  0.601445617\n",
      "   76 |    7600 |  0.039563002 |  0.042790955 |  0.604956261\n",
      "   77 |    7700 |  0.038493982 |  0.041476944 |  0.607026217\n",
      "   78 |    7800 |  0.036535029 |  0.038782936 |  0.609750274\n",
      "   79 |    7900 |  0.034633763 |  0.036733792 |  0.612320683\n",
      "   80 |    8000 |  0.032649475 |  0.035310124 |  0.615478145\n",
      "   81 |    8100 |  0.031233331 |  0.033531442 |  0.617983911\n",
      "   82 |    8200 |  0.028963342 |  0.030959049 |  0.620952558\n",
      "   83 |    8300 |  0.027666639 |  0.029670563 |  0.623231312\n",
      "   84 |    8400 |  0.026372158 |  0.028420277 |  0.624960338\n",
      "   85 |    8500 |  0.025335067 |  0.027672666 |  0.626341756\n",
      "   86 |    8600 |  0.024226577 |  0.026058782 |  0.628410257\n",
      "   87 |    8700 |  0.023009785 |  0.024666258 |  0.630166113\n",
      "   88 |    8800 |  0.022287513 |  0.024335422 |  0.631158909\n",
      "   89 |    8900 |  0.021224542 |  0.023882100 |  0.632222728\n",
      "   90 |    9000 |  0.020812277 |  0.023653971 |  0.633107584\n",
      "   91 |    9100 |  0.019702320 |  0.021948409 |  0.634596938\n",
      "   92 |    9200 |  0.018956687 |  0.021193004 |  0.635747164\n",
      "   93 |    9300 |  0.018349701 |  0.020334788 |  0.636543240\n",
      "   94 |    9400 |  0.017801290 |  0.018978580 |  0.637355928\n",
      "   95 |    9500 |  0.017071644 |  0.017829151 |  0.638434900\n",
      "   96 |    9600 |  0.016708609 |  0.017665331 |  0.639047576\n",
      "   97 |    9700 |  0.016442695 |  0.017397948 |  0.639471159\n",
      "   98 |    9800 |  0.015808707 |  0.017057298 |  0.640313855\n",
      "   99 |    9900 |  0.015440086 |  0.016400904 |  0.641065347\n",
      "  100 |   10000 |  0.015117480 |  0.016260039 |  0.641530809\n",
      "  101 |   10100 |  0.014705455 |  0.015583744 |  0.641945047\n",
      "  102 |   10200 |  0.014296637 |  0.015586164 |  0.642627440\n",
      "  103 |   10300 |  0.014140400 |  0.014970707 |  0.643090200\n",
      "  104 |   10400 |  0.013533680 |  0.014269288 |  0.643918075\n",
      "  105 |   10500 |  0.013067747 |  0.013848893 |  0.644640244\n",
      "  106 |   10600 |  0.012331920 |  0.013244878 |  0.645563627\n",
      "  107 |   10700 |  0.011791293 |  0.013043977 |  0.646466158\n",
      "  108 |   10800 |  0.011312148 |  0.012571245 |  0.647192413\n",
      "  109 |   10900 |  0.011190584 |  0.012520535 |  0.647447808\n",
      "  110 |   11000 |  0.011095520 |  0.011656331 |  0.647595261\n",
      "  111 |   11100 |  0.010718771 |  0.011730793 |  0.648213893\n",
      "  112 |   11200 |  0.010458880 |  0.011428462 |  0.648595121\n",
      "  113 |   11300 |  0.010342578 |  0.011160525 |  0.648675216\n",
      "  114 |   11400 |  0.010225574 |  0.011067197 |  0.648873488\n",
      "  115 |   11500 |  0.009830703 |  0.010667630 |  0.649533507\n",
      "  116 |   11600 |  0.009824060 |  0.010720779 |  0.649738455\n",
      "  117 |   11700 |  0.009709283 |  0.010368642 |  0.649930447\n",
      "  118 |   11800 |  0.009683732 |  0.010222075 |  0.649956706\n",
      "  119 |   11900 |  0.009517697 |  0.009773129 |  0.650217198\n",
      "  120 |   12000 |  0.009300500 |  0.009513733 |  0.650376548\n",
      "  121 |   12100 |  0.009266825 |  0.009462356 |  0.650567397\n",
      "  122 |   12200 |  0.009375816 |  0.010138682 |  0.650694318\n",
      "  123 |   12300 |  0.009206148 |  0.009918187 |  0.650984594\n",
      "  124 |   12400 |  0.009129090 |  0.009900447 |  0.651116181\n",
      "  125 |   12500 |  0.008991062 |  0.009406194 |  0.651475750\n",
      "  126 |   12600 |  0.009093495 |  0.009876741 |  0.651383431\n",
      "  127 |   12700 |  0.009105497 |  0.009812565 |  0.651331288\n",
      "  128 |   12800 |  0.008718615 |  0.009604699 |  0.651940853\n",
      "  129 |   12900 |  0.008601284 |  0.009458486 |  0.652112767\n",
      "  130 |   13000 |  0.008572274 |  0.009351177 |  0.652151246\n",
      "  131 |   13100 |  0.008498988 |  0.009334569 |  0.652359009\n",
      "  132 |   13200 |  0.008348828 |  0.008340125 |  0.652330049\n",
      "  133 |   13300 |  0.008091243 |  0.008482200 |  0.652860877\n",
      "  134 |   13400 |  0.008080583 |  0.008636487 |  0.652980692\n",
      "  135 |   13500 |  0.007741729 |  0.008169321 |  0.653254999\n",
      "  136 |   13600 |  0.007881799 |  0.008515117 |  0.653095806\n",
      "  137 |   13700 |  0.008061790 |  0.008200454 |  0.652863176\n",
      "  138 |   13800 |  0.007854627 |  0.008120995 |  0.653274630\n",
      "  139 |   13900 |  0.007650365 |  0.007941395 |  0.653658063\n",
      "  140 |   14000 |  0.007350081 |  0.007543399 |  0.653859287\n",
      "  141 |   14100 |  0.007496230 |  0.008157989 |  0.653642278\n",
      "  142 |   14200 |  0.007327358 |  0.008210623 |  0.653870132\n",
      "  143 |   14300 |  0.007528801 |  0.008119606 |  0.653746532\n",
      "  144 |   14400 |  0.007534946 |  0.008122157 |  0.653723012\n",
      "  145 |   14500 |  0.007245524 |  0.007997986 |  0.654175094\n",
      "  146 |   14600 |  0.007033061 |  0.007668512 |  0.654529013\n",
      "  147 |   14700 |  0.006930755 |  0.007913533 |  0.654717348\n",
      "  148 |   14800 |  0.006953340 |  0.007939030 |  0.654873981\n",
      "  149 |   14900 |  0.006786343 |  0.007189564 |  0.655018576\n",
      "  150 |   15000 |  0.006504530 |  0.007314722 |  0.655469655\n",
      "  151 |   15100 |  0.006511045 |  0.007627695 |  0.655530653\n",
      "  152 |   15200 |  0.006424822 |  0.007161323 |  0.655602794\n",
      "  153 |   15300 |  0.006278084 |  0.007009916 |  0.655999785\n",
      "  154 |   15400 |  0.006522174 |  0.007179451 |  0.655676859\n",
      "  155 |   15500 |  0.006612904 |  0.007442457 |  0.655816211\n",
      "  156 |   15600 |  0.006687557 |  0.007400312 |  0.655829678\n",
      "  157 |   15700 |  0.006660946 |  0.007350249 |  0.655981472\n",
      "  158 |   15800 |  0.006564173 |  0.007173672 |  0.655877250\n",
      "  159 |   15900 |  0.006500584 |  0.006727823 |  0.655728212\n",
      "  160 |   16000 |  0.006386438 |  0.006854537 |  0.656061173\n",
      "  161 |   16100 |  0.006178350 |  0.006711630 |  0.656337900\n",
      "  162 |   16200 |  0.006127910 |  0.006679305 |  0.656553242\n",
      "  163 |   16300 |  0.006207241 |  0.007078775 |  0.656218143\n",
      "  164 |   16400 |  0.006216440 |  0.006804573 |  0.656278066\n",
      "  165 |   16500 |  0.006364443 |  0.006929551 |  0.656235777\n",
      "  166 |   16600 |  0.006228085 |  0.007220176 |  0.656207484\n",
      "  167 |   16700 |  0.005965607 |  0.006528149 |  0.656324222\n",
      "  168 |   16800 |  0.005967087 |  0.006873905 |  0.656512658\n",
      "  169 |   16900 |  0.006232352 |  0.006644462 |  0.656303661\n",
      "  170 |   17000 |  0.005922678 |  0.006379792 |  0.656568313\n",
      "  171 |   17100 |  0.005924699 |  0.006526069 |  0.656563549\n",
      "  172 |   17200 |  0.005712136 |  0.006512535 |  0.656789312\n",
      "  173 |   17300 |  0.005770994 |  0.006666900 |  0.656896443\n",
      "  174 |   17400 |  0.005790030 |  0.006818448 |  0.656809372\n",
      "  175 |   17500 |  0.005738125 |  0.006431682 |  0.656966427\n",
      "  176 |   17600 |  0.005989213 |  0.006424717 |  0.656769660\n",
      "  177 |   17700 |  0.005932513 |  0.006795831 |  0.656992362\n",
      "  178 |   17800 |  0.005647902 |  0.006283450 |  0.657165208\n",
      "  179 |   17900 |  0.005392044 |  0.005931494 |  0.657439076\n",
      "  180 |   18000 |  0.005297486 |  0.006214351 |  0.657561649\n",
      "  181 |   18100 |  0.005151506 |  0.005930251 |  0.657662369\n",
      "  182 |   18200 |  0.005439241 |  0.006531620 |  0.657612089\n",
      "  183 |   18300 |  0.005148826 |  0.006606774 |  0.657906902\n",
      "  184 |   18400 |  0.005366097 |  0.006712699 |  0.657846269\n",
      "  185 |   18500 |  0.005544033 |  0.006847790 |  0.657743368\n",
      "  186 |   18600 |  0.005448294 |  0.006211099 |  0.657795742\n",
      "  187 |   18700 |  0.005329560 |  0.006225566 |  0.658006075\n",
      "  188 |   18800 |  0.005414950 |  0.005726875 |  0.657489965\n",
      "  189 |   18900 |  0.005780543 |  0.006129200 |  0.657457507\n",
      "  190 |   19000 |  0.005675798 |  0.006291289 |  0.657789022\n",
      "  191 |   19100 |  0.005460365 |  0.006124017 |  0.657844966\n",
      "  192 |   19200 |  0.005412510 |  0.005823804 |  0.657874896\n",
      "  193 |   19300 |  0.005277006 |  0.005793369 |  0.658087577\n",
      "  194 |   19400 |  0.005367105 |  0.006297272 |  0.658133227\n",
      "  195 |   19500 |  0.005533635 |  0.006373154 |  0.658074358\n",
      "  196 |   19600 |  0.005207071 |  0.006229242 |  0.658251933\n",
      "  197 |   19700 |  0.005107543 |  0.005752252 |  0.658412837\n",
      "  198 |   19800 |  0.005209927 |  0.005906851 |  0.658476027\n",
      "  199 |   19900 |  0.005206977 |  0.005966480 |  0.658561138\n",
      "  200 |   20000 |  0.005050356 |  0.005720054 |  0.658699698\n"
     ]
    },
    {
     "output_type": "execute_result",
     "data": {
      "text/plain": [
       "<pymoo.visualization.scatter.Scatter at 0x20e1b0c7b08>"
      ]
     },
     "metadata": {},
     "execution_count": 122
    },
    {
     "output_type": "display_data",
     "data": {
      "image/png": "[encoded data removed]",
      "text/plain": [
       "<Figure size 576x432 with 1 Axes>"
      ]
     },
     "metadata": {
      "needs_background": "light"
     }
    }
   ],
   "metadata": {}
  },
  {
   "cell_type": "markdown",
   "source": [
    "# **Preface: Basics and Challenges** <a class='anchor' id='PT0'></a>"
   ],
   "metadata": {}
  },
  {
   "cell_type": "markdown",
   "source": [
    "Without any loss of generality an optimization problem can be defined by:"
   ],
   "metadata": {}
  },
  {
   "cell_type": "markdown",
   "source": [
    "$$\r\n",
    "\r\n",
    "\\begin{array}{cc}\r\n",
    "min & f_m(x) & m=1,..,M \\\\\r\n",
    "s.t. & g_j(x)≤0 & j=1,..,J \\\\\r\n",
    "& h_k(x)=0 & ek=1,..,K \\\\\r\n",
    "& x^L_i & i=1,..,N \\\\\r\n",
    "& x∈Ω & \\\\\r\n",
    "\\end{array}\r\n",
    "\r\n",
    "$$"
   ],
   "metadata": {}
  },
  {
   "cell_type": "markdown",
   "source": [
    "where\r\n",
    "* $x_i$ represents the $i$-th variable to be optimized,\r\n",
    "* $x^L_i$ and $x^U_i$ its lower and upper bound, \r\n",
    "* $f_m$ the $m$-th objective function,\r\n",
    "* $g_j$ the $j$−th inequality constraint and\r\n",
    "* $h_k$ the $k$-th equality constraint.\r\n"
   ],
   "metadata": {}
  },
  {
   "cell_type": "markdown",
   "source": [
    "The objective function(s) $f$ are supposed to be minimized by satisfying all equality and inequality constraints.\r\n",
    "\r\n",
    "If a specific objective function is maximized $(maxf_i)$,\r\n",
    "\r\n",
    "one can redefine the problem to minimize its negative value $(min−f_i)$."
   ],
   "metadata": {}
  },
  {
   "cell_type": "markdown",
   "source": [
    "Instead of starting coding your problem immediately, it is recommendable to first think about the mathematical problem formulation. Doing so makes you being aware of the complete optimization problem. This also helps you to identify the challenging facets of your optimization problem and, thus, to select a suitable algorithm. In this guide, we will demonstrate an example of a multi-objective problem, use\r\n",
    "<span style='color:hotpink'>pymoo</span>\r\n",
    "to obtain a solution set, and theoretically derive the optimum for verification purposes."
   ],
   "metadata": {}
  },
  {
   "cell_type": "markdown",
   "source": [
    "> **TIP**\r\n",
    "<br>\r\n",
    "If you are new to multi-objective optimization and are not familiar with essential concepts, a look into “Multi-Objective Optimization Using Evolutionary Algorithms ” by Kalyanmoy Deb might be a good starting point."
   ],
   "metadata": {}
  },
  {
   "cell_type": "markdown",
   "source": [
    "If you have some experience solving optimization problems, the following might already be apparent to you. However, if you are new to optimization, thinking about your problem’s characteristics is vital. In the following a few common facts and challenges to consider when intending to solve a (real-world) optimization problem are discussed:"
   ],
   "metadata": {}
  },
  {
   "cell_type": "markdown",
   "source": [
    "**Variable Types.**\r\n",
    "<br> The variables span the search\r\n",
    "<span style='color:hotpink'>space $Ω$</span>\r\n",
    "of your optimization problem. Thus, the\r\n",
    "<span style='color:hotpink'>type of variables</span>\r\n",
    "is an essential aspect of the problem to be paid attention to. Different variables types, such as\r\n",
    "<span style='color:turquoise'>\r\n",
    "continuous, discrete/integer, binary, or permutation,\r\n",
    "</span>\r\n",
    "define the characteristics of the search space. In some cases, the variable types might be even mixed, which increases the complexity further."
   ],
   "metadata": {}
  },
  {
   "cell_type": "markdown",
   "source": [
    "**Number of Variables.**\r\n",
    "<br> Not only the type but also the\r\n",
    "<span style='color:hotpink'>\r\n",
    "number of variables $(N)$\r\n",
    "</span>\r\n",
    "is essential. For either a very small or large number, different algorithms are known to work more efficiently. You can imagine that solving a problem with only ten variables is fundamentally different from solving one with a couple of thousand. For large-scale optimization problems, even the second-order derivate becomes computationally very expensive, and efficiently handling the memory plays a more important role."
   ],
   "metadata": {}
  },
  {
   "cell_type": "markdown",
   "source": [
    "**Number of Objectives.**\r\n",
    "<br>\r\n",
    "Some optimization problems have more than one\r\n",
    "<span style='color:hotpink'>\r\n",
    "conflicting objective $(M>1)$\r\n",
    "</span>\r\n",
    "to be optimized. Before researchers have investigated multi-objective optimization, single-objective problems were the main focus. Single-objective optimization is only a particular case where\r\n",
    "<span style='color:hotpink'>\r\n",
    "$M=1.$\r\n",
    "</span>\r\n",
    "<br>\r\n",
    "<br>\r\n",
    "In multi-objective optimization, the solution’s domination relation generalizes the comparison of\r\n",
    "<span style='color:hotpink'>\r\n",
    "two scalars\r\n",
    "</span>\r\n",
    "in single-objective optimization. Moreover, having more than one dimension in the objective space, the optimum (most of the time) consists of a set of\r\n",
    "<span style='color:hotpink'>\r\n",
    "non-dominated solutions.\r\n",
    "</span>\r\n",
    "Because a set of solutions should be obtained,\r\n",
    "<span style='color:hotpink'>\r\n",
    "**population-based algorithms**\r\n",
    "</span>\r\n",
    "have mainly been used as solvers."
   ],
   "metadata": {}
  },
  {
   "cell_type": "markdown",
   "source": [
    "**Constraints.**\r\n",
    "<br>\r\n",
    "Optimization problems have two types of constraints,\r\n",
    "\r\n",
    "* <span style='color:hotpink'>inequality $(g)$</span>\r\n",
    "and\r\n",
    "* <span style='color:hotpink'>equality $(h)$</span>\r\n",
    "constraints.\r\n",
    "\r\n",
    "From an end-user perspective, constraints have a priority over\r\n",
    "<span style='color:hotpink'>\r\n",
    "*objective values*.\r\n",
    "</span>\r\n",
    "No matter how good the solution’s objectives are, it is considered infeasible if it turns out to violate just a single constraint. Constraints can have a big impact on the complexity of the problem.\r\n",
    "<br>\r\n",
    "\r\n",
    "For instance, if only a few islands in the search space are feasible or a large number of constraints $(|J|+|K|)$ need to be satisfied. For genetic algorithms satisfying equality constraints can be rather **challenging.** Thus, this needs to be addressed differently, for instance, by mapping the search space to a utility space where the equality constraints are always satisfied or injecting the knowledge of the equality constraint through customization."
   ],
   "metadata": {}
  },
  {
   "cell_type": "markdown",
   "source": [
    "**Multi-modality.**\r\n",
    "<br>Most aspects discussed so far are most likely known or to be relatively easy to define. However, the nature of the\r\n",
    "<span style='color:hotpink'>\r\n",
    "fitness landscape\r\n",
    "</span>\r\n",
    "is less obvious bet yet essential to be aware of. In the case of multi-modal fitness landscapes, optimization becomes inevitably more difficult due to the existence of a few or even many local optima. For the solution found, one must always ask if the method has explored *enough regions* in the search space to maximize the probability of obtaining the \r\n",
    "<span style='color:hotpink'>\r\n",
    "global optimum.\r\n",
    "</span>\r\n",
    "A multi-modal search space quickly shows the limitation of local search, which can easily get stuck."
   ],
   "metadata": {}
  },
  {
   "cell_type": "markdown",
   "source": [
    "**Differentiability.**\r\n",
    "<br>A function being differentiable implies the **first or even second-order derivative** can be calculated. Differentiable functions allow\r\n",
    "<span style='color:hotpink'>\r\n",
    "gradient-based optimization methods\r\n",
    "</span>\r\n",
    "to be used, which can be a great advantage over gradient-free methods. The gradient provides a good indication of what **direction** shall be used for the search. Most gradient-based algorithms are point-by-point based and can be highly efficient for rather unimodal fitness landscapes. However, in practice, often functions are\r\n",
    "<span style='color:hotpink'>\r\n",
    "non-differentiable,\r\n",
    "</span>\r\n",
    "or a more complicated function requires a global instead of a local search. The research field addressing problems without knowing their mathematical optimization is also known as\r\n",
    "<span style='color:hotpink'>\r\n",
    "black-box optimization.\r\n",
    "</span>"
   ],
   "metadata": {}
  },
  {
   "cell_type": "markdown",
   "source": [
    "**Evaluation Time.**\r\n",
    "<br>Many optimization problems in practice consist of complicated and lengthy mathematical equations or\r\n",
    "<span style='color:hotpink'>\r\n",
    "domain-specific software\r\n",
    "</span>\r\n",
    "to be evaluated. The usage of third-party software often results in a computationally expensive and time-consuming function for evaluating objectives or constraints. For those types of problems, the algorithm’s overhead for determining the next solutions to be evaluated is often neglectable. A commercial software performing an evaluation often comes with various more practical issues such as distributed computing, several instances to be used in parallel and software license, and the software’s possible failure for specific design variable combinations."
   ],
   "metadata": {}
  },
  {
   "cell_type": "markdown",
   "source": [
    "**Uncertainty.**\r\n",
    "<br>Often it is assumed that the objective and constraint functions are of a deterministic manner. However, if one or multiple target functions are nondeterministic, this introduces noise or also referred to as uncertainty. One technique to address the underlying randomness is to \r\n",
    "**repeat the evaluation for different random seeds and average the resulting values.**\r\n",
    "Moreover, the standard deviation derived from multiple evaluations can be utilized to determine the performance and the reliability of a specific solution. In general, optimization problems with underlying uncertainty are investigated by the research field called stochastic optimization."
   ],
   "metadata": {}
  },
  {
   "cell_type": "markdown",
   "source": [
    "Of course, this shall not be an exhaustive list of problem characteristics but rather an idea of how fundamentally different optimization problems are. Being aware of possible challenges, one can make better decisions regarding a method and its suitability. In this tutorial, solving a constrained bi-objective optimization problem is demonstrated. This, and your problem’s characteristics, shall help you to use pymoo as a toolbox to tackle your optimization problem."
   ],
   "metadata": {}
  },
  {
   "cell_type": "markdown",
   "source": [
    "# **Part I: A Constrained Bi-objective Optimization Problem** <a class='anchor' id='PT1\\'></a>"
   ],
   "metadata": {}
  },
  {
   "cell_type": "markdown",
   "source": [
    "In the following, we investigate exemplarily a\r\n",
    "<span style='color:hotpink'>\r\n",
    "bi-objective optimization with two constraints.\r\n",
    "</span>\r\n",
    "We have tried to select a suitable optimization problem with enough complexity for demonstration purposes, but not too difficult to lose track of the overall idea. Its definition is given by:"
   ],
   "metadata": {}
  },
  {
   "cell_type": "markdown",
   "source": [
    "$$\r\n",
    "\r\n",
    "\\begin{array}{cc}\r\n",
    "min & f_m(x) & m=1,..,M \\\\\r\n",
    "s.t. & g_j(x)≤0 & j=1,..,J \\\\\r\n",
    " & h_k(x)=0 & ek=1,..,K \\\\\r\n",
    " & x^L_i & i=1,..,N \\\\\r\n",
    "  & x∈Ω & \\\\\r\n",
    "\\end{array}\r\n",
    "\r\n",
    "$$"
   ],
   "metadata": {}
  },
  {
   "cell_type": "markdown",
   "source": [
    "As already discussed in the Preface, let an optimization problem be defined by:\r\n",
    "\r\n"
   ],
   "metadata": {}
  },
  {
   "cell_type": "markdown",
   "source": [
    "$$\r\n",
    "\\begin{alignat}{}\r\n",
    "min \\,\\,\\, f_1(x)=100(x^2_1+x^2_2) \\\\\r\n",
    "\r\n",
    "max \\,\\,\\, f_2(x)=−(x_1−1)^2−x^2_2 \\\\\r\n",
    "\r\n",
    "s.t. \\,\\,\\, g_1(x)=2(x1−0.1)(x1−0.9)≤0 \\\\\r\n",
    "\r\n",
    "g_2(x)=20(x_1−0.4)(x_1−0.6)≥0 \\\\\r\n",
    "\r\n",
    "−2≤x_1≤2 \\\\\r\n",
    "\r\n",
    "−2≤x_2≤2 \\\\\r\n",
    "\r\n",
    "x∈R\r\n",
    "\\end{alignat}\r\n",
    "\r\n",
    "$$"
   ],
   "metadata": {}
  },
  {
   "cell_type": "markdown",
   "source": [
    "The the example problem to be solved in this getting started guide is given by:\r\n",
    "\r\n"
   ],
   "metadata": {}
  },
  {
   "cell_type": "markdown",
   "source": [
    "The problem consists of two objectives $(M=2)$ where $f_1(x)$ is minimized and $f_2(x)$ maximized. The optimization is subject to two inequality constraints $(J=2)$ where $g_1(x)$ is formulated as a less than and $g_2(x)$ as a greater than constraint. The problem is defined with respect to two variables $(N=2)$, $x_1$ and $x_2$, both in the range $[−2,2].$ The problem does not contain any equality constraints $(K=0).$"
   ],
   "metadata": {}
  },
  {
   "cell_type": "markdown",
   "source": [
    "> **Note**\r\n",
    "<br>\r\n",
    "Next, we derive the optimum for the given optimization problem. It is worth pointing out that this is not a requirement for pymoo and is just done for verification purposes here. Moreover, this is a valuable exercise to understand the design and objective space mapping."
   ],
   "metadata": {}
  },
  {
   "cell_type": "markdown",
   "source": [
    "Let us analyze where the Pareto-optimal solutions have to lie.\r\n",
    "* The first objective $f_1$ is minimized at $(0,0)$,\r\n",
    "whereas\r\n",
    "* The second object $f_2$ at $(1,0).$\r\n",
    "<br>\r\n",
    "\r\n",
    "Because both functions are of quadratic nature, the optimum is given by a straight line between the two optima. This means all Pareto-optimal solutions (ignoring the constraints for now) have in common that $x_2=0$ and $x_1∈(0,1)$. The first constraint only relies on $x_1$ and is satisfied if $x_1∈(0.1,0.9).$ The second constraint $g_2$ is satisfied for $x_1∈(0.4,0.6).$ This means analytically, the pareto-optimal set is given by\r\n",
    "$PS={(x_1,x_2)|(0.1≤x1≤0.4)∨(0.6≤x1≤0.9)∧x2=0}.$"
   ],
   "metadata": {}
  },
  {
   "cell_type": "code",
   "execution_count": 6,
   "source": [
    "import numpy as np"
   ],
   "outputs": [],
   "metadata": {}
  },
  {
   "cell_type": "code",
   "execution_count": 7,
   "source": [
    "X1, X2 = np.meshgrid(np.linspace(-2, 2, 500), np.linspace(-2, 2, 500))\r\n",
    "\r\n",
    "F1 = X1**2 + X2**2\r\n",
    "F2 = (X1-1)**2 + X2**2\r\n",
    "G = X1**2 - X1 + 3/16\r\n",
    "\r\n",
    "G1 = 2 * (X1[0] - 0.1) * (X1[0] - 0.9)\r\n",
    "G2 = 20 * (X1[0] - 0.4) * (X1[0] - 0.6)"
   ],
   "outputs": [],
   "metadata": {}
  },
  {
   "cell_type": "code",
   "execution_count": 8,
   "source": [
    "import matplotlib.pyplot as plt\r\n",
    "plt.rc('font', family='serif')"
   ],
   "outputs": [],
   "metadata": {}
  },
  {
   "cell_type": "code",
   "execution_count": 9,
   "source": [
    "levels = [0.02, 0.1, 0.25, 0.5, 0.8]\r\n",
    "plt.figure(figsize=(7, 5))\r\n",
    "CS = plt.contour(X1, X2, F1, levels, colors='black', alpha=0.5)\r\n",
    "CS.collections[0].set_label(\"$f_1(x)$\")\r\n",
    "\r\n",
    "CS = plt.contour(X1, X2, F2, levels, linestyles=\"dashed\", colors='black', alpha=0.5)\r\n",
    "CS.collections[0].set_label(\"$f_2(x)$\")\r\n",
    "\r\n",
    "plt.plot(X1[0], G1, linewidth=2.0, color=\"green\", linestyle='dotted')\r\n",
    "plt.plot(X1[0][G1<0], G1[G1<0], label=\"$g_1(x)$\", linewidth=2.0, color=\"green\")\r\n",
    "\r\n",
    "plt.plot(X1[0], G2, linewidth=2.0, color=\"blue\", linestyle='dotted')\r\n",
    "plt.plot(X1[0][X1[0]>0.6], G2[X1[0]>0.6], label=\"$g_2(x)$\",linewidth=2.0, color=\"blue\")\r\n",
    "plt.plot(X1[0][X1[0]<0.4], G2[X1[0]<0.4], linewidth=2.0, color=\"blue\")\r\n",
    "\r\n",
    "plt.plot(np.linspace(0.1,0.4,100), np.zeros(100),linewidth=3.0, color=\"orange\")\r\n",
    "plt.plot(np.linspace(0.6,0.9,100), np.zeros(100),linewidth=3.0, color=\"orange\")\r\n",
    "\r\n",
    "plt.xlim(-0.5, 1.5)\r\n",
    "plt.ylim(-0.5, 1)\r\n",
    "plt.xlabel(\"$x_1$\")\r\n",
    "plt.ylabel(\"$x_2$\")\r\n",
    "\r\n",
    "plt.legend(loc='upper center', bbox_to_anchor=(0.5, 1.12),\r\n",
    "          ncol=4, fancybox=True, shadow=False)\r\n",
    "\r\n",
    "plt.tight_layout()\r\n",
    "plt.show()"
   ],
   "outputs": [
    {
     "output_type": "display_data",
     "data": {
      "image/png": "[encoded data removed]",
      "text/plain": [
       "<Figure size 504x360 with 1 Axes>"
      ]
     },
     "metadata": {
      "needs_background": "light"
     }
    }
   ],
   "metadata": {}
  },
  {
   "cell_type": "markdown",
   "source": [
    "The figure below shows the problem’s functions in the design space and might help to see the relationship between the functions intuitively. The contour lines of the objective function $f_1(x)$ is represented by a solid and $f_2(x)$ by a dashed line. The constraints $g_1(x)$ and $g_2(x)$ are parabolas which intersect the $x_1$-axis at $(0.1,0.9)$ and $(0.4,0.6).$\r\n",
    "A thick orange line illustrates the\r\n",
    "<span style='color:orange'>\r\n",
    "Pareto-optimal set.\r\n",
    "</span>\r\n",
    "When considering both constraints together, the Pareto-set shown in orange is split into two parts as analytically derived above."
   ],
   "metadata": {}
  },
  {
   "cell_type": "markdown",
   "source": [
    "Next, we derive the Pareto-front by mapping the Pareto-set to the objective space. The Pareto-front equation is based on $f_2$ depending on the variable of $f_1$. We know that at the optimum $x_2=0$ which means we can simplify the objective functions to $f_1(x)=100x^2_1$ and $f_2(x)=−(x_1−1)^2.$ The first objective $f_1$ can be reformulated to $x_1=\\sqrt[]{\\frac{f1}{100}}$ and then be put into the second objective which results in"
   ],
   "metadata": {}
  },
  {
   "cell_type": "markdown",
   "source": [
    "$$\r\n",
    "\r\n",
    "f_2 =−(  \\sqrt[]{\\frac{f1}{100}} - 1)^2\r\n",
    "\r\n",
    "$$"
   ],
   "metadata": {}
  },
  {
   "cell_type": "markdown",
   "source": [
    "The equation defines the shape, however,\r\n",
    "<span style='color:hotpink'>\r\n",
    "next all possible values for $f_1$\r\n",
    "</span>\r\n",
    "need to be defined.\r\n",
    "\r\n",
    "As shown before the Pareto-set is defined for\r\n",
    "$(0.1≤x1≤0.4) ∨ (0.6≤x1≤0.9)∧x2=0.$\r\n",
    "\r\n",
    "If we plug in the values for\r\n",
    "$x_1$\r\n",
    "into\r\n",
    "$f_1$\r\n",
    "we get the points of interest\r\n",
    "$[1,16]$\r\n",
    "and\r\n",
    "$[36,81].$\r\n",
    "Thus the Pareto-front is given by:"
   ],
   "metadata": {}
  },
  {
   "cell_type": "code",
   "execution_count": 10,
   "source": [
    "import numpy as np\r\n",
    "import matplotlib.pyplot as plt\r\n",
    "\r\n",
    "plt.figure(figsize=(7, 5))\r\n",
    "\r\n",
    "f2 = lambda f1: - ((f1/100) ** 0.5 - 1)**2\r\n",
    "F1_a, F1_b = np.linspace(1, 16, 300), np.linspace(36, 81, 300)\r\n",
    "F2_a, F2_b = f2(F1_a), f2(F1_b)\r\n",
    "\r\n",
    "plt.rc('font', family='serif')\r\n",
    "plt.plot(F1_a,F2_a, linewidth=2.0, color=\"green\", label=\"Pareto-front\")\r\n",
    "plt.plot(F1_b,F2_b, linewidth=2.0, color=\"green\")\r\n",
    "\r\n",
    "plt.xlabel(\"$f_1$\")\r\n",
    "plt.ylabel(\"$f_2$\")\r\n",
    "\r\n",
    "plt.legend(loc='upper center', bbox_to_anchor=(0.5, 1.10),\r\n",
    "          ncol=4, fancybox=True, shadow=False)\r\n",
    "\r\n",
    "plt.tight_layout()\r\n",
    "plt.show()"
   ],
   "outputs": [
    {
     "output_type": "display_data",
     "data": {
      "image/png": "[encoded data removed]",
      "text/plain": [
       "<Figure size 504x360 with 1 Axes>"
      ]
     },
     "metadata": {
      "needs_background": "light"
     }
    }
   ],
   "metadata": {}
  },
  {
   "cell_type": "markdown",
   "source": [
    "As a quick check, we shall verify if this is a non-dominated set. Keeping in mind that the first objective is minimized and the second maximized for this optimization problem, a better solution lies on the top left. This means the derived Pareto-front makes sense."
   ],
   "metadata": {}
  },
  {
   "cell_type": "markdown",
   "source": [
    "> **Hint**\r\n",
    "<br>\r\n",
    "Researchers have developed all kinds of test problems and derived their optima from designing and comparing suitable optimization algorithms. However, deriving the Pareto-set and Pareto-front from a mathematical problem formulation can become quite challenging for more complicated problems or not even be possible. Also, not all algorithms can be put into a math equation and might be of a black-box nature. Thus, we use optimization algorithms to find (near-optimal) solutions using well-benchmarked algorithms."
   ],
   "metadata": {}
  },
  {
   "cell_type": "markdown",
   "source": [
    "# **Part II: Find a Solution Set using Multi-objective Optimization** <a class='anchor' id='PT2'></a>"
   ],
   "metadata": {}
  },
  {
   "cell_type": "markdown",
   "source": [
    "The constrained bi-objective problem from Part I was defined by\r\n",
    "\r\n"
   ],
   "metadata": {}
  },
  {
   "cell_type": "markdown",
   "source": [
    "$$\r\n",
    "\\begin{alignat}{}\r\n",
    "min \\,\\,\\, f_1(x)=100(x^2_1+x^2_2) \\\\\r\n",
    "\r\n",
    "max \\,\\,\\, f_2(x)=−(x_1−1)^2−x^2_2 \\\\\r\n",
    "\r\n",
    "s.t. \\,\\,\\, g_1(x)=2(x1−0.1)(x1−0.9)≤0 \\\\\r\n",
    "\r\n",
    "g_2(x)=20(x_1−0.4)(x_1−0.6)≥0 \\\\\r\n",
    "\r\n",
    "−2≤x_1≤2 \\\\\r\n",
    "\r\n",
    "−2≤x_2≤2 \\\\\r\n",
    "\r\n",
    "x∈R\r\n",
    "\\end{alignat}\r\n",
    "\r\n",
    "$$"
   ],
   "metadata": {}
  },
  {
   "cell_type": "markdown",
   "source": [
    "To implement the problem in **pymoo** some more work has to be done.\r\n",
    "\r\n"
   ],
   "metadata": {}
  },
  {
   "cell_type": "markdown",
   "source": [
    "> **Problem Definition**\r\n",
    "<br>\r\n",
    "Most optimization frameworks commit to either minimize or maximize all objectives and to have only ≤ or ≥ constraints. In pymoo, each objective function is supposed to be *minimized*, and each constraint needs to be provided in the form of $≤0.$"
   ],
   "metadata": {}
  },
  {
   "cell_type": "markdown",
   "source": [
    "Thus, we need to multiple an objective that is supposed to be maximized by $−1$ and minimize it. This results in minimizing $−f_2(x)$ instead of maximizing $f_2(x).$\r\n",
    "Moreover, the\r\n",
    "<span style='color:hotpink'>\r\n",
    "inequality constraints\r\n",
    "</span>\r\n",
    "need to be formulated as less than zero $(≤0)$ constraint. For this reason, $g_2(x)$ is multiplied by $−1$ in order to flip inequality relation. Also, we recommend the normalization of constraints to make them operating on the same scale and giving them equal importance. For $g_1(x)$, the\r\n",
    "<span style='color:hotpink'>\r\n",
    "coefficient\r\n",
    "</span>\r\n",
    "results in $2⋅(−0.1)⋅(−0.9)=0.18$ and for $g_2(x)$ in $20⋅(−0.4)⋅(−0.6)=4.8$, respectively. We achieve normalization of constraints by dividing $g_1(x)$ and $g_2(x)$ by its corresponding coefficient."
   ],
   "metadata": {}
  },
  {
   "cell_type": "markdown",
   "source": [
    "After these reformulations the problem to be implemented is given by:\r\n",
    "\r\n"
   ],
   "metadata": {}
  },
  {
   "cell_type": "markdown",
   "source": [
    "$$\r\n",
    "\\begin{alignat}{}\r\n",
    "min \\,\\,\\, f_1(x)=100(x^2_1+x^2_2) \\\\\r\n",
    "\r\n",
    "min \\,\\,\\, f_2(x)=(x_1−1)^2+x^2_2 \\\\\r\n",
    "\r\n",
    "s.t. \\,\\,\\, g_1(x)=2(x1−0.1)(x1−0.9)/0.18≤0 \\\\\r\n",
    "\r\n",
    "g_2(x)=-20(x_1−0.4)(x_1−0.6)/4.8≤0 \\\\\r\n",
    "\r\n",
    "−2≤x_1≤2 \\\\\r\n",
    "\r\n",
    "−2≤x_2≤2 \\\\\r\n",
    "\r\n",
    "x∈R\r\n",
    "\\end{alignat}\r\n",
    "\r\n",
    "$$"
   ],
   "metadata": {}
  },
  {
   "cell_type": "markdown",
   "source": [
    "## Implement the Problem"
   ],
   "metadata": {}
  },
  {
   "cell_type": "markdown",
   "source": [
    "After having formulated the problem the right way, we can start implementing it. In this tutorial we the\r\n",
    "<span style='color:hotpink'>\r\n",
    "element-wise problem definition,\r\n",
    "</span>\r\n",
    "which is one out of three different ways for implementing a problem. We define a new Python objective inheriting from\r\n",
    "<span style='color:hotpink'>ElementwiseProblem</span>\r\n",
    "and set the correct attributes, such as the number of objectives (\r\n",
    "<span style='color:hotpink'>n_obj</span>\r\n",
    ") and constraints (\r\n",
    "<span style='color:hotpink'>n_constr</span>\r\n",
    ") and the lower (\r\n",
    "<span style='color:hotpink'>x1</span>\r\n",
    ") and upper bounds (\r\n",
    "<span style='color:hotpink'>xu</span>\r\n",
    "). The function being responsible for the evaluation is _evaluate which shall be implemented next. The function’s interface is the parameters x and out.\r\n",
    "<br>\r\n",
    "<br>For this element-wise implementation x is a one-dimensional NumPy array of length n_var which represents a single solution to be evaluated. The output is supposed to be written to the dictionary out. The objective values should be written to <span style='color:hotpink'>out[\"F\"]</span>\r\n",
    "as a list of NumPy array with length of\r\n",
    "<span style='color:hotpink'>n_obj</span>\r\n",
    "and the constraints to\r\n",
    "<span style='color:hotpink'>out[\"G\"]</span>\r\n",
    "with length of\r\n",
    "<span style='color:hotpink'>n_constr</span>\r\n",
    "(if the problem has constraints to be satisfied at all)."
   ],
   "metadata": {}
  },
  {
   "cell_type": "code",
   "execution_count": null,
   "source": [
    "<span style='color:hotpink'></span>"
   ],
   "outputs": [],
   "metadata": {}
  },
  {
   "cell_type": "code",
   "execution_count": 11,
   "source": [
    "import numpy as np\r\n",
    "from pymoo.core.problem import ElementwiseProblem\r\n",
    "\r\n",
    "class MyProblem(ElementwiseProblem):\r\n",
    "\r\n",
    "    def __init__(self):\r\n",
    "        super().__init__(n_var=2,\r\n",
    "                         n_obj=2,\r\n",
    "                         n_constr=2,\r\n",
    "                         xl=np.array([-2,-2]),\r\n",
    "                         xu=np.array([2,2]))\r\n",
    "\r\n",
    "    def _evaluate(self, x, out, *args, **kwargs):\r\n",
    "        f1 = 100 * (x[0]**2 + x[1]**2)\r\n",
    "        f2 = (x[0]-1)**2 + x[1]**2\r\n",
    "\r\n",
    "        g1 = 2*(x[0]-0.1) * (x[0]-0.9) / 0.18\r\n",
    "        g2 = - 20*(x[0]-0.4) * (x[0]-0.6) / 4.8\r\n",
    "\r\n",
    "        out[\"F\"] = [f1, f2]\r\n",
    "        out[\"G\"] = [g1, g2]\r\n",
    "\r\n",
    "\r\n",
    "problem = MyProblem()"
   ],
   "outputs": [],
   "metadata": {}
  },
  {
   "cell_type": "markdown",
   "source": [
    "> **Tip**\r\n",
    "<br>\r\n",
    "A problem can be defined in a couple of different ways. Above, the implementation of an\r\n",
    "**element-wise**\r\n",
    "implementation is demonstrated, which means the _evaluate is called for each solution x at a time. Other ways of implementing a problem are\r\n",
    "**vectorized,**\r\n",
    "where x represents a whole set of solutions or a functional and probably more pythonic way by providing for each objective and constraint as a\r\n",
    "**function.**\r\n",
    "For more details, please have a look at the Problem tutorial."
   ],
   "metadata": {}
  },
  {
   "cell_type": "markdown",
   "source": [
    "If you use pymoo as a researcher trying to improve existing algorithms, you might want to have a look at the varierity of single- and many-objective optimization test problems already implemented."
   ],
   "metadata": {}
  },
  {
   "cell_type": "markdown",
   "source": [
    "* [Optimization Test Problems](https://pymoo.org/problems/index.html)\r\n",
    "* [Define a Custom Problem](https://pymoo.org/problems/definition.html)\r\n",
    "* [Parallelization](https://pymoo.org/problems/parallelization.html)\r\n",
    "* [Callback](https://pymoo.org/interface/callback.html)\r\n",
    "* [Constraint Handling](https://pymoo.org/misc/constraints.html)"
   ],
   "metadata": {}
  },
  {
   "cell_type": "markdown",
   "source": [
    "## Initialize an Algorithm"
   ],
   "metadata": {}
  },
  {
   "cell_type": "markdown",
   "source": [
    "The reason why you became aware of this framework, is probably the existence of an algorithm you like to use. pymoo follows an object oriented approach and, thus, we have to define an algorithm object next.\r\n",
    "<br>\r\n",
    "<br>\r\n",
    "Depending on the optimization problem, different algorithms will perform better or worse on different kind of problems. It is recommendable to first understand the intuition behind an algorithm and then select one which seems to be most suitable for solving your optimization problem. A list of algorithms which are available in pymoo is available\r\n",
    "[here.](https://pymoo.org/algorithms/index.html)\r\n",
    "<br>\r\n",
    "<br>\r\n",
    "In our case, the optimization problem is rather simple, but the aspect of having two objectives and two constraints should be considered. Thus, let us select the well-known multi-objective algorithm\r\n",
    "[NSGA-II.](https://pymoo.org/algorithms/moo/nsga2.html)\r\n",
    "<br>\r\n",
    "<br>\r\n",
    "For the majority of algorithms you could either choose the default hyper-parameters or create your own version of the algorithm by modifying them. For instance, for this relatively simple problem we choose a population size of 40 (\r\n",
    "<span style='color:hotpink'>pop_size=40</span>\r\n",
    ") and with only 10 (\r\n",
    "<span style='color:hotpink'>n_offsprings=10</span>\r\n",
    ") in each generation. Such an implementation is a greedier variant and improves the convergence of simpler optimization problems without major difficulties regarding optimization, such as the existence of local Pareto-fronts.\r\n",
    "<br>\r\n",
    "<br>\r\n",
    "Moreover, we enable a duplicate check (\r\n",
    "<span style='color:hotpink'>eliminate_duplicates=True</span>\r\n",
    "), making sure that the mating produces offsprings that are different from themselves and the existing population regarding their design space values."
   ],
   "metadata": {}
  },
  {
   "cell_type": "code",
   "execution_count": 12,
   "source": [
    "from pymoo.algorithms.moo.nsga2 import NSGA2\r\n",
    "from pymoo.factory import get_sampling, get_crossover, get_mutation\r\n",
    "\r\n",
    "algorithm = NSGA2(\r\n",
    "    pop_size=40,\r\n",
    "    n_offsprings=10,\r\n",
    "    sampling=get_sampling(\"real_random\"),\r\n",
    "    crossover=get_crossover(\"real_sbx\", prob=0.9, eta=15),\r\n",
    "    mutation=get_mutation(\"real_pm\", eta=20),\r\n",
    "    eliminate_duplicates=True\r\n",
    ")"
   ],
   "outputs": [],
   "metadata": {}
  },
  {
   "cell_type": "markdown",
   "source": [
    "The\r\n",
    "<span style='color:hotpink'>algorithm</span>\r\n",
    "object contains an implementation of NSGA-II with the custom configuration discussed above. The object can now be used to start an optimization run."
   ],
   "metadata": {}
  },
  {
   "cell_type": "markdown",
   "source": [
    "> **Tip**\r\n",
    "<br>\r\n",
    "The documentation is designed to make it easy to get started and to copy code for each of the algorithms. However, please be aware that each algorithm comes with all kinds of hyper-parameters to be considered. If an algorithm turns out not to show a good convergence behavior, we encourage you to try different algorithm configurations. For instance, for population-based approaches the population size and number of offsprings, as well as the parameters used for recombination operators are a good starting point.\r\n",
    "\r\n"
   ],
   "metadata": {}
  },
  {
   "cell_type": "markdown",
   "source": [
    "## Define a Termination Criterion"
   ],
   "metadata": {}
  },
  {
   "cell_type": "markdown",
   "source": [
    "Furthermore, a termination criterion needs to be defined to start the optimization procedure. Most common ways of defining the termination is by limiting the overall number of function evaluations or simply the number of iterations of the algorithm. Moreover, some algorithms already have implemented their own, for instance Nelder-Mead when the simplex becomes degenerated or CMA-ES where a vendor library is used. Because of the simplicity of this problem we use a rather small number of 40 iteration of the algorithm."
   ],
   "metadata": {}
  },
  {
   "cell_type": "code",
   "execution_count": 38,
   "source": [
    "from pymoo.factory import get_termination\r\n",
    "\r\n",
    "termination = get_termination(\"n_gen\", 40)"
   ],
   "outputs": [],
   "metadata": {}
  },
  {
   "cell_type": "markdown",
   "source": [
    "> **Tip**\r\n",
    "<br>\r\n",
    "A convergence analysis will show how much progress an algorithm has made at what time. Always keep in mind that having the most suitable algorithm but running it not long enough might prevent from finding the global optimum. However, continuing with optimization of an algorithm that got stuck or has already found the optimum will not improve the best found solution and unnecessarily increase the number of function evaluations."
   ],
   "metadata": {}
  },
  {
   "cell_type": "markdown",
   "source": [
    "You can find a list and explanations of termination criteria available in pymoo [here.](https://pymoo.org/interface/termination.html) If no termination criteria is defined, then the progress in the design and objective space will kept track of in each iteration. When no significant progress has been made (this is the art of defining what that shall be), the algorithm terminates.\r\n",
    "\r\n"
   ],
   "metadata": {}
  },
  {
   "cell_type": "markdown",
   "source": [
    "## Optimize"
   ],
   "metadata": {}
  },
  {
   "cell_type": "markdown",
   "source": [
    "Finally, we are solving the\r\n",
    "<span style='color:hotpink'>problem</span>\r\n",
    "with the\r\n",
    "<span style='color:hotpink'>algorithm</span>\r\n",
    "and\r\n",
    "<span style='color:hotpink'>termination</span>\r\n",
    "we have defined. The functional interface uses the\r\n",
    "<span style='color:hotpink'>minimize</span>\r\n",
    "method. By default, the\r\n",
    "<span style='color:hotpink'>minimize</span>\r\n",
    "performs deep-copies of the algorithm and the termination object which guarantees they are not modified during the function call. This is important to ensure that repetitive function calls with the same random seed end up with the same results. When the algorithm has been terminated, the\r\n",
    "<span style='color:hotpink'>minimize</span>\r\n",
    "function returns a\r\n",
    "[Result](https://pymoo.org/interface/result.html)\r\n",
    "object"
   ],
   "metadata": {}
  },
  {
   "cell_type": "code",
   "execution_count": 14,
   "source": [
    "from pymoo.optimize import minimize\r\n",
    "\r\n",
    "res = minimize(problem,\r\n",
    "               algorithm,\r\n",
    "               termination,\r\n",
    "               seed=1,\r\n",
    "               save_history=True,\r\n",
    "               verbose=True)\r\n",
    "\r\n",
    "X = res.X\r\n",
    "F = res.F"
   ],
   "outputs": [
    {
     "output_type": "stream",
     "name": "stdout",
     "text": [
      "=====================================================================================\n",
      "n_gen |  n_eval |   cv (min)   |   cv (avg)   |  n_nds  |     eps      |  indicator  \n",
      "=====================================================================================\n",
      "    1 |      40 |  0.00000E+00 |  2.36399E+01 |       1 |            - |            -\n",
      "    2 |      50 |  0.00000E+00 |  1.15486E+01 |       1 |  0.00000E+00 |            f\n",
      "    3 |      60 |  0.00000E+00 |  5.277918607 |       1 |  0.00000E+00 |            f\n",
      "    4 |      70 |  0.00000E+00 |  2.406068542 |       2 |  1.000000000 |        ideal\n",
      "    5 |      80 |  0.00000E+00 |  0.908316880 |       3 |  0.869706146 |        ideal\n",
      "    6 |      90 |  0.00000E+00 |  0.264746300 |       3 |  0.00000E+00 |            f\n",
      "    7 |     100 |  0.00000E+00 |  0.054063822 |       4 |  0.023775686 |        ideal\n",
      "    8 |     110 |  0.00000E+00 |  0.003060876 |       5 |  0.127815454 |        ideal\n",
      "    9 |     120 |  0.00000E+00 |  0.00000E+00 |       6 |  0.085921728 |        ideal\n",
      "   10 |     130 |  0.00000E+00 |  0.00000E+00 |       7 |  0.015715204 |            f\n",
      "   11 |     140 |  0.00000E+00 |  0.00000E+00 |       8 |  0.015076323 |            f\n",
      "   12 |     150 |  0.00000E+00 |  0.00000E+00 |       7 |  0.026135665 |            f\n",
      "   13 |     160 |  0.00000E+00 |  0.00000E+00 |      10 |  0.010026699 |            f\n",
      "   14 |     170 |  0.00000E+00 |  0.00000E+00 |      11 |  0.011833783 |            f\n",
      "   15 |     180 |  0.00000E+00 |  0.00000E+00 |      12 |  0.008294035 |            f\n",
      "   16 |     190 |  0.00000E+00 |  0.00000E+00 |      14 |  0.006095993 |        ideal\n",
      "   17 |     200 |  0.00000E+00 |  0.00000E+00 |      17 |  0.002510398 |        ideal\n",
      "   18 |     210 |  0.00000E+00 |  0.00000E+00 |      20 |  0.003652660 |            f\n",
      "   19 |     220 |  0.00000E+00 |  0.00000E+00 |      20 |  0.010131820 |        nadir\n",
      "   20 |     230 |  0.00000E+00 |  0.00000E+00 |      21 |  0.005676014 |            f\n",
      "   21 |     240 |  0.00000E+00 |  0.00000E+00 |      25 |  0.010464402 |            f\n",
      "   22 |     250 |  0.00000E+00 |  0.00000E+00 |      25 |  0.000547515 |            f\n",
      "   23 |     260 |  0.00000E+00 |  0.00000E+00 |      28 |  0.001050255 |            f\n",
      "   24 |     270 |  0.00000E+00 |  0.00000E+00 |      33 |  0.003841298 |            f\n",
      "   25 |     280 |  0.00000E+00 |  0.00000E+00 |      37 |  0.006664377 |        nadir\n",
      "   26 |     290 |  0.00000E+00 |  0.00000E+00 |      40 |  0.000963164 |            f\n",
      "   27 |     300 |  0.00000E+00 |  0.00000E+00 |      40 |  0.000678243 |            f\n",
      "   28 |     310 |  0.00000E+00 |  0.00000E+00 |      40 |  0.000815766 |            f\n",
      "   29 |     320 |  0.00000E+00 |  0.00000E+00 |      40 |  0.001500814 |            f\n",
      "   30 |     330 |  0.00000E+00 |  0.00000E+00 |      40 |  0.014706442 |        nadir\n",
      "   31 |     340 |  0.00000E+00 |  0.00000E+00 |      40 |  0.003554320 |        ideal\n",
      "   32 |     350 |  0.00000E+00 |  0.00000E+00 |      40 |  0.000624123 |            f\n",
      "   33 |     360 |  0.00000E+00 |  0.00000E+00 |      40 |  0.000203925 |            f\n",
      "   34 |     370 |  0.00000E+00 |  0.00000E+00 |      40 |  0.001048509 |            f\n",
      "   35 |     380 |  0.00000E+00 |  0.00000E+00 |      40 |  0.001121103 |            f\n",
      "   36 |     390 |  0.00000E+00 |  0.00000E+00 |      40 |  0.000664461 |            f\n",
      "   37 |     400 |  0.00000E+00 |  0.00000E+00 |      40 |  0.000761066 |            f\n",
      "   38 |     410 |  0.00000E+00 |  0.00000E+00 |      40 |  0.000521906 |            f\n",
      "   39 |     420 |  0.00000E+00 |  0.00000E+00 |      40 |  0.004652095 |        nadir\n",
      "   40 |     430 |  0.00000E+00 |  0.00000E+00 |      40 |  0.000287847 |            f\n"
     ]
    }
   ],
   "metadata": {}
  },
  {
   "cell_type": "markdown",
   "source": [
    "If the\r\n",
    "<span style='color:hotpink'>verbose=True</span>\r\n",
    ", some printouts during the algorithm’s execution are provided. This can very from algorithm to algorithm. Here, we execute\r\n",
    "<span style='color:hotpink'>NSGA2</span>\r\n",
    "on a problem where pymoo has no knowledge about the optimum.\r\n",
    "<br>\r\n",
    "<br>\r\n",
    "Each line represents one iteration. The first two columns are the current generation counter and the number of evaluations so far. For constrained problems, the next two columns show the minimum constraint violation (cv (min)) and the average constraint violation (cv (avg)) in the current population.\r\n",
    "<br>\r\n",
    "<br>\r\n",
    "This is followed by the number of non-dominated solutions (n_nds) and two more metrics which represents the movement in the objective space."
   ],
   "metadata": {}
  },
  {
   "cell_type": "markdown",
   "source": [
    "> **Tip**\r\n",
    "<br>\r\n",
    "An algorithm can be executed by using the minimize interface as shown below. In order to have more control over the algorithm execution, pymoo also offers an object-oriented execution. For an example and a discussion of each’s pros and cons, please consult or algorithm tutorial.\r\n",
    "\r\n"
   ],
   "metadata": {}
  },
  {
   "cell_type": "markdown",
   "source": [
    "## Visualize"
   ],
   "metadata": {}
  },
  {
   "cell_type": "markdown",
   "source": [
    "Analyzing the solutions being found by the algorithm is vital. Always a good start is visualizing the solutions to get a grasp of commonalities or if the Pareto-front is known to even check the convergence."
   ],
   "metadata": {}
  },
  {
   "cell_type": "code",
   "execution_count": 15,
   "source": [
    "import matplotlib.pyplot as plt\r\n",
    "xl, xu = problem.bounds()\r\n",
    "plt.figure(figsize=(7, 5))\r\n",
    "plt.scatter(X[:, 0], X[:, 1], s=30, facecolors='none', edgecolors='r')\r\n",
    "plt.xlim(xl[0], xu[0])\r\n",
    "plt.ylim(xl[1], xu[1])\r\n",
    "plt.title(\"Design Space\")\r\n",
    "plt.show()"
   ],
   "outputs": [
    {
     "output_type": "display_data",
     "data": {
      "image/png": "[encoded data removed]",
      "text/plain": [
       "<Figure size 504x360 with 1 Axes>"
      ]
     },
     "metadata": {
      "needs_background": "light"
     }
    }
   ],
   "metadata": {}
  },
  {
   "cell_type": "markdown",
   "source": [
    "# **Part III: Multi-Criteria Decision Making** <a class='anchor' id='PT3'></a>"
   ],
   "metadata": {}
  },
  {
   "cell_type": "markdown",
   "source": [
    "Having now obtained a set of non-dominated solutions, one can ask how a decision-maker can nail down the set to only a few or even a single solution. This decision-making process for multi-objective problems is also known as Multi-Criteria Decision Making (MCDM). You should know that the main focus of pymoo lies in the optimization, not the MCDM part. However, the framework offers some rudimentary tools to find an appropriate solution.\r\n",
    "<br>\r\n",
    "<br>\r\n",
    "The Pareto-optimal solutions obtained from the optimization procedure are given by:"
   ],
   "metadata": {}
  },
  {
   "cell_type": "code",
   "execution_count": 16,
   "source": [
    "plt.figure(figsize=(7, 5))\r\n",
    "plt.scatter(F[:, 0], F[:, 1], s=30, facecolors='none', edgecolors='blue')\r\n",
    "plt.title(\"Objective Space\")\r\n",
    "plt.show()"
   ],
   "outputs": [
    {
     "output_type": "display_data",
     "data": {
      "image/png": "[encoded data removed]",
      "text/plain": [
       "<Figure size 504x360 with 1 Axes>"
      ]
     },
     "metadata": {
      "needs_background": "light"
     }
    }
   ],
   "metadata": {}
  },
  {
   "cell_type": "markdown",
   "source": [
    "Before we start using any technique, we should note that the objectives have a different scale. What has not been a problem for single-objective optimization because not more than one dimension existed now becomes fundamentally important to consider."
   ],
   "metadata": {}
  },
  {
   "cell_type": "code",
   "execution_count": 17,
   "source": [
    "fl = F.min(axis=0)\r\n",
    "fu = F.max(axis=0)\r\n",
    "print(f\"Scale f1: [{fl[0]}, {fu[0]}]\")\r\n",
    "print(f\"Scale f2: [{fl[1]}, {fu[1]}]\")"
   ],
   "outputs": [
    {
     "output_type": "stream",
     "name": "stdout",
     "text": [
      "Scale f1: [1.3377795039158735, 74.97223429467643]\n",
      "Scale f2: [0.01809179532919018, 0.7831767823138307]\n"
     ]
    }
   ],
   "metadata": {}
  },
  {
   "cell_type": "code",
   "execution_count": 18,
   "source": [
    "F = res.F\r\n",
    "xl, xu = problem.bounds()\r\n",
    "plt.figure(figsize=(7, 5))\r\n",
    "plt.scatter(F[:, 0], F[:, 1], s=30, facecolors='none', edgecolors='blue')\r\n",
    "plt.title(\"Objective Space\")\r\n",
    "plt.show()"
   ],
   "outputs": [
    {
     "output_type": "display_data",
     "data": {
      "image/png": "[encoded data removed]",
      "text/plain": [
       "<Figure size 504x360 with 1 Axes>"
      ]
     },
     "metadata": {
      "needs_background": "light"
     }
    }
   ],
   "metadata": {}
  },
  {
   "cell_type": "code",
   "execution_count": 19,
   "source": [
    "fl = F.min(axis=0)\r\n",
    "fu = F.max(axis=0)\r\n",
    "print(f\"Scale f1: [{fl[0]}, {fu[0]}]\")\r\n",
    "print(f\"Scale f2: [{fl[1]}, {fu[1]}]\")"
   ],
   "outputs": [
    {
     "output_type": "stream",
     "name": "stdout",
     "text": [
      "Scale f1: [1.3377795039158735, 74.97223429467643]\n",
      "Scale f2: [0.01809179532919018, 0.7831767823138307]\n"
     ]
    }
   ],
   "metadata": {}
  },
  {
   "cell_type": "markdown",
   "source": [
    "As one can observe, the lower and upper bounds of the objectives f1 and f2 are very different, and such normalization is required."
   ],
   "metadata": {}
  },
  {
   "cell_type": "markdown",
   "source": [
    "> **Warning**\r\n",
    "<br>\r\n",
    "Without normalization, we are comparing oranges with apples. The first objective will dominate any distance calculation in the objective space because of its larger scale. Handling different scales of objectives is an inherent part of any multi-objective algorithms, and, thus, we need to do the same for post-processing."
   ],
   "metadata": {}
  },
  {
   "cell_type": "markdown",
   "source": [
    "A common way is normalizing using the so-called ideal and nadir point. However, for the decision-making purpose here and the sake of generalization, we assume the ideal and nadir points (also referred to as boundary points) and the Pareto-front) are not known. Thus the points can be approximated by:"
   ],
   "metadata": {}
  },
  {
   "cell_type": "code",
   "execution_count": 20,
   "source": [
    "approx_ideal = F.min(axis=0)\r\n",
    "approx_nadir = F.max(axis=0)"
   ],
   "outputs": [],
   "metadata": {}
  },
  {
   "cell_type": "code",
   "execution_count": 137,
   "source": [
    "plt.figure(figsize=(7, 5))\r\n",
    "plt.scatter(F[:, 0], F[:, 1], s=30, facecolors='none', edgecolors='blue')\r\n",
    "plt.scatter(approx_ideal[0], approx_ideal[1], facecolors='none', edgecolors='red', marker=\"*\", s=100, label=\"Ideal Point (Approx)\")\r\n",
    "plt.scatter(approx_nadir[0], approx_nadir[1], facecolors='none', edgecolors='black', marker=\"p\", s=100, label=\"Nadir Point (Approx)\")\r\n",
    "plt.title(\"Objective Space\")\r\n",
    "plt.legend()\r\n",
    "plt.show()"
   ],
   "outputs": [
    {
     "output_type": "display_data",
     "data": {
      "image/png": "[encoded data removed]",
      "text/plain": [
       "<Figure size 504x360 with 1 Axes>"
      ]
     },
     "metadata": {
      "needs_background": "light"
     }
    }
   ],
   "metadata": {}
  },
  {
   "cell_type": "markdown",
   "source": [
    "Normalizing the obtained objective values regarding the boundary points is relatively simple by:"
   ],
   "metadata": {}
  },
  {
   "cell_type": "code",
   "execution_count": 138,
   "source": [
    "nF = (F - approx_ideal) / (approx_nadir - approx_ideal)\r\n",
    "\r\n",
    "fl = nF.min(axis=0)\r\n",
    "fu = nF.max(axis=0)\r\n",
    "print(f\"Scale f1: [{fl[0]}, {fu[0]}]\")\r\n",
    "print(f\"Scale f2: [{fl[1]}, {fu[1]}]\")\r\n",
    "\r\n",
    "plt.figure(figsize=(7, 5))\r\n",
    "plt.scatter(nF[:, 0], nF[:, 1], s=30, facecolors='none', edgecolors='blue')\r\n",
    "plt.title(\"Objective Space\")\r\n",
    "plt.show()"
   ],
   "outputs": [
    {
     "output_type": "stream",
     "name": "stdout",
     "text": [
      "Scale f1: [0.0, 1.0]\n",
      "Scale f2: [0.0, 1.0]\n"
     ]
    },
    {
     "output_type": "display_data",
     "data": {
      "image/png": "[encoded data removed]",
      "text/plain": [
       "<Figure size 504x360 with 1 Axes>"
      ]
     },
     "metadata": {
      "needs_background": "light"
     }
    }
   ],
   "metadata": {}
  },
  {
   "cell_type": "markdown",
   "source": [
    "## Compromise Program"
   ],
   "metadata": {}
  },
  {
   "cell_type": "markdown",
   "source": [
    "Without going into too much detail in this getting started guide, one way for decision-making is using decomposition functions. They require the definition of weights that reflect the user’s wishes. A vector gives the weights with only positive float numbers summing up to one and a length equal to the number of objectives.\r\n",
    "<br>\r\n",
    "<br>\r\n",
    "Here for a bi-objective problem, let us assume the first objective is less a bit less important than the second objective by setting the weights to"
   ],
   "metadata": {}
  },
  {
   "cell_type": "code",
   "execution_count": 139,
   "source": [
    "weights = np.array([0.2, 0.8])"
   ],
   "outputs": [],
   "metadata": {}
  },
  {
   "cell_type": "markdown",
   "source": [
    "Next, we choose the decomposition method called Augmented Scalarization Function (ASF), a well-known metric in the multi-objective optimization literature."
   ],
   "metadata": {}
  },
  {
   "cell_type": "code",
   "execution_count": 140,
   "source": [
    "from pymoo.decomposition.asf import ASF\r\n",
    "\r\n",
    "decomp = ASF()"
   ],
   "outputs": [],
   "metadata": {}
  },
  {
   "cell_type": "markdown",
   "source": [
    "Now let us obtain the best solution regarding the ASF. Because ASF is supposed to be minimized, we choose the minimum ASF values calculated from all solutions. You might be wondering why the weights are not passed directly, but\r\n",
    "<span style='color:hotpink'>1/weights.</span>\r\n",
    "<br>\r\n",
    "<br>\r\n",
    "For ASF, different formulations exist, one where the values are divided and one where they are multiplied. In pymoo, we divide, which does not reflect the idea of the user’s criteria. Thus, the inverse needs to be applied. No worries if this is too much detail for now; however, decision-making about decomposition techniques is vital."
   ],
   "metadata": {}
  },
  {
   "cell_type": "code",
   "execution_count": 141,
   "source": [
    "i = decomp.do(nF, 1/weights).argmin()"
   ],
   "outputs": [],
   "metadata": {}
  },
  {
   "cell_type": "markdown",
   "source": [
    "After having found a solution (i) we can operate on the original scale to represent the results:"
   ],
   "metadata": {}
  },
  {
   "cell_type": "code",
   "execution_count": 142,
   "source": [
    "print(\"Best regarding ASF: Point \\ni = %s\\nF = %s\" % (i, F[i]))\r\n",
    "\r\n",
    "plt.figure(figsize=(7, 5))\r\n",
    "plt.scatter(F[:, 0], F[:, 1], s=30, facecolors='none', edgecolors='blue')\r\n",
    "plt.scatter(F[i, 0], F[i, 1], marker=\"x\", color=\"red\", s=200)\r\n",
    "plt.title(\"Objective Space\")\r\n",
    "plt.show()"
   ],
   "outputs": [
    {
     "output_type": "stream",
     "name": "stdout",
     "text": [
      "Best regarding ASF: Point \n",
      "i = 21\n",
      "F = [43.28059434  0.12244878]\n"
     ]
    },
    {
     "output_type": "display_data",
     "data": {
      "image/png": "[encoded data removed]",
      "text/plain": [
       "<Figure size 504x360 with 1 Axes>"
      ]
     },
     "metadata": {
      "needs_background": "light"
     }
    }
   ],
   "metadata": {}
  },
  {
   "cell_type": "markdown",
   "source": [
    "> **Tip**\r\n",
    "<br>\r\n",
    "<br>\r\n",
    "One benefit of this approach is that any kind of decomposition function can be used.\r\n",
    "\r\n"
   ],
   "metadata": {}
  },
  {
   "cell_type": "markdown",
   "source": [
    "## Pseudo-Weights"
   ],
   "metadata": {}
  },
  {
   "cell_type": "markdown",
   "source": [
    "A simple way to chose a solution out of a solution set in the context of multi-objective optimization is the pseudo-weight vector approach proposed in [[21]](https://pymoo.org/references.html#multi-objective-book). Respectively, the pseudo weight wi for the i-ith objective function can be calculated by:"
   ],
   "metadata": {}
  },
  {
   "cell_type": "markdown",
   "source": [
    "$$\r\n",
    "\r\n",
    "w_i=  \\frac{(f^max_i−f_i(x)) / (f^max_i−f^min_i)}\r\n",
    "{ \r\n",
    "    \\sum^M_{m=1}(f^max_m−f_m(x))\r\n",
    "/\r\n",
    "(f^max_m−f^min_m)}\r\n",
    "\r\n",
    "$$"
   ],
   "metadata": {}
  },
  {
   "cell_type": "markdown",
   "source": [
    "This equation calculates the normalized distance to the worst solution regarding each objective i. Please note that for non-convex Pareto fronts, the pseudo weight does not correspond to the result of an optimization using the weighted sum. However, for convex Pareto-fronts, the pseudo weights indicate the location in the objective space."
   ],
   "metadata": {}
  },
  {
   "cell_type": "code",
   "execution_count": 143,
   "source": [
    "from pymoo.mcdm.pseudo_weights import PseudoWeights\r\n",
    "\r\n",
    "i = PseudoWeights(weights).do(nF)"
   ],
   "outputs": [],
   "metadata": {}
  },
  {
   "cell_type": "code",
   "execution_count": 144,
   "source": [
    "print(\"Best regarding Pseudo Weights: Point \\ni = %s\\nF = %s\" % (i, F[i]))\r\n",
    "\r\n",
    "plt.figure(figsize=(7, 5))\r\n",
    "plt.scatter(F[:, 0], F[:, 1], s=30, facecolors='none', edgecolors='blue')\r\n",
    "plt.scatter(F[i, 0], F[i, 1], marker=\"x\", color=\"red\", s=200)\r\n",
    "plt.title(\"Objective Space\")\r\n",
    "plt.show()"
   ],
   "outputs": [
    {
     "output_type": "stream",
     "name": "stdout",
     "text": [
      "Best regarding Pseudo Weights: Point \n",
      "i = 39\n",
      "F = [58.52211061  0.06005482]\n"
     ]
    },
    {
     "output_type": "display_data",
     "data": {
      "image/png": "[encoded data removed]",
      "text/plain": [
       "<Figure size 504x360 with 1 Axes>"
      ]
     },
     "metadata": {
      "needs_background": "light"
     }
    }
   ],
   "metadata": {}
  },
  {
   "cell_type": "markdown",
   "source": [
    "# **Part IV: Analysis of Convergence** <a class='anchor' id='PT4'></a>"
   ],
   "metadata": {}
  },
  {
   "cell_type": "markdown",
   "source": [
    "Great! So far, we have executed an algorithm and already obtained a solution set. But let us not stop here without knowing how the algorithm has performed. This will also answer how we should define a termination criterion if we solve the problem again. The convergence analysis shall consider two cases,\r\n",
    "* i) the Pareto-front is not known, or\r\n",
    "* ii) the Pareto-front has been derived analytically, or a reasonable approximation exists."
   ],
   "metadata": {}
  },
  {
   "cell_type": "markdown",
   "source": [
    "## Result"
   ],
   "metadata": {}
  },
  {
   "cell_type": "markdown",
   "source": [
    "To further check how close the results match the analytically derived optimum, we have to convert the objective space values to the original definition where the second objective\r\n",
    "$ f_2 $ was maximized. Plotting then the Pareto-front shows how close the algorithm was able to converge."
   ],
   "metadata": {}
  },
  {
   "cell_type": "code",
   "execution_count": 145,
   "source": [
    "from pymoo.util.misc import stack\r\n",
    "\r\n",
    "class MyTestProblem(MyProblem):\r\n",
    "\r\n",
    "    def _calc_pareto_front(self, flatten=True, *args, **kwargs):\r\n",
    "        f2 = lambda f1: ((f1/100) ** 0.5 - 1)**2\r\n",
    "        F1_a, F1_b = np.linspace(1, 16, 300), np.linspace(36, 81, 300)\r\n",
    "        F2_a, F2_b = f2(F1_a), f2(F1_b)\r\n",
    "\r\n",
    "        pf_a = np.column_stack([F1_a, F2_a])\r\n",
    "        pf_b = np.column_stack([F1_b, F2_b])\r\n",
    "\r\n",
    "        return stack(pf_a, pf_b, flatten=flatten)\r\n",
    "\r\n",
    "    def _calc_pareto_set(self, *args, **kwargs):\r\n",
    "        x1_a = np.linspace(0.1, 0.4, 50)\r\n",
    "        x1_b = np.linspace(0.6, 0.9, 50)\r\n",
    "        x2 = np.zeros(50)\r\n",
    "\r\n",
    "        a, b = np.column_stack([x1_a, x2]), np.column_stack([x1_b, x2])\r\n",
    "        return stack(a,b, flatten=flatten)\r\n",
    "\r\n",
    "problem = MyTestProblem()"
   ],
   "outputs": [],
   "metadata": {}
  },
  {
   "cell_type": "markdown",
   "source": [
    "For IGD, the Pareto front needs to be known or to be approximated. In our framework, the Pareto front of **test problems** can be obtained by:"
   ],
   "metadata": {}
  },
  {
   "cell_type": "code",
   "execution_count": 146,
   "source": [
    "pf_a, pf_b = problem.pareto_front(use_cache=False, flatten=False)"
   ],
   "outputs": [],
   "metadata": {}
  },
  {
   "cell_type": "code",
   "execution_count": 147,
   "source": [
    "pf = problem.pareto_front(use_cache=False, flatten=True)"
   ],
   "outputs": [],
   "metadata": {}
  },
  {
   "cell_type": "code",
   "execution_count": 148,
   "source": [
    "plt.figure(figsize=(7, 5))\r\n",
    "plt.scatter(F[:, 0], F[:, 1], s=30, facecolors='none', edgecolors='b', label=\"Solutions\")\r\n",
    "plt.plot(pf_a[:, 0], pf_a[:, 1], alpha=0.5, linewidth=2.0, color=\"red\", label=\"Pareto-front\")\r\n",
    "plt.plot(pf_b[:, 0], pf_b[:, 1], alpha=0.5, linewidth=2.0, color=\"red\")\r\n",
    "plt.title(\"Objective Space\")\r\n",
    "plt.legend()\r\n",
    "plt.show()"
   ],
   "outputs": [
    {
     "output_type": "display_data",
     "data": {
      "image/png": "[encoded data removed]",
      "text/plain": [
       "<Figure size 504x360 with 1 Axes>"
      ]
     },
     "metadata": {
      "needs_background": "light"
     }
    }
   ],
   "metadata": {}
  },
  {
   "cell_type": "markdown",
   "source": [
    "Whether the optimum for your problem is known or not, we encourage all end-users of pymoo not to skip the analysis of the obtained solution set. Visualizations for high-dimensional objective spaces (in design and/or objective space) are also provided and shown [here.](https://pymoo.org/visualization/index.html)\r\n",
    "\r\n",
    "In **Part II**, we have run the algorithm without storing, keeping track of the optimization progress, and storing information. However, for analyzing the convergence, historical data need to be stored. One way of accomplishing that is enabling the\r\n",
    "<span style='color:hotpink'>save_history</span>\r\n",
    "flag, which will store a deep copy of the algorithm object in each iteration and save it in the\r\n",
    "<span style='color:hotpink'>Result</span>\r\n",
    "object. This approach is more memory-intensive (especially for many iterations) but has the advantage that any algorithm-dependent variable can be analyzed posteriorly.\r\n",
    "\r\n",
    "A not negligible step is the post-processing after having obtained the results. We strongly recommend not only analyzing the final result but also the algorithm’s behavior. This gives more insights into the convergence of the algorithm.\r\n",
    "\r\n",
    "For such an analysis, intermediate steps of the algorithm need to be considered. This can either be achieved by:\r\n",
    "\r\n",
    "* A\r\n",
    "<span style='color:hotpink'>Callback</span>\r\n",
    "class storing the necessary information in each iteration of the algorithm.\r\n",
    "\r\n",
    "* Enabling the\r\n",
    "<span style='color:hotpink'>save_history</span>\r\n",
    "flag when calling the minimize method to store a deep copy of the algorithm’s objective each iteration.\r\n",
    "\r\n",
    "We provide some more details about each variant in our\r\n",
    "[convergence](https://pymoo.org/misc/convergence.html)\r\n",
    "tutorial. As you might have already seen, we have set\r\n",
    "<span style='color:hotpink'>save_history=True</span>\r\n",
    "when calling the\r\n",
    "<span style='color:hotpink'>minmize</span>\r\n",
    "method in this getting started guide and, thus, will you the\r\n",
    "<span style='color:hotpink'>history</span>\r\n",
    "for our analysis. Moreover, we need to decide what metric should be used to measure the performance of our algorithm. In this tutorial, we are going to use\r\n",
    "<span style='color:hotpink'>Hypervolume</span>\r\n",
    "and\r\n",
    "<span style='color:hotpink'>IGD.</span>\r\n",
    "Feel free to look at our\r\n",
    "[performance indicators](https://pymoo.org/misc/indicators.html)\r\n",
    "to find more information about metrics to measure the performance of multi-objective algorithms."
   ],
   "metadata": {}
  },
  {
   "cell_type": "code",
   "execution_count": 149,
   "source": [
    "from pymoo.optimize import minimize\r\n",
    "\r\n",
    "res = minimize(problem,\r\n",
    "               algorithm,\r\n",
    "               (\"n_gen\", 40),\r\n",
    "               seed=1,\r\n",
    "               save_history=True,\r\n",
    "               verbose=False)\r\n",
    "\r\n",
    "X, F = res.opt.get(\"X\", \"F\")\r\n",
    "\r\n",
    "hist = res.history\r\n",
    "print(len(hist))"
   ],
   "outputs": [
    {
     "output_type": "stream",
     "name": "stdout",
     "text": [
      "40\n"
     ]
    }
   ],
   "metadata": {}
  },
  {
   "cell_type": "markdown",
   "source": [
    "From the\r\n",
    "<span style='color:hotpink'>history</span>\r\n",
    "it is relatively easy to extract the information we need for an analysis."
   ],
   "metadata": {}
  },
  {
   "cell_type": "code",
   "execution_count": 150,
   "source": [
    "n_evals = []             # corresponding number of function evaluations\\\r\n",
    "hist_F = []              # the objective space values in each generation\r\n",
    "hist_cv = []             # constraint violation in each generation\r\n",
    "hist_cv_avg = []         # average constraint violation in the whole population\r\n",
    "\r\n",
    "for algo in hist:\r\n",
    "\r\n",
    "    # store the number of function evaluations\r\n",
    "    n_evals.append(algo.evaluator.n_eval)\r\n",
    "\r\n",
    "    # retrieve the optimum from the algorithm\r\n",
    "    opt = algo.opt\r\n",
    "\r\n",
    "    # store the least contraint violation and the average in each population\r\n",
    "    hist_cv.append(opt.get(\"CV\").min())\r\n",
    "    hist_cv_avg.append(algo.pop.get(\"CV\").mean())\r\n",
    "\r\n",
    "    # filter out only the feasible and append and objective space values\r\n",
    "    feas = np.where(opt.get(\"feasible\"))[0]\r\n",
    "    hist_F.append(opt.get(\"F\")[feas])"
   ],
   "outputs": [],
   "metadata": {}
  },
  {
   "cell_type": "markdown",
   "source": [
    "## Constraint Satisfaction"
   ],
   "metadata": {}
  },
  {
   "cell_type": "markdown",
   "source": [
    "First, let us quickly see when the first feasible solution has been found:\r\n",
    "\r\n"
   ],
   "metadata": {}
  },
  {
   "cell_type": "code",
   "execution_count": 151,
   "source": [
    "k = np.where(np.array(hist_cv) <= 0.0)[0].min()\r\n",
    "print(f\"At least one feasible solution in Generation {k} after {n_evals[k]} evaluations.\")"
   ],
   "outputs": [
    {
     "output_type": "stream",
     "name": "stdout",
     "text": [
      "At least one feasible solution in Generation 0 after 40 evaluations.\n"
     ]
    }
   ],
   "metadata": {}
  },
  {
   "cell_type": "markdown",
   "source": [
    "Because this problem does not have much complexity, a feasible solution was found right away. Nevertheless, this can be entirely different for your optimization problem and is also worth being analyzed first."
   ],
   "metadata": {}
  },
  {
   "cell_type": "code",
   "execution_count": 152,
   "source": [
    "# replace this line by `hist_cv` if you like to analyze the least feasible optimal solution and not the population\r\n",
    "vals = hist_cv_avg\r\n",
    "\r\n",
    "k = np.where(np.array(vals) <= 0.0)[0].min()\r\n",
    "print(f\"Whole population feasible in Generation {k} after {n_evals[k]} evaluations.\")\r\n",
    "\r\n",
    "plt.figure(figsize=(7, 5))\r\n",
    "plt.plot(n_evals, vals,  color='black', lw=0.7, label=\"Avg. CV of Pop\")\r\n",
    "plt.scatter(n_evals, vals,  facecolor=\"none\", edgecolor='black', marker=\"p\")\r\n",
    "plt.axvline(n_evals[k], color=\"red\", label=\"All Feasible\", linestyle=\"--\")\r\n",
    "plt.title(\"Convergence\")\r\n",
    "plt.xlabel(\"Function Evaluations\")\r\n",
    "plt.ylabel(\"Constraint Violation\")\r\n",
    "plt.legend()\r\n",
    "plt.show()"
   ],
   "outputs": [
    {
     "output_type": "stream",
     "name": "stdout",
     "text": [
      "Whole population feasible in Generation 8 after 120 evaluations.\n"
     ]
    },
    {
     "output_type": "display_data",
     "data": {
      "image/png": "[encoded data removed]",
      "text/plain": [
       "<Figure size 504x360 with 1 Axes>"
      ]
     },
     "metadata": {
      "needs_background": "light"
     }
    }
   ],
   "metadata": {}
  },
  {
   "cell_type": "markdown",
   "source": [
    "## Pareto-front is unknown"
   ],
   "metadata": {}
  },
  {
   "cell_type": "markdown",
   "source": [
    "If the Pareto-front is not known, we can not know if the algorithm has converged to the true optimum or not. At least not without any further information. However, we can see when the algorithm has made most of its progress during optimization and thus if the number of iterations should be less or more. Additionally, the metrics serve to compare two algorithms with each other.\r\n",
    "\r\n",
    "In multi-objective optimization **normalization** the very important. For that reason, you see below that the Hypervolume is based on a normalized set normalized by the bounds (idea) More details about it will be shown in Part IV."
   ],
   "metadata": {}
  },
  {
   "cell_type": "markdown",
   "source": [
    "## Hypvervolume (HV)"
   ],
   "metadata": {}
  },
  {
   "cell_type": "markdown",
   "source": [
    "Hypervolume is a very well-known performance indicator for multi-objective problems. It is Pareto-compliant and is based on the volume between a predefined reference point and the solution provided. Therefore, hypervolume requires defining a reference point\r\n",
    "<span style='color:hotpink'>ref_point,</span>\r\n",
    "which shall be larger than the maximum value of the Pareto front."
   ],
   "metadata": {}
  },
  {
   "cell_type": "code",
   "execution_count": 153,
   "source": [
    "approx_ideal = F.min(axis=0)\r\n",
    "approx_nadir = F.max(axis=0)"
   ],
   "outputs": [],
   "metadata": {}
  },
  {
   "cell_type": "code",
   "execution_count": 154,
   "source": [
    "from pymoo.indicators.hv import Hypervolume\r\n",
    "\r\n",
    "metric = Hypervolume(ref_point= np.array([1.1, 1.1]),\r\n",
    "                     norm_ref_point=False,\r\n",
    "                     zero_to_one=True,\r\n",
    "                     ideal=approx_ideal,\r\n",
    "                     nadir=approx_nadir)\r\n",
    "\r\n",
    "hv = [metric.do(_F) for _F in hist_F]\r\n",
    "\r\n",
    "plt.figure(figsize=(7, 5))\r\n",
    "plt.plot(n_evals, hv,  color='black', lw=0.7, label=\"Avg. CV of Pop\")\r\n",
    "plt.scatter(n_evals, hv,  facecolor=\"none\", edgecolor='black', marker=\"p\")\r\n",
    "plt.title(\"Convergence\")\r\n",
    "plt.xlabel(\"Function Evaluations\")\r\n",
    "plt.ylabel(\"Hypervolume\")\r\n",
    "plt.show()"
   ],
   "outputs": [
    {
     "output_type": "display_data",
     "data": {
      "image/png": "[encoded data removed]",
      "text/plain": [
       "<Figure size 504x360 with 1 Axes>"
      ]
     },
     "metadata": {
      "needs_background": "light"
     }
    }
   ],
   "metadata": {}
  },
  {
   "cell_type": "markdown",
   "source": [
    "> **Note**\r\n",
    "<br>\r\n",
    "Hypervolume becomes computationally expensive with increasing dimensionality. The exact hypervolume can be calculated efficiently for 2 and 3 objectives. For higher dimensions, some researchers use a hypervolume approximation, which is not available yet in pymoo.\r\n",
    "\r\n"
   ],
   "metadata": {}
  },
  {
   "cell_type": "markdown",
   "source": [
    "## Running Metric"
   ],
   "metadata": {}
  },
  {
   "cell_type": "markdown",
   "source": [
    "Another way of analyzing a run when the true Pareto front is **not** known is the recently proposed\r\n",
    "[running metric.](https://www.egr.msu.edu/~kdeb/papers/c2020003.pdf)\r\n",
    "The running metric shows the difference in the objective space from one generation to another and uses the algorithm’s survival to visualize the improvement. This metric is also being used in pymoo to determine the termination of a multi-objective optimization algorithm if no default termination criteria have been defined.\r\n",
    "\r\n",
    "For instance, this analysis reveals that the algorithm improved from the 4th to the 5th generation significantly."
   ],
   "metadata": {}
  },
  {
   "cell_type": "code",
   "execution_count": 155,
   "source": [
    "from pymoo.util.running_metric import RunningMetric\r\n",
    "\r\n",
    "running = RunningMetric(delta_gen=5,\r\n",
    "                        n_plots=3,\r\n",
    "                        only_if_n_plots=True,\r\n",
    "                        key_press=False,\r\n",
    "                        do_show=True)\r\n",
    "\r\n",
    "for algorithm in res.history[:15]:\r\n",
    "    running.notify(algorithm)"
   ],
   "outputs": [
    {
     "output_type": "display_data",
     "data": {
      "image/png": "[encoded data removed]",
      "text/plain": [
       "<Figure size 432x288 with 1 Axes>"
      ]
     },
     "metadata": {
      "needs_background": "light"
     }
    }
   ],
   "metadata": {}
  },
  {
   "cell_type": "markdown",
   "source": [
    "Plotting until the final population shows the algorithm seems to have more a less converged, and only a slight improvement has been made."
   ],
   "metadata": {}
  },
  {
   "cell_type": "code",
   "execution_count": 156,
   "source": [
    "from pymoo.util.running_metric import RunningMetric\r\n",
    "\r\n",
    "running = RunningMetric(delta_gen=10,\r\n",
    "                        n_plots=4,\r\n",
    "                        only_if_n_plots=True,\r\n",
    "                        key_press=False,\r\n",
    "                        do_show=True)\r\n",
    "\r\n",
    "for algorithm in res.history:\r\n",
    "    running.notify(algorithm)"
   ],
   "outputs": [
    {
     "output_type": "display_data",
     "data": {
      "image/png": "[encoded data removed]",
      "text/plain": [
       "<Figure size 432x288 with 1 Axes>"
      ]
     },
     "metadata": {
      "needs_background": "light"
     }
    }
   ],
   "metadata": {}
  },
  {
   "cell_type": "markdown",
   "source": [
    "## Pareto-front is known or approximated"
   ],
   "metadata": {}
  },
  {
   "cell_type": "markdown",
   "source": [
    "### IGD/GD/IGD+/GD+"
   ],
   "metadata": {}
  },
  {
   "cell_type": "markdown",
   "source": [
    "The Pareto-front for a problem can either be provided manually or directly implemented in the\r\n",
    "<span style='color:hotpink'>Problem,</span>\r\n",
    "definition to analyze the run on the fly. Here, we show an example of using the history of the algorithm as an additional post-processing step.\r\n",
    "\r\n",
    "For real-world problems, you have to use an **approximation.** An approximation can be obtained by running an algorithm a couple of times and extracting the non-dominated solutions out of all solution sets. If you have only a single run, an alternative is to use the obtained non-dominated set of solutions as an approximation. However, the result only indicates how much the algorithm’s progress in converging to the final set."
   ],
   "metadata": {}
  },
  {
   "cell_type": "code",
   "execution_count": 157,
   "source": [
    "from pymoo.indicators.igd import IGD\r\n",
    "\r\n",
    "metric = IGD(pf, zero_to_one=True)\r\n",
    "\r\n",
    "igd = [metric.do(_F) for _F in hist_F]\r\n",
    "\r\n",
    "plt.plot(n_evals, igd,  color='black', lw=0.7, label=\"Avg. CV of Pop\")\r\n",
    "plt.scatter(n_evals, igd,  facecolor=\"none\", edgecolor='black', marker=\"p\")\r\n",
    "plt.axhline(10**-2, color=\"red\", label=\"10^-2\", linestyle=\"--\")\r\n",
    "plt.title(\"Convergence\")\r\n",
    "plt.xlabel(\"Function Evaluations\")\r\n",
    "plt.ylabel(\"IGD\")\r\n",
    "plt.yscale(\"log\")\r\n",
    "plt.legend()\r\n",
    "plt.show()"
   ],
   "outputs": [
    {
     "output_type": "display_data",
     "data": {
      "image/png": "[encoded data removed]",
      "text/plain": [
       "<Figure size 432x288 with 1 Axes>"
      ]
     },
     "metadata": {
      "needs_background": "light"
     }
    }
   ],
   "metadata": {}
  },
  {
   "cell_type": "code",
   "execution_count": 158,
   "source": [
    "from pymoo.indicators.igd_plus import IGDPlus\r\n",
    "\r\n",
    "metric = IGDPlus(pf, zero_to_one=True)\r\n",
    "\r\n",
    "igd = [metric.do(_F) for _F in hist_F]\r\n",
    "\r\n",
    "plt.plot(n_evals, igd,  color='black', lw=0.7, label=\"Avg. CV of Pop\")\r\n",
    "plt.scatter(n_evals, igd,  facecolor=\"none\", edgecolor='black', marker=\"p\")\r\n",
    "plt.axhline(10**-2, color=\"red\", label=\"10^-2\", linestyle=\"--\")\r\n",
    "plt.title(\"Convergence\")\r\n",
    "plt.xlabel(\"Function Evaluations\")\r\n",
    "plt.ylabel(\"IGD+\")\r\n",
    "plt.yscale(\"log\")\r\n",
    "plt.legend()\r\n",
    "plt.show()"
   ],
   "outputs": [
    {
     "output_type": "display_data",
     "data": {
      "image/png": "[encoded data removed]",
      "text/plain": [
       "<Figure size 432x288 with 1 Axes>"
      ]
     },
     "metadata": {
      "needs_background": "light"
     }
    }
   ],
   "metadata": {}
  },
  {
   "cell_type": "markdown",
   "source": [
    "# **Part V: Some more useful Information** <a class='anchor' id='PT5'></a>"
   ],
   "metadata": {}
  },
  {
   "cell_type": "markdown",
   "source": [
    "This getting started guide has covered the most common steps of a multi-objective optimization scenario. More details about each of the topics shown in this guide are available in the corresponding topic section"
   ],
   "metadata": {}
  },
  {
   "cell_type": "markdown",
   "source": [
    "* Interface: An overview over the most important parameters of the interface.\r\n",
    "\r\n",
    "* Problems: A guide how to implement your own custom problem and how to use test problems alrady being implemented.\r\n",
    "\r\n",
    "* Algorithms: Information about all algorithms and how to use them for optimization.\r\n",
    "\r\n",
    "* Operators: An overview of evolutionary operators.\r\n",
    "\r\n",
    "* Customization: How to design your custom evolutionary operators to develop an efficient genetic algorithm for your specific optimization problem.\r\n",
    "\r\n",
    "* Visualization: Different techniques for visualization the results of an optimization run or a single solution.\r\n",
    "\r\n",
    "* Multi-Criteria Decision Making: How to select a solution from a solution set.\r\n",
    "\r\n",
    "* FAQ: Frequently asked questions."
   ],
   "metadata": {}
  },
  {
   "cell_type": "markdown",
   "source": [
    "# **Source Code** <a class='anchor' id='SC'></a>"
   ],
   "metadata": {}
  },
  {
   "cell_type": "markdown",
   "source": [
    "In this guide, we have provided a couple of options for defining your problem and how to run the optimization. You might have already copied the code into your IDE. However, if not, the following code snippets cover the problem definition, algorithm initializing, solving the optimization problem, and visualization of the non-dominated set of solutions altogether."
   ],
   "metadata": {}
  },
  {
   "cell_type": "code",
   "execution_count": 159,
   "source": [
    "import numpy as np\r\n",
    "\r\n",
    "from pymoo.algorithms.moo.nsga2 import NSGA2\r\n",
    "from pymoo.core.problem import ElementwiseProblem\r\n",
    "from pymoo.optimize import minimize\r\n",
    "from pymoo.visualization.scatter import Scatter\r\n",
    "\r\n",
    "\r\n",
    "class MyProblem(ElementwiseProblem):\r\n",
    "\r\n",
    "    def __init__(self):\r\n",
    "        super().__init__(n_var=2,\r\n",
    "                         n_obj=2,\r\n",
    "                         n_constr=2,\r\n",
    "                         xl=np.array([-2, -2]),\r\n",
    "                         xu=np.array([2, 2]))\r\n",
    "\r\n",
    "    def _evaluate(self, x, out, *args, **kwargs):\r\n",
    "        f1 = 100 * (x[0] ** 2 + x[1] ** 2)\r\n",
    "        f2 = (x[0] - 1) ** 2 + x[1] ** 2\r\n",
    "\r\n",
    "        g1 = 2 * (x[0] - 0.1) * (x[0] - 0.9) / 0.18\r\n",
    "        g2 = - 20 * (x[0] - 0.4) * (x[0] - 0.6) / 4.8\r\n",
    "\r\n",
    "        out[\"F\"] = [f1, f2]\r\n",
    "        out[\"G\"] = [g1, g2]\r\n",
    "\r\n",
    "\r\n",
    "problem = MyProblem()\r\n",
    "\r\n",
    "algorithm = NSGA2(pop_size=100)\r\n",
    "\r\n",
    "res = minimize(problem,\r\n",
    "               algorithm,\r\n",
    "               (\"n_gen\", 100),\r\n",
    "               verbose=False,\r\n",
    "               seed=1)\r\n",
    "\r\n",
    "plot = Scatter()\r\n",
    "plot.add(res.F, color=\"red\")\r\n",
    "plot.show()"
   ],
   "outputs": [
    {
     "output_type": "execute_result",
     "data": {
      "text/plain": [
       "<pymoo.visualization.scatter.Scatter at 0x20e1892f108>"
      ]
     },
     "metadata": {},
     "execution_count": 159
    },
    {
     "output_type": "display_data",
     "data": {
      "image/png": "[encoded data removed]",
      "text/plain": [
       "<Figure size 576x432 with 1 Axes>"
      ]
     },
     "metadata": {
      "needs_background": "light"
     }
    }
   ],
   "metadata": {}
  },
  {
   "cell_type": "markdown",
   "source": [
    "# Interface"
   ],
   "metadata": {}
  },
  {
   "cell_type": "markdown",
   "source": [
    "The functional interface of pymoo is based on a method called minimize, which abstracts any kind of optimization procedure in the framework. Each component of the functional interface is described in detail in the following. The guide starts with the minimize function itself, continues with the required and optional parameters, and ends with the Result object."
   ],
   "metadata": {}
  },
  {
   "cell_type": "markdown",
   "source": [
    "Overview\r\n",
    "\r\n",
    "minimize: This is the functional interface to optimized any kind of problem. The function itself two positional parameters, problem and algorithm, and a few more optional parameters.\r\n",
    "\r\n",
    "Problem: A problem object defining what to be optimized.\r\n",
    "\r\n",
    "Algorithm: The algorithm which shall be used for optimization. Make sure to choose a suitable algorithm for your optimization problem to ensure efficient convergence.\r\n",
    "\r\n",
    "Termination Criterion: When the algorithm should be considered as terminated. The termination can be simply based on the algorithm’s number of iterations, an upper bound of function evaluations, or more sophisticated procedures.\r\n",
    "\r\n",
    "Callback: How to access intermediate result during optimization to keep track of the algorithm itself or modify attributes of the algorithm dynamically.\r\n",
    "\r\n",
    "Display: When verbose=True, then the algorithm prints out some information in each iteration. The printout is different depending on if it is a single or multi-objective optimization problem and if the Pareto-front is known or unknown.\r\n",
    "\r\n",
    "Result: The result object being returned by the minimize method. Access to the optimum/optima found and some more information such as the running time or even the whole algorithm’s run history."
   ],
   "metadata": {}
  },
  {
   "cell_type": "markdown",
   "source": [
    "Please note that besides the functional interface, pymoo also has an object-oriented interface (more information here) for running an optimization algorithm. Both have their upsides and downsides, and one can be more convenient to use than another in specific situations. The functional interface allows optimization just in a few lines; the object-oriented interface allows quickly to alter an existing algorithm’s behavior."
   ],
   "metadata": {}
  },
  {
   "cell_type": "markdown",
   "source": [
    "# Minimize"
   ],
   "metadata": {}
  },
  {
   "cell_type": "markdown",
   "source": [
    "The minimize function provides the external interface for any kind of optimization to be performed. The minimize method arguments and options look as follows:"
   ],
   "metadata": {}
  },
  {
   "cell_type": "code",
   "execution_count": null,
   "source": [
    "def minimize(problem,\r\n",
    "             algorithm,\r\n",
    "             termination=None,\r\n",
    "             seed=None,\r\n",
    "             verbose=False,\r\n",
    "             display=None,\r\n",
    "             callback=None,\r\n",
    "             return_least_infeasible=False,\r\n",
    "             save_history=False\r\n",
    "             )"
   ],
   "outputs": [],
   "metadata": {}
  },
  {
   "cell_type": "markdown",
   "source": [
    "* problem: A Problem object that contains the problem to be solved.\r\n",
    "\r\n",
    "* algorithm: An Algorithm objective which represents the algorithm to be used.\r\n",
    "\r\n",
    "* termination: A Termination object or a tuple defining when the algorithm has terminated. If not provided, a default termination criterion will be used. Purposefully, we list the termination as a parameter and not an option. Specific algorithms might need some refinement of the termination to work reliably.\r\n",
    "\r\n",
    "* seed: Most algorithms underly some randomness. Setting the seed to a positive integer value ensures reproducible results. If not provided, a random seed will be set automatically, and the used integer will be stored in the Result object.\r\n",
    "\r\n",
    "* verbose: Boolean value defining whether the output should be printed during the run or not.\r\n",
    "\r\n",
    "* display: You can overwrite what output is supposed to be printed in each iteration. Therefore, a custom Display object can be used for customization purposes.\r\n",
    "\r\n",
    "* save_history: A boolean value representing whether a snapshot of the algorithm should be stored in each iteration. If enabled, the Result object contains the history.\r\n",
    "\r\n",
    "* return_least_infeasible: Whether if the algorithm can not find a feasible solution, the least infeasible solution should be returned. By default False."
   ],
   "metadata": {}
  },
  {
   "cell_type": "markdown",
   "source": [
    "Note, the minimize function creates a deep copy of the algorithm object before the run. This ensures that two independent runs with the same algorithm and same random seed have the same results without any side effects. However, to access the algorithm’s internals, you can access the object being used by res.algorithm where res is an instance of the Result object.\r\n",
    "\r\n"
   ],
   "metadata": {}
  },
  {
   "cell_type": "markdown",
   "source": [
    "# Minimize API"
   ],
   "metadata": {}
  },
  {
   "cell_type": "code",
   "execution_count": 43,
   "source": [
    "pymoo.optimize.minimize(problem, algorithm,\r\n",
    "termination=None, copy_algorithm=True, copy_termination=True, **kwargs)"
   ],
   "outputs": [
    {
     "output_type": "error",
     "ename": "NameError",
     "evalue": "name 'pymoo' is not defined",
     "traceback": [
      "\u001b[1;31m---------------------------------------------------------------------------\u001b[0m",
      "\u001b[1;31mNameError\u001b[0m                                 Traceback (most recent call last)",
      "\u001b[1;32m~\\AppData\\Local\\Temp/ipykernel_18952/1152065741.py\u001b[0m in \u001b[0;36m<module>\u001b[1;34m\u001b[0m\n\u001b[1;32m----> 1\u001b[1;33m pymoo.optimize.minimize(problem, algorithm,\n\u001b[0m\u001b[0;32m      2\u001b[0m termination=None, copy_algorithm=True, copy_termination=True, **kwargs)\n",
      "\u001b[1;31mNameError\u001b[0m: name 'pymoo' is not defined"
     ]
    }
   ],
   "metadata": {}
  },
  {
   "cell_type": "markdown",
   "source": [
    "Minimization of function of one or more variables, objectives and constraints.\r\n",
    "\r\n",
    "This is used as a convenience function to execute several algorithms with default settings which turned out to work for a test single. However, evolutionary computations utilizes the idea of customizing a meta-algorithm. Customizing the algorithm using the object oriented interface is recommended to improve the convergence."
   ],
   "metadata": {}
  },
  {
   "cell_type": "markdown",
   "source": [
    "# Problem"
   ],
   "metadata": {}
  },
  {
   "cell_type": "markdown",
   "source": [
    "There exist a couple of different ways for defining an optimization problem in pymoo. In contrast to other optimization frameworks in Python, the preferred way is to define an object. However, a problem can also be defined by functions as shown here. Most algorithms in pymoo are population-based, which implies in each generation, not a single but multiple solutions are evaluated. Thus, the problem implementation retrieves the set of solutions to provide the most flexibility to the end-user. This flexibility allows you to implement a custom parallelization and thus to use your hardware most efficiently. Three different ways of defining a problem are shown below:"
   ],
   "metadata": {}
  },
  {
   "cell_type": "markdown",
   "source": [
    "Overview\r\n",
    "\r\n",
    "Problem: Object-oriented definition Problem which implements a method evaluating a set of solutions.\r\n",
    "\r\n",
    "ElementwiseProblem: Object-oriented definition ElementwiseProblem which implements a function evaluating a single solution at a time.\r\n",
    "\r\n",
    "FunctionalProblem: Define a problem FunctionalProblem by using a function for each objective and constraint."
   ],
   "metadata": {}
  },
  {
   "cell_type": "markdown",
   "source": [
    "Next, we define an unconstrained optimization problem with two variables and two objectives. Because the lower and upper bounds are identical for both variables, only a float value is passed to the Problem constructor. Assuming the Algorithm has a population size N, the input variable x is a two-dimensional matrix with the dimensions (N,2). The input has two columns because the optimization problem has n_var=2. Thus, to evaluated the problem makes use of the vectorized calculations [:, 0] and [:, 1] to select the first and second variables for each row in the input matrix x."
   ],
   "metadata": {}
  },
  {
   "cell_type": "code",
   "execution_count": 29,
   "source": [
    "import numpy as np\r\n",
    "from pymoo.core.problem import Problem\r\n",
    "\r\n",
    "class MyProblem(Problem):\r\n",
    "\r\n",
    "    def __init__(self):\r\n",
    "        super().__init__(n_var=2,\r\n",
    "                         n_obj=2,\r\n",
    "                         xl=-2.0,\r\n",
    "                         xu=2.0)\r\n",
    "\r\n",
    "    def _evaluate(self, x, out, *args, **kwargs):\r\n",
    "        f1 = 100 * (x[:, 0]**2 + x[:, 1]**2)\r\n",
    "        f2 = (x[:, 0]-1)**2 + x[:, 1]**2\r\n",
    "        out[\"F\"] = np.column_stack([f1, f2])"
   ],
   "outputs": [],
   "metadata": {}
  },
  {
   "cell_type": "markdown",
   "source": [
    "Below we define a constrained optimization problem with two variables and two objectives. Here, the problem is defined element-wise. The lower and upper bounds, xl and xu, are defined using a vector with a length equal to the number of variables. The input x is a one-dimensional array of length two and is called N times in each iteration for the algorithm discussed above."
   ],
   "metadata": {}
  },
  {
   "cell_type": "code",
   "execution_count": 30,
   "source": [
    "import numpy as np\r\n",
    "from pymoo.core.problem import ElementwiseProblem\r\n",
    "\r\n",
    "class MyProblem(ElementwiseProblem):\r\n",
    "\r\n",
    "    def __init__(self):\r\n",
    "        super().__init__(n_var=2,\r\n",
    "                         n_obj=2,\r\n",
    "                         n_constr=2,\r\n",
    "                         xl=np.array([-2,-2]),\r\n",
    "                         xu=np.array([2,2]))\r\n",
    "\r\n",
    "    def _evaluate(self, x, out, *args, **kwargs):\r\n",
    "        f1 = 100 * (x[0]**2 + x[1]**2)\r\n",
    "        f2 = (x[0]-1)**2 + x[1]**2\r\n",
    "\r\n",
    "        g1 = 2*(x[0]-0.1) * (x[0]-0.9) / 0.18\r\n",
    "        g2 = - 20*(x[0]-0.4) * (x[0]-0.6) / 4.8\r\n",
    "\r\n",
    "        out[\"F\"] = [f1, f2]\r\n",
    "        out[\"G\"] = [g1, g2]\r\n",
    "\r\n",
    "\r\n",
    "problem = MyProblem()"
   ],
   "outputs": [],
   "metadata": {}
  },
  {
   "cell_type": "markdown",
   "source": [
    "> **Tip**\r\n",
    "<br>\r\n",
    "For more information, please look at the problem tutorial. Moreover, a number of test problems frequently being use for benchmarking the performance of an algorithm are listed here"
   ],
   "metadata": {}
  },
  {
   "cell_type": "markdown",
   "source": [
    "# Algorithm"
   ],
   "metadata": {}
  },
  {
   "cell_type": "markdown",
   "source": [
    "After having defined the problem, a suitable algorithm for optimizing it has to be found. This can be challenging and might require some literature research. pymoo offers quite a few standard implementations of well-known algorithms that can be quite useful in obtaining quick results or prototyping."
   ],
   "metadata": {}
  },
  {
   "cell_type": "markdown",
   "source": [
    "Each algorithm has different parameters to be initialized. For the functional interface, the algorithm object needs to be passed to the minimize method, starting the optimization run. For instance, for NSGA2 the object can be initialized as follows:"
   ],
   "metadata": {}
  },
  {
   "cell_type": "code",
   "execution_count": 42,
   "source": [
    "from pymoo.algorithms.moo.nsga2 import NSGA2\r\n",
    "\r\n",
    "algorithm = NSGA2()"
   ],
   "outputs": [],
   "metadata": {}
  },
  {
   "cell_type": "markdown",
   "source": [
    "For more details about algorithms, please have a look at this [tutorial.](https://pymoo.org/algorithms/index.html)"
   ],
   "metadata": {}
  },
  {
   "cell_type": "markdown",
   "source": [
    "# Termination Criterion"
   ],
   "metadata": {}
  },
  {
   "cell_type": "markdown",
   "source": [
    "# Haven't looked into further YET!"
   ],
   "metadata": {}
  }
 ],
 "metadata": {
  "orig_nbformat": 4,
  "language_info": {
   "name": "python",
   "version": "3.7.9",
   "mimetype": "text/x-python",
   "codemirror_mode": {
    "name": "ipython",
    "version": 3
   },
   "pygments_lexer": "ipython3",
   "nbconvert_exporter": "python",
   "file_extension": ".py"
  },
  "kernelspec": {
   "name": "python3",
   "display_name": "Python 3.7.9 64-bit"
  },
  "interpreter": {
   "hash": "04635d289a519a1410467dd0afb0db42f9184808881ca68b2eb5a687a20a5a94"
  }
 },
 "nbformat": 4,
 "nbformat_minor": 2
}