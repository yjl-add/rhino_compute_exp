{
 "cells": [
  {
   "cell_type": "code",
   "execution_count": null,
   "source": [],
   "outputs": [],
   "metadata": {}
  },
  {
   "cell_type": "markdown",
   "source": [
    "# Using compute_rhino to run grasshopper ghx in python"
   ],
   "metadata": {}
  },
  {
   "cell_type": "markdown",
   "source": [
    "<center><img src=\"https://camo.githubusercontent.com/413961e70f2265caae51ea3ca3dee6c044d06f878be93582ddcb23d4a7d79af2/68747470733a2f2f7777772e7268696e6f33642e636f6d2f656e2f372e3432303932313334303436303732343530352f696d616765732f7268696e6f2d636f6d707574652d6e65772e737667\" width=\"200\" height=\"200\"><center>"
   ],
   "metadata": {}
  },
  {
   "cell_type": "markdown",
   "source": [
    "<br> One usage of rhino_compute is to collaborate with people from other industry who is not familiar with grasshopper but is better at using python\r\n",
    "<br> rhino3dm is a libary that lets you use OpenNURBS geometry (Mcneel's SDK for writing .3dm) with a RhinoCommon style\r\n",
    "<br>rhino compute lets you calculate Grasshopper definitions online in a serial or parallel solutions."
   ],
   "metadata": {}
  },
  {
   "cell_type": "markdown",
   "source": [
    "# Reference"
   ],
   "metadata": {}
  },
  {
   "cell_type": "markdown",
   "source": [
    "* [about rhino common](https://developer.rhino3d.com/guides/rhinocommon/what-is-rhinocommon/)\r\n",
    "* [about rhino3dm](https://github.com/mcneel/rhino3dm)\r\n",
    "* [about compute_rhino](https://developer.rhino3d.com/guides/compute/features/)\r\n",
    "* [calling copmute with python](https://developer.rhino3d.com/guides/compute/compute-python-getting-started/)\r\n",
    "* [Mcneel Forum](https://discourse.mcneel.com/t/grasshopper-within-compute-rhino3d/77656/32)\r\n",
    "\r\n",
    "## Additional Resource\r\n",
    "* [rhinocommon Github](https://github.com/mcneel/rhinocommon) (#This is actually not relevent)\r\n",
    "* [rhino3dm Github](https://github.com/mcneel/rhino3dm)\r\n",
    "* [compute rhino Github](https://github.com/mcneel/compute.rhino3d)\r\n",
    "* [mcneel developer sample Github](https://github.com/mcneel/rhino-developer-samples)\r\n",
    "* [How to set up local server](https://developer.rhino3d.com/guides/compute/development/)\r\n",
    "\r\n",
    "## API doucumentation\r\n",
    "* [rhinocommon API](https://developer.rhino3d.com/api/RhinoCommon/html/R_Project_RhinoCommon.htm)\r\n",
    "* [rhino3dm API](https://mcneel.github.io/rhino3dm/python/api/index.html)\r\n",
    "* [compute_rhino API](https://compute-rhino3d.readthedocs.io/en/latest/)\r\n",
    "\r\n",
    "## Tutorials\r\n",
    "* [Tutorial on how to use compute.rhino3dm](https://www.youtube.com/watch?v=XCkRXAEJMhg&list=PLzRzqTjuGIDj8tN8_KBfHDMqGFlPFNuEQ&index=2)\r\n",
    "\r\n",
    "* [Tutorial on how to load ghx to python](https://www.youtube.com/watch?v=GCB7duijXQQ&list=PLzRzqTjuGIDj8tN8_KBfHDMqGFlPFNuEQ&index=4)"
   ],
   "metadata": {}
  },
  {
   "cell_type": "markdown",
   "source": [
    "# Chapters\r\n"
   ],
   "metadata": {}
  },
  {
   "cell_type": "markdown",
   "source": [
    "* 00 [Introduction to Compute](#0)\r\n",
    "    - 0.0 [Implication of using compute (You Can Skip This)](#0.0)\r\n",
    "    - 0.1 [Required Modules](#0.1)\r\n",
    "        - 0.2.1 [Using remote server](#0.2.1)\r\n",
    "        - 0.2.2 [Using local Server](#0.2.2)\r\n",
    "    - 0.3 [File formats](#0.3)\r\n"
   ],
   "metadata": {}
  },
  {
   "cell_type": "markdown",
   "source": [
    "* 01 [Ask grasshopper to calculate](#1)\r\n",
    "    - 1.1 [Using one inpute : Printing Hello World](#1.1)\r\n",
    "    - 1.2 [Using two inputs : Simple Demo in depth](#1.2)"
   ],
   "metadata": {}
  },
  {
   "cell_type": "markdown",
   "source": [
    "* 02 [Modifying Inputs](#2)\r\n",
    "    - 2.1 [double : single value](#2.1)\r\n",
    "    - 2.2 [double : multiple value](#2.2)\r\n",
    "    - 2.3 [double : using functions](#2.3)"
   ],
   "metadata": {}
  },
  {
   "cell_type": "markdown",
   "source": [
    "* 03 [Creating Geometry Using rhino3dm and Writing with Compute](#3)\r\n",
    "    - 3.1 [Point](#3.1)\r\n",
    "    - 3.2 [Curve](#3.2)\r\n",
    "    - 3.3 [Surface](#3.3)\r\n",
    "    - 3.4 [Brep](#3.4)\r\n",
    "    - 3.5 [Mesh](#3.5)\r\n",
    "    - 3.6 [SubD](#3.6)"
   ],
   "metadata": {}
  },
  {
   "cell_type": "markdown",
   "source": [
    "* 04 [Passing Data](#4)\r\n",
    "    - 4.1 [String](#4.1)\r\n",
    "        - 4.1.1 [String Pass]\r\n",
    "        - 4.1.2 [String Python Syntax Conflict]\r\n",
    "        - 4.1.3 [String Modification]\r\n",
    "    - 4.2 [Float](#4.2)\r\n",
    "        - 4.2.1 [Float Pass]\r\n",
    "        - 4.2.2 [Case Senesitivity Test]\r\n",
    "\r\n",
    "    - 4.3 [Boolean](#4.3)\r\n",
    "        - 4.3.1 [Bool Pass]\r\n",
    "    - 4.4 [Interval](#4.4)\r\n",
    "        - 4.4.1 [Interval Pass]\r\n",
    "\r\n",
    "    - 4.5 [Point](#4.5)\r\n",
    "        - 4.5.1 [Point Pass]\r\n",
    "        - 4.5.2 [Point Intercept]\r\n",
    "        - 4.5.2 [Point Modification]\r\n",
    "\r\n",
    "    - 4.6 [Vector](#4.6)\r\n",
    "        - 4.6.1\r\n",
    "    \r\n",
    "    - 4.7 [Plane](#4.7)\r\n",
    "        - 4.7.1"
   ],
   "metadata": {}
  },
  {
   "cell_type": "markdown",
   "source": [
    "* 04 Passing Data : 2D\r\n",
    "    - 4.8 [Line](#4.8)\r\n",
    "        - 4.8.1\r\n",
    "\r\n",
    "    - 4.9 [Polyline](#4.9)\r\n",
    "        - 4.9.1\r\n",
    "\r\n",
    "    - 4.10 [Circle](#4.10)\r\n",
    "        - 4.10.1\r\n",
    "\r\n",
    "    - 4.11 [Curve](#4.11)\r\n",
    "        - 4.12.1\r\n",
    "\r\n",
    "    - 4.12 [Polycurve](#4.1@)\r\n",
    "        - 4.10.1"
   ],
   "metadata": {}
  },
  {
   "cell_type": "markdown",
   "source": [
    "* 04 Passing Data - 3D\r\n",
    "    - 4.13 [Surface](#4.13)\r\n",
    "        - 4.13.1\r\n",
    "    \r\n",
    "    - 4.14 [Brep](#4.14)\r\n",
    "        - 4.14.1\r\n",
    "    \r\n",
    "    - 4.15 [Mesh](#4.15)\r\n",
    "        - 4.15.1 [Mesh Pass](#4.15.1)\r\n",
    "        - 4.15.2 [Mesh Vertex](#4.15.2)\r\n",
    "        - 4.15.3 [Mesh Face Type](#4.15.3)\r\n",
    "        - 4.15.4 [Mesh Face List](#4.15.4)\r\n",
    "        - 4.15.5 [Mesh Export STL](#4.15.5)\r\n",
    "    \r\n",
    "    - 4.16 [Subd](#4.16)\r\n",
    "        - 4.16.1 [Subd Pass](#4.16.1)\r\n",
    "        - 4.16.2 [Subd To Brep](#4.16.2)\r\n",
    "        - 4.16.3 [Subd To Mesh](#4.16.3)"
   ],
   "metadata": {}
  },
  {
   "cell_type": "markdown",
   "source": [
    "* 05 [Working with Complex Definition]\r\n",
    "    - 5.1\r\n",
    "    - 5.2\r\n",
    "    - 5.3\r\n",
    "    - 5.4"
   ],
   "metadata": {}
  },
  {
   "cell_type": "markdown",
   "source": [
    "* 09 [Advanced Topic](#9)\r\n",
    "    - 9.1 [Using component with external grasshopper plugins](#9.1)\r\n",
    "        - 9.1.1 [Using Metahopper](#9.1.1)\r\n",
    "        - 9.1.2 [Creating STL/OBJ](#9.1.2)\r\n",
    "        - 9.1.3 [Using Karamba3D](#9.1.3)\r\n",
    "    - 9.2 [Using python modules with compute](#9.2)\r\n",
    "        - 9.2.1 [Exporting Mesh](#9.2.1)\r\n",
    "        - 9.2.2 []\r\n",
    "        - 9.2.3 []\r\n",
    "    - 9.3 [Complex Pipeline for collaboration](#9.3)\r\n",
    "        - 9.3.1 [Using components that is not connected](#9.3.1)\r\n",
    "        - 9.3.2 [Using separate Grasshopper definition and combining](#9.3.2)\r\n",
    "        - 9.3.3 [Reading 3dm](#9.3.3)"
   ],
   "metadata": {}
  },
  {
   "cell_type": "markdown",
   "source": [
    "# 00 Introduction to compute <a class=\"anchor\" id=\"0\"></a>"
   ],
   "metadata": {}
  },
  {
   "cell_type": "markdown",
   "source": [
    "## 0.0 Implication of using compute as a tool for bridging Grasshopper <a class=\"anchor\" id=\"0.0\"></a>"
   ],
   "metadata": {}
  },
  {
   "cell_type": "markdown",
   "source": [
    "What does it mean to use compute in the first place?\r\n",
    "We can now use rhino's goemetry in many environments.\r\n",
    "<br> But why should we use rhino compute? When would it be beneficial?\r\n",
    "<br> Here are the options we can choose for designing generative models [Rhino Technology Overview](https://developer.rhino3d.com/guides/general/rhino-technology-overview/)"
   ],
   "metadata": {}
  },
  {
   "cell_type": "markdown",
   "source": [
    "* [Rhino Developer](https://developer.rhino3d.com/)\r\n",
    "    - Main Page\r\n",
    "        - [RhinoCommon](https://developer.rhino3d.com/guides/rhinocommon/)\r\n",
    "        - [Rhino.Python](https://developer.rhino3d.com/guides/rhinopython/)\r\n",
    "        - [Grasshopper](https://developer.rhino3d.com/guides/grasshopper/)\r\n",
    "    - [Guides](https://developer.rhino3d.com/guides/)\r\n",
    "    - [Samples](https://developer.rhino3d.com/samples/)\r\n",
    "        - [Samples Github](https://github.com/mcneel/rhino-developer-samples)"
   ],
   "metadata": {}
  },
  {
   "cell_type": "markdown",
   "source": [
    "* Rhinoceros\r\n",
    "    - Pure Rhinoceros\r\n",
    "    - RhinoScript\r\n",
    "        - [RhinoScript API doc](https://developer.rhino3d.com/api/rhinoscript/)\r\n",
    "    - PythonScript\r\n",
    "        - [RhinoScriptSyntax](https://developer.rhino3d.com/guides/rhinopython/python-rhinoscriptsyntax-introduction/)\r\n",
    "        - [RhinoCommon from Python](https://developer.rhino3d.com/guides/rhinopython/using-rhinocommon-from-python/)\r\n",
    "            - [Example Github](https://github.com/mcneel/rhino-developer-samples/tree/7/rhinopython)"
   ],
   "metadata": {}
  },
  {
   "cell_type": "markdown",
   "source": [
    "* Grasshopper\r\n",
    "    - Pure Grasshopper\r\n",
    "    - Python\r\n",
    "        - GH_Python component\r\n",
    "            - IronPython 2.7\r\n",
    "                - RhinoScriptSyntax\r\n",
    "                    - [RhinoScriptSyntax API doc](https://developer.rhino3d.com/api/RhinoScriptSyntax/)\r\n",
    "                - RhinoCommon\r\n",
    "                    - [RhinoCommon API doc](https://developer.rhino3d.com/api/RhinoCommon/html/R_Project_RhinoCommon.htm)\r\n",
    "                - [debuging in visual studio](https://developer.rhino3d.com/guides/rhinopython/ghpython-debugging/)\r\n",
    "                - [Node in code](https://developer.rhino3d.com/guides/rhinopython/ghpython-call-components/)\r\n",
    "        - [Hops component](https://developer.rhino3d.com/guides/grasshopper/hops-component/)\r\n",
    "            - CPython 3.9\r\n",
    "                - rhinoinside\r\n",
    "                - RhinoCommon\r\n",
    "                - compute_rhino\r\n",
    "            - [Hops Github](https://github.com/mcneel/compute.rhino3d/tree/master/src/ghhops-server-py)\r\n",
    "        - External grasshopper plugin\r\n",
    "            - [GH_CPython](https://www.food4rhino.com/en/app/ghcpython)\r\n",
    "                - CPython\r\n",
    "            - [GH_Python_Remote](https://www.food4rhino.com/en/app/gh-python-remote)\r\n",
    "    - C#\r\n",
    "        - GH_C# component\r\n",
    "            - RhinoCommon"
   ],
   "metadata": {}
  },
  {
   "cell_type": "markdown",
   "source": [
    "* External Python\r\n",
    "    - [rhinoinside](https://github.com/mcneel/rhino.inside)\r\n",
    "        - [rhinoinside + CPython : RhinoCommon](https://github.com/mcneel/rhino.inside-cpython)\r\n",
    "            - [rhinocommon API doc](https://developer.rhino3d.com/api/RhinoCommon/html/R_Project_RhinoCommon.htm)\r\n",
    "    - [rhino3dm](https://github.com/mcneel/rhino3dm)\r\n",
    "        - [rhino3dm + python](https://github.com/mcneel/rhino3dm/blob/main/docs/python/RHINO3DM.PY.md)\r\n",
    "            - [rhino3dm.py API doc](https://mcneel.github.io/rhino3dm/python/api/index.html)\r\n",
    "    - compute_rhino\r\n",
    "        - CPython 3.7\r\n",
    "            - [compute_rhino API doc](https://compute-rhino3d.readthedocs.io/en/latest/)\r\n",
    "            - [compute_rhino 2400 API](https://developer.rhino3d.com/guides/compute/features/)"
   ],
   "metadata": {}
  },
  {
   "cell_type": "markdown",
   "source": [
    "* External C#\r\n",
    "    - plugin development\r\n",
    "        - Rhinoceros plugin\r\n",
    "        - Grasshopper plugin"
   ],
   "metadata": {}
  },
  {
   "cell_type": "code",
   "execution_count": 1,
   "source": [
    "import rhinoinside\r\n",
    "rhinoinside.load()\r\n",
    "import System\r\n",
    "import Rhino"
   ],
   "outputs": [],
   "metadata": {}
  },
  {
   "cell_type": "code",
   "execution_count": 2,
   "source": [
    "pt_rhis = System.Collections.Generic.List[Rhino.Geometry.Point3d]()\r\n",
    "pt_rhis.Add(Rhino.Geometry.Point3d(0.0,0.0,0.0))\r\n",
    "pt_rhis.Add(Rhino.Geometry.Point3d(1.0,0.0,0.0))\r\n",
    "pt_rhis.Add(Rhino.Geometry.Point3d(1.5,2.0,0.0))\r\n",
    "pl_rhis = Rhino.Geometry.Polyline(pt_rhis)\r\n",
    "pl_rhis_len = pl_rhis.Length\r\n",
    "print(pl_rhis_len)"
   ],
   "outputs": [
    {
     "output_type": "stream",
     "name": "stdout",
     "text": [
      "3.0615528128088303\n"
     ]
    }
   ],
   "metadata": {}
  },
  {
   "cell_type": "code",
   "execution_count": 3,
   "source": [
    "from rhino3dm import *"
   ],
   "outputs": [],
   "metadata": {}
  },
  {
   "cell_type": "code",
   "execution_count": 4,
   "source": [
    "pts_rh3dm = []\r\n",
    "pts_rh3dm.append(Point3d(0.0,0.0,0.0))\r\n",
    "pts_rh3dm.append(Point3d(1.0,0.0,0.0))\r\n",
    "pts_rh3dm.append(Point3d(1.5,2.0,0.0))\r\n",
    "pl_rh3dm = Polyline(pts_rh3dm)\r\n",
    "pl_rh3dm_length = pl_rh3dm.Length\r\n",
    "print(pl_rh3dm_length)"
   ],
   "outputs": [
    {
     "output_type": "stream",
     "name": "stdout",
     "text": [
      "3.0615528128088303\n"
     ]
    }
   ],
   "metadata": {}
  },
  {
   "cell_type": "markdown",
   "source": [
    "<center><img src=\"images/sc05.jpg\" width=\"800\" height=\"\"><center>"
   ],
   "metadata": {}
  },
  {
   "cell_type": "markdown",
   "source": [
    "You would notice that we can produce same results. We just need to know the syntax. But if you are not familiar with using rhinocommon, rhino3dm in the python environment, It would be nice to just use Grasshopper Definition like a function inside python IDE"
   ],
   "metadata": {}
  },
  {
   "cell_type": "markdown",
   "source": [
    "## 0.1 Required Modules <a class=\"anchor\" id=\"0.1\"></a>"
   ],
   "metadata": {}
  },
  {
   "cell_type": "markdown",
   "source": [
    "You need to install\r\n",
    "* python 3.7\r\n",
    "* rhino3dm [Link](https://pypi.org/project/rhino3dm/)\r\n",
    "* compute rhino [Link](https://pypi.org/project/compute-rhino3d/)\r\n",
    "* rhinoinside [Link](https://pypi.org/project/rhinoinside/) # optional \r\n",
    "* Rhino stubs [Link](https://pypi.org/project/Rhino-stubs/) # optional (it's for getting code auto completes)"
   ],
   "metadata": {}
  },
  {
   "cell_type": "markdown",
   "source": [
    "If you don't even know how to install python packages, search for pip installation\r\n",
    "\r\n",
    "[Installing Python Packages](https://packaging.python.org/tutorials/installing-packages/)\r\n",
    "\r\n",
    "[Opneing Console on OS](https://opentechschool.github.io/python-beginners/en/getting_started.html#what-is-python-exactly)"
   ],
   "metadata": {}
  },
  {
   "cell_type": "code",
   "execution_count": 165,
   "source": [
    "import compute_rhino3d.Util\r\n",
    "import compute_rhino3d.Grasshopper as gh\r\n",
    "import rhino3dm\r\n",
    "import json\r\n",
    "\r\n",
    "# optional (incase you want to define object class or smth)\r\n",
    "import rhinoinside\r\n",
    "rhinoinside.load()\r\n",
    "import System\r\n",
    "import Rhino"
   ],
   "outputs": [],
   "metadata": {}
  },
  {
   "cell_type": "markdown",
   "source": [
    "## 0.2.1 Using Remote Server <a class=\"anchor\" id=\"0.2.1\"></a>\r\n",
    "You can use rhino3dm without server, but compute requires to run in server\r\n",
    "<br> If you don't have any server running locally, you can use Mcneel's server at this moment.\r\n",
    "<br> You need to have rhino account for this\r\n",
    "<br> TO GET THE TOCKEN, GO TO [Log In](https://www.rhino3d.com/compute/login)\r\n",
    "<br> Refer [Tutorial on how to use compute.rhino3dm](https://www.youtube.com/watch?v=XCkRXAEJMhg&list=PLzRzqTjuGIDj8tN8_KBfHDMqGFlPFNuEQ&index=2) for using Mcneel server"
   ],
   "metadata": {}
  },
  {
   "cell_type": "markdown",
   "source": [
    "<center><img src=\"images/sc00.jpg\" width=\"800\" height=><center>"
   ],
   "metadata": {}
  },
  {
   "cell_type": "code",
   "execution_count": 3,
   "source": [
    "# incase you are using online server\r\n",
    "# compute_rhino3d.Util.authToken = ADD_TOKEN_HERE"
   ],
   "outputs": [],
   "metadata": {}
  },
  {
   "cell_type": "markdown",
   "source": [
    "## 0.2.2 Using Local Server <a class=\"anchor\" id=\"0.2.2\"></a>\r\n",
    "If you want to set up local server,\r\n",
    "Refer [Tutorial on how to load ghx to python](https://www.youtube.com/watch?v=GCB7duijXQQ&list=PLzRzqTjuGIDj8tN8_KBfHDMqGFlPFNuEQ&index=4)\r\n",
    "1. Download the files from [Link](https://ci.appveyor.com/project/mcneel/compute-rhino3d/branch/master/artifacts)\r\n",
    "2. Run compute.frontend.exe as admin"
   ],
   "metadata": {}
  },
  {
   "cell_type": "markdown",
   "source": [
    "<center><img src=\"images/sc01.jpg\" width=\"500\" height=><center>"
   ],
   "metadata": {}
  },
  {
   "cell_type": "markdown",
   "source": [
    "If you have successfully connected to the server, the exe would throw below messages"
   ],
   "metadata": {}
  },
  {
   "cell_type": "markdown",
   "source": [
    "<center><img src=\"images/sc02.jpg\" width=\"500\" height=><center>"
   ],
   "metadata": {}
  },
  {
   "cell_type": "markdown",
   "source": [
    "And also you would be able to access server by this address (localhost:8081/sdk)"
   ],
   "metadata": {}
  },
  {
   "cell_type": "markdown",
   "source": [
    "<center><img src=\"images/sc03.jpg\" width=\"500\" height=><center>"
   ],
   "metadata": {}
  },
  {
   "cell_type": "code",
   "execution_count": 4,
   "source": [
    "# we are using local server for this exmample\r\n",
    "compute_rhino3d.Util.url = \"http://localhost:8081/\"\r\n",
    "post_url = compute_rhino3d.Util.url + \"grasshopper\""
   ],
   "outputs": [],
   "metadata": {}
  },
  {
   "cell_type": "markdown",
   "source": [
    "## 0.3 File Formats <a class=\"anchor\" id=\"0.3\"></a>"
   ],
   "metadata": {}
  },
  {
   "cell_type": "markdown",
   "source": [
    "<center><img src=\"images/GH_Binary-1.jpg\" width=\"150\" height=\"150\"><img src=\"images/GH_Xml-1.jpg\" width=\"150\" height=\"150\"><center>"
   ],
   "metadata": {}
  },
  {
   "cell_type": "markdown",
   "source": [
    "One thing to have in mind is that your grasshopper file has to be saved in .ghx format not .gh\r\n",
    "<br> The <span style=\"color:cyan\">.gh</span> file is commonly used format but\r\n",
    "the <span style=\"color:magenta\">.ghx</span> file is the format rhino compute can read"
   ],
   "metadata": {}
  },
  {
   "cell_type": "markdown",
   "source": [
    "<center><img src=\"images/canvas-ex00-01.jpg\" width=\"800\" height=><center>"
   ],
   "metadata": {}
  },
  {
   "cell_type": "markdown",
   "source": [
    "You also need to set up your <span style=\"color:yellow\">Grasshopper Definition</span> like this. Grouping the each <span style=\"color:yellow\">Node</span> into <span style=\"color:yellow\">Group</span> with names on it.\r\n",
    "\r\n",
    "<br> You would need to format the name as <span style=\"color:yellow\">RH_IN:</span> and <span style=\"color:yellow\">RH_OUT:</span>\r\n",
    "\r\n",
    "<br> By setting up ghx file formated this way, it can be formated into json, sent to server, and communicate with python. (That's what I understood from my limited understanding)"
   ],
   "metadata": {}
  },
  {
   "cell_type": "markdown",
   "source": [
    "<center><img src=\"images/canvas-ex00-01_alt.jpg\" width=\"800\" height=><center>"
   ],
   "metadata": {}
  },
  {
   "cell_type": "markdown",
   "source": [
    "Starting from 2021 Feb 26 we can now use family of <span style=\"color:magenta\">Get</span> components in <span style=\"color:lime\">Grasshopper</span> instead of groups"
   ],
   "metadata": {}
  },
  {
   "cell_type": "markdown",
   "source": [
    "# 01 Ask Grasshopper to calculate <a class=\"anchor\" id=\"1\"></a>"
   ],
   "metadata": {}
  },
  {
   "cell_type": "markdown",
   "source": [
    "## 1.1 Changing one parameter : Printing Hello World\r\n",
    "That's enough talking, let's run codes to see whether it works or not. From now on we would consider all the .GHX files are stored in ghx_dir"
   ],
   "metadata": {}
  },
  {
   "cell_type": "code",
   "execution_count": 15,
   "source": [
    "ghx_dir = 'ghx\\\\'\r\n",
    "rh_dir = '3dm\\\\'"
   ],
   "outputs": [],
   "metadata": {}
  },
  {
   "cell_type": "code",
   "execution_count": 16,
   "source": [
    "# name of the files to be used\r\n",
    "ghfile = ghx_dir + 'ex01-01.ghx'\r\n",
    "# model = rhino3dm.File3dm() # you only need these when you want to create 3dm\r\n",
    "# filename = rh_dir + 'ex01-01.3dm'"
   ],
   "outputs": [],
   "metadata": {}
  },
  {
   "cell_type": "code",
   "execution_count": 17,
   "source": [
    "# encode data\r\n",
    "gi_string_tr = gh.DataTree(\"RH_IN:gi_string\")\r\n",
    "text = \"Hello World!\"\r\n",
    "gi_string_tr.Append([0], [text])"
   ],
   "outputs": [],
   "metadata": {}
  },
  {
   "cell_type": "code",
   "execution_count": 18,
   "source": [
    "# combine trees\r\n",
    "trees = [gi_string_tr]"
   ],
   "outputs": [],
   "metadata": {}
  },
  {
   "cell_type": "code",
   "execution_count": 19,
   "source": [
    "# decode data\r\n",
    "output = gh.EvaluateDefinition(ghfile, trees)\r\n",
    "values = output[\"values\"]"
   ],
   "outputs": [],
   "metadata": {}
  },
  {
   "cell_type": "code",
   "execution_count": 20,
   "source": [
    "tags = []\r\n",
    "for i in range(len(values)):\r\n",
    "    tname = values[i][\"ParamName\"]\r\n",
    "    tags.append(tname)\r\n",
    "print(tags)"
   ],
   "outputs": [
    {
     "output_type": "stream",
     "name": "stdout",
     "text": [
      "['RH_OUT:go_string']\n"
     ]
    }
   ],
   "metadata": {}
  },
  {
   "cell_type": "code",
   "execution_count": 21,
   "source": [
    "# getting tags, name search\r\n",
    "def ns(name):\r\n",
    "    for i in range(len(values)):\r\n",
    "        vname = values[i][\"ParamName\"]\r\n",
    "        if (vname == \"RH_OUT:\" + name):\r\n",
    "            return i"
   ],
   "outputs": [],
   "metadata": {}
  },
  {
   "cell_type": "code",
   "execution_count": 22,
   "source": [
    "# search for Data Tree\r\n",
    "tag = \"go_string\"\r\n",
    "ou_ind = ns(tag)\r\n",
    "ou_data = values[ou_ind][\"InnerTree\"]\r\n",
    "print(ou_data)"
   ],
   "outputs": [
    {
     "output_type": "stream",
     "name": "stdout",
     "text": [
      "{'{0}': [{'type': 'System.String', 'data': '\"Hello World!\"'}]}\n"
     ]
    }
   ],
   "metadata": {}
  },
  {
   "cell_type": "code",
   "execution_count": 23,
   "source": [
    "# retrieve data from given Data Tree\r\n",
    "ou_value = list(ou_data.values())\r\n",
    "ou_unpack = ou_value[0][0][\"data\"]\r\n",
    "print(ou_unpack)"
   ],
   "outputs": [
    {
     "output_type": "stream",
     "name": "stdout",
     "text": [
      "\"Hello World!\"\n"
     ]
    }
   ],
   "metadata": {}
  },
  {
   "cell_type": "markdown",
   "source": [
    "## 1.2 Changing two parameters : Demo indepth\r\n",
    "Now if that code ran without a problem, let's see what it actually happening"
   ],
   "metadata": {}
  },
  {
   "cell_type": "markdown",
   "source": [
    "<center><img src=\"images/canvas-ex01-01.jpg\" width=\"800\" height=><center>"
   ],
   "metadata": {}
  },
  {
   "cell_type": "code",
   "execution_count": 24,
   "source": [
    "# name of the files to be used\r\n",
    "ghfile = ghx_dir + 'ex01-02.ghx'"
   ],
   "outputs": [],
   "metadata": {}
  },
  {
   "cell_type": "markdown",
   "source": [
    "To ask grasshopper to calculate the definition, we have to specify the name of <span style=\"color:yellow\">Node</span> we want to modify\r\n",
    "\r\n",
    "<br> <span style=\"color:yellow\">\"RH_IN:gi_num1\"</span> is the parameter we want to modify in our example.\r\n",
    "\r\n",
    "<br> <span style=\"color:yellow\">[0]</span> is the index of the item we want to inserted.\r\n",
    "<br> If you want to add more items, you can use loops to do that, but keep in mind the Data Tree would change depending on the structure. We are going to discuss about that in following chapters. Let's keep this into single data at the moment\r\n",
    "\r\n",
    "<br> <span style=\"color:yellow\">[num1]</span> would the the double value we want to insert. \r\n",
    "<br> Because sometimes the RhinoCommon or Grasshopper is sensetive to data types, try to format in corresponding types"
   ],
   "metadata": {}
  },
  {
   "cell_type": "markdown",
   "source": [
    "I'm assuming there would be ways to check the list of inputs in python. But I couldn't find that in the moment"
   ],
   "metadata": {}
  },
  {
   "cell_type": "code",
   "execution_count": 25,
   "source": [
    "# encode data\r\n",
    "gi_num1_tr = gh.DataTree(\"RH_IN:gi_num1\")\r\n",
    "num1 = float(3.0)\r\n",
    "gi_num1_tr.Append([0], [num1])\r\n",
    "\r\n",
    "gi_num2_tr = gh.DataTree(\"RH_IN:gi_num2\")\r\n",
    "num2 = float(4.0)\r\n",
    "gi_num2_tr.Append([0], [num2])"
   ],
   "outputs": [],
   "metadata": {}
  },
  {
   "cell_type": "markdown",
   "source": [
    "After we are done with modifying the data, we can now ask the server to do the calculation\r\n",
    "The modification is only applied to the gh.DataTree we have used in above\r\n",
    "## If you don't include the data you want to modify on the DataTree, there would be no change and default value would be used\r\n",
    "Here we are intentionally omiting the second data tree"
   ],
   "metadata": {}
  },
  {
   "cell_type": "code",
   "execution_count": 26,
   "source": [
    "# combine trees\r\n",
    "trees = [gi_num1_tr]"
   ],
   "outputs": [],
   "metadata": {}
  },
  {
   "cell_type": "markdown",
   "source": [
    "The data would be in dicionary as json format and we can retrieve the specific data using ParamName we have defined in the grasshopper definition"
   ],
   "metadata": {}
  },
  {
   "cell_type": "code",
   "execution_count": 27,
   "source": [
    "# decode data\r\n",
    "output = gh.EvaluateDefinition(ghfile, trees)\r\n",
    "values = output[\"values\"]"
   ],
   "outputs": [],
   "metadata": {}
  },
  {
   "cell_type": "code",
   "execution_count": 28,
   "source": [
    "print(output)"
   ],
   "outputs": [
    {
     "output_type": "stream",
     "name": "stdout",
     "text": [
      "{'algo': '', 'pointer': 'md5_F0374C5D1779C8ED973DE01493FF02E1', 'cachesolve': False, 'recursionlevel': 0, 'values': [{'ParamName': 'RH_OUT:go_mult', 'InnerTree': {'{0}': [{'type': 'System.Double', 'data': '9.0'}]}}], 'warnings': [], 'errors': []}\n"
     ]
    }
   ],
   "metadata": {}
  },
  {
   "cell_type": "markdown",
   "source": [
    "You can open the grasshopper file again to check for available list of output parameters available\r\n",
    "or search from the output"
   ],
   "metadata": {}
  },
  {
   "cell_type": "code",
   "execution_count": 29,
   "source": [
    "tags = []\r\n",
    "for i in range(len(values)):\r\n",
    "    tname = values[i][\"ParamName\"]\r\n",
    "    tags.append(tname)\r\n",
    "print(tags)"
   ],
   "outputs": [
    {
     "output_type": "stream",
     "name": "stdout",
     "text": [
      "['RH_OUT:go_mult']\n"
     ]
    }
   ],
   "metadata": {}
  },
  {
   "cell_type": "markdown",
   "source": [
    "We need to find the index of the result we are looking for from the gh.EvaluatedDefinition\r\n",
    "<br> Because the location of that index dependes on the order we created the nodes in the grasshopper canvas, it can be difficult to find and would change over time. For that reason, let's make a function that searches for us"
   ],
   "metadata": {}
  },
  {
   "cell_type": "code",
   "execution_count": 30,
   "source": [
    "# getting tags, name search\r\n",
    "def ns(name):\r\n",
    "    for i in range(len(values)):\r\n",
    "        vname = values[i][\"ParamName\"]\r\n",
    "        if (vname == \"RH_OUT:\" + name):\r\n",
    "            return i"
   ],
   "outputs": [],
   "metadata": {}
  },
  {
   "cell_type": "markdown",
   "source": [
    "The grasshopper would send data using proprietary <span style=\"color:lime\">Data Tree</span> structure formatted into <span style=\"color:turquoise\">dictionary</span> in python.\r\n",
    "<br> Because we omitted one tree at the begining, it is using only changing the first parameter as 2 and using 3 for the second"
   ],
   "metadata": {}
  },
  {
   "cell_type": "code",
   "execution_count": 31,
   "source": [
    "# search for Data Tree\r\n",
    "tag = \"go_mult\"\r\n",
    "ou_ind = ns(tag)\r\n",
    "ou_data = values[ou_ind][\"InnerTree\"]\r\n",
    "print(ou_data)"
   ],
   "outputs": [
    {
     "output_type": "stream",
     "name": "stdout",
     "text": [
      "{'{0}': [{'type': 'System.Double', 'data': '9.0'}]}\n"
     ]
    }
   ],
   "metadata": {}
  },
  {
   "cell_type": "markdown",
   "source": [
    "<center><img src=\"images/canvas-ex01-02.jpg\" width=\"500\" height=><center>"
   ],
   "metadata": {}
  },
  {
   "cell_type": "markdown",
   "source": [
    "Because of that, if we want to find the actual data from the dicitionary \r\n",
    "<span style=\"color:turquoise\">value</span>\r\n",
    "using <span style=\"color:turquoise\">key</span>,\r\n",
    "we need to know this information in the grasshopper environment\r\n",
    "as it can change dynamically depending on the data structure."
   ],
   "metadata": {}
  },
  {
   "cell_type": "code",
   "execution_count": 32,
   "source": [
    "ou_keys = list(ou_data.keys())\r\n",
    "print(ou_keys)"
   ],
   "outputs": [
    {
     "output_type": "stream",
     "name": "stdout",
     "text": [
      "['{0}']\n"
     ]
    }
   ],
   "metadata": {}
  },
  {
   "cell_type": "code",
   "execution_count": 33,
   "source": [
    "# retrieve data from given Data Tree\r\n",
    "ou_value = ou_data[\"{0}\"][0][\"data\"]\r\n",
    "print(ou_value)"
   ],
   "outputs": [
    {
     "output_type": "stream",
     "name": "stdout",
     "text": [
      "9.0\n"
     ]
    }
   ],
   "metadata": {}
  },
  {
   "cell_type": "markdown",
   "source": [
    "However, sometimes that is not something we want to do. So for ease of use, we would blindly only get the values from the dict and consider as \r\n",
    "<span style=\"color:turquoise\">list</span> or <span style=\"color:turquoise\">nested list</span>"
   ],
   "metadata": {}
  },
  {
   "cell_type": "code",
   "execution_count": 34,
   "source": [
    "# retrieve data from given Data Tree\r\n",
    "ou_value = list(ou_data.values())\r\n",
    "ou_unpack = ou_value[0][0][\"data\"]\r\n",
    "print(ou_unpack)"
   ],
   "outputs": [
    {
     "output_type": "stream",
     "name": "stdout",
     "text": [
      "9.0\n"
     ]
    }
   ],
   "metadata": {}
  },
  {
   "cell_type": "markdown",
   "source": [
    "To detail what is happening, we can check how the data type is changing"
   ],
   "metadata": {}
  },
  {
   "cell_type": "code",
   "execution_count": 35,
   "source": [
    "v1 = ou_value[0]\r\n",
    "print(v1)\r\n",
    "print(type(v1))"
   ],
   "outputs": [
    {
     "output_type": "stream",
     "name": "stdout",
     "text": [
      "[{'type': 'System.Double', 'data': '9.0'}]\n",
      "<class 'list'>\n"
     ]
    }
   ],
   "metadata": {}
  },
  {
   "cell_type": "code",
   "execution_count": 36,
   "source": [
    "v1 = ou_value[0][0]\r\n",
    "print(v1)\r\n",
    "print(type(v1))"
   ],
   "outputs": [
    {
     "output_type": "stream",
     "name": "stdout",
     "text": [
      "{'type': 'System.Double', 'data': '9.0'}\n",
      "<class 'dict'>\n"
     ]
    }
   ],
   "metadata": {}
  },
  {
   "cell_type": "code",
   "execution_count": 37,
   "source": [
    "v1 = ou_value[0][0][\"data\"]\r\n",
    "print(v1)\r\n",
    "print(type(v1))"
   ],
   "outputs": [
    {
     "output_type": "stream",
     "name": "stdout",
     "text": [
      "9.0\n",
      "<class 'str'>\n"
     ]
    }
   ],
   "metadata": {}
  },
  {
   "cell_type": "markdown",
   "source": [
    "# 02 Modifying Input : Double <a class=\"anchor\" id=\"2\"></a>"
   ],
   "metadata": {}
  },
  {
   "cell_type": "markdown",
   "source": [
    "<center><img src=\"images/canvas-ex02-02.jpg\" width=\"800\" height=><center>"
   ],
   "metadata": {}
  },
  {
   "cell_type": "code",
   "execution_count": 38,
   "source": [
    "# name of the files to be used\r\n",
    "ghfile = ghx_dir + 'ex02.ghx'"
   ],
   "outputs": [],
   "metadata": {}
  },
  {
   "cell_type": "markdown",
   "source": [
    "## 2.1 Single Value\r\n",
    "For this example we are going to create rectangle from single number.\r\n",
    "<br> The grasshopper definition is using multiplciation of two inputs as X and Y dimension of rectangle and calculating it's area\r\n",
    "<br> But we are going to intervene and insert new value"
   ],
   "metadata": {}
  },
  {
   "cell_type": "code",
   "execution_count": 39,
   "source": [
    "# encode data\r\n",
    "gi_mult_tr = gh.DataTree(\"RH_IN:gi_mult\")\r\n",
    "mult = float(10.0)\r\n",
    "gi_mult_tr.Append([0], [mult])"
   ],
   "outputs": [],
   "metadata": {}
  },
  {
   "cell_type": "code",
   "execution_count": 40,
   "source": [
    "# combine trees\r\n",
    "trees = [gi_mult_tr]"
   ],
   "outputs": [],
   "metadata": {}
  },
  {
   "cell_type": "code",
   "execution_count": 41,
   "source": [
    "# decode data\r\n",
    "output = gh.EvaluateDefinition(ghfile, trees)\r\n",
    "values = output[\"values\"]"
   ],
   "outputs": [],
   "metadata": {}
  },
  {
   "cell_type": "code",
   "execution_count": 42,
   "source": [
    "tags = []\r\n",
    "for i in range(len(values)):\r\n",
    "    tname = values[i][\"ParamName\"]\r\n",
    "    tags.append(tname)\r\n",
    "print(tags)"
   ],
   "outputs": [
    {
     "output_type": "stream",
     "name": "stdout",
     "text": [
      "['RH_OUT:go_area', 'RH_OUT:go_mult']\n"
     ]
    }
   ],
   "metadata": {}
  },
  {
   "cell_type": "code",
   "execution_count": 43,
   "source": [
    "# getting tags, name search\r\n",
    "def ns(name):\r\n",
    "    for i in range(len(values)):\r\n",
    "        vname = values[i][\"ParamName\"]\r\n",
    "        if (vname == \"RH_OUT:\" + name):\r\n",
    "            return i"
   ],
   "outputs": [],
   "metadata": {}
  },
  {
   "cell_type": "code",
   "execution_count": 44,
   "source": [
    "# search for Data Tree\r\n",
    "tag = \"go_area\"\r\n",
    "ou_ind = ns(tag)\r\n",
    "ou_data = values[ou_ind][\"InnerTree\"]\r\n",
    "print(ou_data)"
   ],
   "outputs": [
    {
     "output_type": "stream",
     "name": "stdout",
     "text": [
      "{'{0}': [{'type': 'System.Double', 'data': '100.0'}]}\n"
     ]
    }
   ],
   "metadata": {}
  },
  {
   "cell_type": "code",
   "execution_count": 45,
   "source": [
    "# retrieve data from given Data Tree\r\n",
    "ou_value = list(ou_data.values())\r\n",
    "ou_unpack = ou_value[0][0][\"data\"]\r\n",
    "print(ou_unpack)"
   ],
   "outputs": [
    {
     "output_type": "stream",
     "name": "stdout",
     "text": [
      "100.0\n"
     ]
    }
   ],
   "metadata": {}
  },
  {
   "cell_type": "markdown",
   "source": [
    "## 2.2 Multiple Value\r\n",
    "For thie example, we are going to intervene and insert multiple data"
   ],
   "metadata": {}
  },
  {
   "cell_type": "code",
   "execution_count": 46,
   "source": [
    "# encode data\r\n",
    "gi_mult_tr = gh.DataTree(\"RH_IN:gi_mult\")\r\n",
    "for i in range(10):\r\n",
    "    mult = float(i)\r\n",
    "    gi_mult_tr.Append([i], [mult])\r\n",
    "    print(mult)\r\n"
   ],
   "outputs": [
    {
     "output_type": "stream",
     "name": "stdout",
     "text": [
      "0.0\n",
      "1.0\n",
      "2.0\n",
      "3.0\n",
      "4.0\n",
      "5.0\n",
      "6.0\n",
      "7.0\n",
      "8.0\n",
      "9.0\n"
     ]
    }
   ],
   "metadata": {}
  },
  {
   "cell_type": "code",
   "execution_count": 47,
   "source": [
    "# combine trees\r\n",
    "trees = [gi_mult_tr]"
   ],
   "outputs": [],
   "metadata": {}
  },
  {
   "cell_type": "code",
   "execution_count": 48,
   "source": [
    "# decode data\r\n",
    "output = gh.EvaluateDefinition(ghfile, trees)\r\n",
    "values = output[\"values\"]"
   ],
   "outputs": [],
   "metadata": {}
  },
  {
   "cell_type": "code",
   "execution_count": 49,
   "source": [
    "print(output)"
   ],
   "outputs": [
    {
     "output_type": "stream",
     "name": "stdout",
     "text": [
      "{'algo': '', 'pointer': 'md5_A7E461E64D92A5585E1ED3F530791C75', 'cachesolve': False, 'recursionlevel': 0, 'values': [{'ParamName': 'RH_OUT:go_area', 'InnerTree': {'{0}': [{'type': 'System.Double', 'data': '0.0'}], '{1}': [{'type': 'System.Double', 'data': '1.0'}], '{2}': [{'type': 'System.Double', 'data': '4.0'}], '{3}': [{'type': 'System.Double', 'data': '9.0'}], '{4}': [{'type': 'System.Double', 'data': '16.0'}], '{5}': [{'type': 'System.Double', 'data': '25.0'}], '{6}': [{'type': 'System.Double', 'data': '36.0'}], '{7}': [{'type': 'System.Double', 'data': '49.0'}], '{8}': [{'type': 'System.Double', 'data': '64.0'}], '{9}': [{'type': 'System.Double', 'data': '81.0'}]}}, {'ParamName': 'RH_OUT:go_mult', 'InnerTree': {'{0}': [{'type': 'System.Double', 'data': '6.0'}]}}], 'warnings': [], 'errors': []}\n"
     ]
    }
   ],
   "metadata": {}
  },
  {
   "cell_type": "code",
   "execution_count": 50,
   "source": [
    "# getting tags, name search\r\n",
    "def ns(name):\r\n",
    "    for i in range(len(values)):\r\n",
    "        vname = values[i][\"ParamName\"]\r\n",
    "        if (vname == \"RH_OUT:\" + name):\r\n",
    "            return i"
   ],
   "outputs": [],
   "metadata": {}
  },
  {
   "cell_type": "markdown",
   "source": [
    "Now because we are calculating multiple times, the data strcture has changed"
   ],
   "metadata": {}
  },
  {
   "cell_type": "code",
   "execution_count": 51,
   "source": [
    "# search for Data Tree\r\n",
    "tag = \"go_area\"\r\n",
    "ou_ind = ns(tag)\r\n",
    "ou_data = values[ou_ind][\"InnerTree\"]\r\n",
    "print(ou_data)"
   ],
   "outputs": [
    {
     "output_type": "stream",
     "name": "stdout",
     "text": [
      "{'{0}': [{'type': 'System.Double', 'data': '0.0'}], '{1}': [{'type': 'System.Double', 'data': '1.0'}], '{2}': [{'type': 'System.Double', 'data': '4.0'}], '{3}': [{'type': 'System.Double', 'data': '9.0'}], '{4}': [{'type': 'System.Double', 'data': '16.0'}], '{5}': [{'type': 'System.Double', 'data': '25.0'}], '{6}': [{'type': 'System.Double', 'data': '36.0'}], '{7}': [{'type': 'System.Double', 'data': '49.0'}], '{8}': [{'type': 'System.Double', 'data': '64.0'}], '{9}': [{'type': 'System.Double', 'data': '81.0'}]}\n"
     ]
    }
   ],
   "metadata": {}
  },
  {
   "cell_type": "markdown",
   "source": [
    "Because of that, we cannot blindly retrieve data like what we did before"
   ],
   "metadata": {}
  },
  {
   "cell_type": "code",
   "execution_count": 52,
   "source": [
    "# retrieve data from given Data Tree\r\n",
    "ou_value = list(ou_data.values())"
   ],
   "outputs": [],
   "metadata": {}
  },
  {
   "cell_type": "markdown",
   "source": [
    "We can see that ou_value is the highest hierarchy in the data structure where our data is located and it is a list"
   ],
   "metadata": {}
  },
  {
   "cell_type": "code",
   "execution_count": 53,
   "source": [
    "print(ou_value)\r\n",
    "\r\n",
    "print(len(ou_value))\r\n",
    "\r\n",
    "print(type(ou_value))"
   ],
   "outputs": [
    {
     "output_type": "stream",
     "name": "stdout",
     "text": [
      "[[{'type': 'System.Double', 'data': '0.0'}], [{'type': 'System.Double', 'data': '1.0'}], [{'type': 'System.Double', 'data': '4.0'}], [{'type': 'System.Double', 'data': '9.0'}], [{'type': 'System.Double', 'data': '16.0'}], [{'type': 'System.Double', 'data': '25.0'}], [{'type': 'System.Double', 'data': '36.0'}], [{'type': 'System.Double', 'data': '49.0'}], [{'type': 'System.Double', 'data': '64.0'}], [{'type': 'System.Double', 'data': '81.0'}]]\n",
      "10\n",
      "<class 'list'>\n"
     ]
    }
   ],
   "metadata": {}
  },
  {
   "cell_type": "markdown",
   "source": [
    "Again, let's check for how the data is strcutrued below"
   ],
   "metadata": {}
  },
  {
   "cell_type": "code",
   "execution_count": 54,
   "source": [
    "ou_unpack = ou_value[0] #[0][\"data\"]"
   ],
   "outputs": [],
   "metadata": {}
  },
  {
   "cell_type": "code",
   "execution_count": 55,
   "source": [
    "print(ou_unpack)\r\n",
    "\r\n",
    "print(len(ou_unpack))\r\n",
    "\r\n",
    "print(type(ou_unpack))"
   ],
   "outputs": [
    {
     "output_type": "stream",
     "name": "stdout",
     "text": [
      "[{'type': 'System.Double', 'data': '0.0'}]\n",
      "1\n",
      "<class 'list'>\n"
     ]
    }
   ],
   "metadata": {}
  },
  {
   "cell_type": "markdown",
   "source": [
    "Now we can see that this is the lowest hierarchy of our data strcture"
   ],
   "metadata": {}
  },
  {
   "cell_type": "code",
   "execution_count": 56,
   "source": [
    "ou_unpack = ou_value[0][0] #[\"data\"]"
   ],
   "outputs": [],
   "metadata": {}
  },
  {
   "cell_type": "code",
   "execution_count": 57,
   "source": [
    "print(ou_unpack)\r\n",
    "\r\n",
    "print(len(ou_unpack))\r\n",
    "\r\n",
    "print(type(ou_unpack))"
   ],
   "outputs": [
    {
     "output_type": "stream",
     "name": "stdout",
     "text": [
      "{'type': 'System.Double', 'data': '0.0'}\n",
      "2\n",
      "<class 'dict'>\n"
     ]
    }
   ],
   "metadata": {}
  },
  {
   "cell_type": "code",
   "execution_count": 58,
   "source": [
    "for item in ou_value:\r\n",
    "    ou_unpack = item[0][\"data\"]\r\n",
    "    print(ou_unpack)"
   ],
   "outputs": [
    {
     "output_type": "stream",
     "name": "stdout",
     "text": [
      "0.0\n",
      "1.0\n",
      "4.0\n",
      "9.0\n",
      "16.0\n",
      "25.0\n",
      "36.0\n",
      "49.0\n",
      "64.0\n",
      "81.0\n"
     ]
    }
   ],
   "metadata": {}
  },
  {
   "cell_type": "markdown",
   "source": [
    "## 2.3 Using functions\r\n",
    "For this example, we are going to wrap our codes into function"
   ],
   "metadata": {}
  },
  {
   "cell_type": "code",
   "execution_count": 59,
   "source": [
    "def rec_area(mult : float):\r\n",
    "    # encode data\r\n",
    "    gi_mult_tr = gh.DataTree(\"RH_IN:gi_mult\")\r\n",
    "    mult = float(mult)\r\n",
    "    gi_mult_tr.Append([0], [mult])\r\n",
    "\r\n",
    "    # combine trees\r\n",
    "    trees = [gi_mult_tr]\r\n",
    "\r\n",
    "    # decode data\r\n",
    "    output = gh.EvaluateDefinition(ghfile, trees)\r\n",
    "    values = output[\"values\"]\r\n",
    "\r\n",
    "    ## Because this function relies on output which is also dependent on data tree, we have to nest this function\r\n",
    "    # getting tags, name search\r\n",
    "    def ns(name):\r\n",
    "        for i in range(len(values)):\r\n",
    "            vname = values[i][\"ParamName\"]\r\n",
    "            if (vname == \"RH_OUT:\" + name):\r\n",
    "                return i\r\n",
    "\r\n",
    "    # search for Data Tree\r\n",
    "    tag = \"go_area\"\r\n",
    "    ou_ind = ns(tag)\r\n",
    "    ou_data = values[ou_ind][\"InnerTree\"]\r\n",
    "\r\n",
    "    # retrieve data from given Data Tree\r\n",
    "    ou_value = list(ou_data.values())\r\n",
    "    ou_unpack = ou_value[0][0][\"data\"]\r\n",
    "    \r\n",
    "    return ou_unpack\r\n"
   ],
   "outputs": [],
   "metadata": {}
  },
  {
   "cell_type": "markdown",
   "source": [
    "Now let's call the function"
   ],
   "metadata": {}
  },
  {
   "cell_type": "code",
   "execution_count": 60,
   "source": [
    "rec_area(3.5)"
   ],
   "outputs": [
    {
     "output_type": "execute_result",
     "data": {
      "text/plain": [
       "'12.25'"
      ]
     },
     "metadata": {},
     "execution_count": 60
    }
   ],
   "metadata": {}
  },
  {
   "cell_type": "markdown",
   "source": [
    "We can even call this function multiple times"
   ],
   "metadata": {}
  },
  {
   "cell_type": "code",
   "execution_count": 61,
   "source": [
    "for i in range(15):\r\n",
    "    ra = rec_area(i)\r\n",
    "    print(\"square with \" +str(i)+\" side has area \" + str(ra))"
   ],
   "outputs": [
    {
     "output_type": "stream",
     "name": "stdout",
     "text": [
      "square with 0 side has area 0.0\n",
      "square with 1 side has area 1.0\n",
      "square with 2 side has area 4.0\n",
      "square with 3 side has area 9.0\n",
      "square with 4 side has area 16.0\n",
      "square with 5 side has area 25.0\n",
      "square with 6 side has area 36.0\n",
      "square with 7 side has area 49.0\n",
      "square with 8 side has area 64.0\n",
      "square with 9 side has area 81.0\n",
      "square with 10 side has area 100.0\n",
      "square with 11 side has area 121.0\n",
      "square with 12 side has area 144.0\n",
      "square with 13 side has area 169.0\n",
      "square with 14 side has area 196.0\n"
     ]
    }
   ],
   "metadata": {}
  },
  {
   "cell_type": "markdown",
   "source": [
    "## 2.4 Using New Method\r\n",
    "We would be using Get component for this example. Nothing changes in the code"
   ],
   "metadata": {}
  },
  {
   "cell_type": "markdown",
   "source": [
    "<center><img src=\"images/canvas-ex02-alt.jpg\" width=\"800\" height=><center>"
   ],
   "metadata": {}
  },
  {
   "cell_type": "code",
   "execution_count": 95,
   "source": [
    "# name of the files to be used\r\n",
    "ghfile = ghx_dir + 'ex02_alt.ghx'\r\n",
    "model = rhino3dm.File3dm()\r\n",
    "# filename = rh_dir + 'ex02_alt.3dm'"
   ],
   "outputs": [],
   "metadata": {}
  },
  {
   "cell_type": "code",
   "execution_count": 96,
   "source": [
    "# # def rec_area(mult : float):\r\n",
    "# mult = 3.5\r\n",
    "# # encode data\r\n",
    "# gi_mult_tr = gh.DataTree(\"gi_mult\")\r\n",
    "# gi_mult_tr.Append([0], [mult])\r\n",
    "\r\n",
    "# combine trees\r\n",
    "# trees = [gi_mult_tr]\r\n",
    "trees = []\r\n",
    "\r\n",
    "# decode data\r\n",
    "output = gh.EvaluateDefinition(ghfile, trees)\r\n",
    "print(output)\r\n",
    "values = output[\"values\"]\r\n",
    "\r\n",
    "# ## Because this function relies on output which is also dependent on data tree, we have to nest this function\r\n",
    "# # getting tags, name search\r\n",
    "# def ns(name):\r\n",
    "#     for i in range(len(values)):\r\n",
    "#         vname = values[i][\"ParamName\"]\r\n",
    "#         if (vname == \"RH_OUT:\" + name):\r\n",
    "#             return i\r\n",
    "\r\n",
    "# # search for Data Tree\r\n",
    "# tag = \"go_area\"\r\n",
    "# ou_ind = ns(tag)\r\n",
    "# ou_data = values[ou_ind][\"InnerTree\"]\r\n",
    "\r\n",
    "# # retrieve data from given Data Tree\r\n",
    "# ou_value = list(ou_data.values())\r\n",
    "# ou_unpack = ou_value[0][0][\"data\"]\r\n",
    "\r\n",
    "# # return ou_unpack"
   ],
   "outputs": [
    {
     "output_type": "stream",
     "name": "stdout",
     "text": [
      "{'statusCode': 500, 'message': 'Something went horribly, horribly wrong while servicing your request.', 'details': \"Nancy.RequestExecutionException: Oh noes! ---> System.Exceptions.PayAttentionException: Looks like you've missed something...\\r\\n   at compute.geometry.GrasshopperDefinition.Solve() in C:\\\\projects\\\\compute-rhino3d\\\\src\\\\compute.geometry\\\\GrasshopperDefinition.cs:line 822\\r\\n   at compute.geometry.ResthopperEndpointsModule.GrasshopperSolveHelper(Schema input, String body, Stopwatch stopwatch) in C:\\\\projects\\\\compute-rhino3d\\\\src\\\\compute.geometry\\\\ResthopperEndpoints.cs:line 79\\r\\n   at compute.geometry.ResthopperEndpointsModule.Grasshopper(NancyContext ctx) in C:\\\\projects\\\\compute-rhino3d\\\\src\\\\compute.geometry\\\\ResthopperEndpoints.cs:line 135\\r\\n   at Nancy.Routing.Route.<>c__DisplayClass4.<Wrap>b__3(Object parameters, CancellationToken context)\\r\\n   --- End of inner exception stack trace ---\\r\\n   at Nancy.NancyEngine.InvokeOnErrorHook(NancyContext context, ErrorPipeline pipeline, Exception ex)\"}\n"
     ]
    },
    {
     "output_type": "error",
     "ename": "KeyError",
     "evalue": "'values'",
     "traceback": [
      "\u001b[1;31m---------------------------------------------------------------------------\u001b[0m",
      "\u001b[1;31mKeyError\u001b[0m                                  Traceback (most recent call last)",
      "\u001b[1;32m~\\AppData\\Local\\Temp/ipykernel_16840/1944635298.py\u001b[0m in \u001b[0;36m<module>\u001b[1;34m\u001b[0m\n\u001b[0;32m     12\u001b[0m \u001b[0moutput\u001b[0m \u001b[1;33m=\u001b[0m \u001b[0mgh\u001b[0m\u001b[1;33m.\u001b[0m\u001b[0mEvaluateDefinition\u001b[0m\u001b[1;33m(\u001b[0m\u001b[0mghfile\u001b[0m\u001b[1;33m,\u001b[0m \u001b[0mtrees\u001b[0m\u001b[1;33m)\u001b[0m\u001b[1;33m\u001b[0m\u001b[1;33m\u001b[0m\u001b[0m\n\u001b[0;32m     13\u001b[0m \u001b[0mprint\u001b[0m\u001b[1;33m(\u001b[0m\u001b[0moutput\u001b[0m\u001b[1;33m)\u001b[0m\u001b[1;33m\u001b[0m\u001b[1;33m\u001b[0m\u001b[0m\n\u001b[1;32m---> 14\u001b[1;33m \u001b[0mvalues\u001b[0m \u001b[1;33m=\u001b[0m \u001b[0moutput\u001b[0m\u001b[1;33m[\u001b[0m\u001b[1;34m\"values\"\u001b[0m\u001b[1;33m]\u001b[0m\u001b[1;33m\u001b[0m\u001b[1;33m\u001b[0m\u001b[0m\n\u001b[0m\u001b[0;32m     15\u001b[0m \u001b[1;33m\u001b[0m\u001b[0m\n\u001b[0;32m     16\u001b[0m \u001b[1;31m# ## Because this function relies on output which is also dependent on data tree, we have to nest this function\u001b[0m\u001b[1;33m\u001b[0m\u001b[1;33m\u001b[0m\u001b[1;33m\u001b[0m\u001b[0m\n",
      "\u001b[1;31mKeyError\u001b[0m: 'values'"
     ]
    }
   ],
   "metadata": {}
  },
  {
   "cell_type": "code",
   "execution_count": 72,
   "source": [
    "rec_area(4.5)"
   ],
   "outputs": [
    {
     "output_type": "error",
     "ename": "KeyError",
     "evalue": "'values'",
     "traceback": [
      "\u001b[1;31m---------------------------------------------------------------------------\u001b[0m",
      "\u001b[1;31mKeyError\u001b[0m                                  Traceback (most recent call last)",
      "\u001b[1;32m~\\AppData\\Local\\Temp/ipykernel_16840/3605702187.py\u001b[0m in \u001b[0;36m<module>\u001b[1;34m\u001b[0m\n\u001b[1;32m----> 1\u001b[1;33m \u001b[0mrec_area\u001b[0m\u001b[1;33m(\u001b[0m\u001b[1;36m3.5\u001b[0m\u001b[1;33m)\u001b[0m\u001b[1;33m\u001b[0m\u001b[1;33m\u001b[0m\u001b[0m\n\u001b[0m",
      "\u001b[1;32m~\\AppData\\Local\\Temp/ipykernel_16840/1286433345.py\u001b[0m in \u001b[0;36mrec_area\u001b[1;34m(mult)\u001b[0m\n\u001b[0;32m      9\u001b[0m     \u001b[1;31m# decode data\u001b[0m\u001b[1;33m\u001b[0m\u001b[1;33m\u001b[0m\u001b[1;33m\u001b[0m\u001b[0m\n\u001b[0;32m     10\u001b[0m     \u001b[0moutput\u001b[0m \u001b[1;33m=\u001b[0m \u001b[0mgh\u001b[0m\u001b[1;33m.\u001b[0m\u001b[0mEvaluateDefinition\u001b[0m\u001b[1;33m(\u001b[0m\u001b[0mghfile\u001b[0m\u001b[1;33m,\u001b[0m \u001b[0mtrees\u001b[0m\u001b[1;33m)\u001b[0m\u001b[1;33m\u001b[0m\u001b[1;33m\u001b[0m\u001b[0m\n\u001b[1;32m---> 11\u001b[1;33m     \u001b[0mvalues\u001b[0m \u001b[1;33m=\u001b[0m \u001b[0moutput\u001b[0m\u001b[1;33m[\u001b[0m\u001b[1;34m\"values\"\u001b[0m\u001b[1;33m]\u001b[0m\u001b[1;33m\u001b[0m\u001b[1;33m\u001b[0m\u001b[0m\n\u001b[0m\u001b[0;32m     12\u001b[0m \u001b[1;33m\u001b[0m\u001b[0m\n\u001b[0;32m     13\u001b[0m     \u001b[1;31m## Because this function relies on output which is also dependent on data tree, we have to nest this function\u001b[0m\u001b[1;33m\u001b[0m\u001b[1;33m\u001b[0m\u001b[1;33m\u001b[0m\u001b[0m\n",
      "\u001b[1;31mKeyError\u001b[0m: 'values'"
     ]
    }
   ],
   "metadata": {}
  },
  {
   "cell_type": "markdown",
   "source": [
    "# 03 Modifying Input : Geometry <a class=\"anchor\" id=\"3\"></a>"
   ],
   "metadata": {}
  },
  {
   "cell_type": "markdown",
   "source": [
    "# 04 Passing Data <a class=\"anchor\" id=\"4\"></a>"
   ],
   "metadata": {}
  },
  {
   "cell_type": "markdown",
   "source": [
    "We were working with simple string or numbers. However, because if how we are communicating with Grasshopper, we have to now get used to what Json is taking part at bridging Python and Grasshopper"
   ],
   "metadata": {}
  },
  {
   "cell_type": "markdown",
   "source": [
    "## 4.1 String <a class=\"anchor\" id=\"4.1\"></a>"
   ],
   "metadata": {}
  },
  {
   "cell_type": "markdown",
   "source": [
    "<center><img src=\"images/canvas-ex04-01.jpg\" width=\"800\" height=><center>"
   ],
   "metadata": {}
  },
  {
   "cell_type": "code",
   "execution_count": 97,
   "source": [
    "# name of the files to be used\r\n",
    "ghfile = ghx_dir + 'ex04-01-string.ghx'"
   ],
   "outputs": [],
   "metadata": {}
  },
  {
   "cell_type": "markdown",
   "source": [
    "### 4.1.1 String Passing"
   ],
   "metadata": {}
  },
  {
   "cell_type": "code",
   "execution_count": 98,
   "source": [
    "# encode data\r\n",
    "# combine trees\r\n",
    "trees = []\r\n",
    "\r\n",
    "# decode data\r\n",
    "output = gh.EvaluateDefinition(ghfile, trees)\r\n",
    "values = output[\"values\"]\r\n",
    "\r\n",
    "# getting tags, name search\r\n",
    "def ns(name):\r\n",
    "    for i in range(len(values)):\r\n",
    "        vname = values[i][\"ParamName\"]\r\n",
    "        if (vname == \"RH_OUT:\" + name):\r\n",
    "            return i\r\n",
    "\r\n",
    "# search for Data Tree\r\n",
    "tag = \"string\"\r\n",
    "ou_ind = ns(tag)\r\n",
    "ou_data = values[ou_ind][\"InnerTree\"]"
   ],
   "outputs": [],
   "metadata": {}
  },
  {
   "cell_type": "code",
   "execution_count": 99,
   "source": [
    "# retrieve data from given Data Tree\r\n",
    "ou_value = list(ou_data.values())\r\n",
    "ou_type = ou_value[0][0]['type']\r\n",
    "ou_unpack = ou_value[0][0]['data']"
   ],
   "outputs": [],
   "metadata": {}
  },
  {
   "cell_type": "code",
   "execution_count": 100,
   "source": [
    "print(ou_value)\r\n",
    "print(ou_type)\r\n",
    "print(ou_unpack)\r\n",
    "print(type(ou_unpack))"
   ],
   "outputs": [
    {
     "output_type": "stream",
     "name": "stdout",
     "text": [
      "[[{'type': 'System.String', 'data': '\"Hello\"'}]]\n",
      "System.String\n",
      "\"Hello\"\n",
      "<class 'str'>\n"
     ]
    }
   ],
   "metadata": {}
  },
  {
   "cell_type": "markdown",
   "source": [
    "### 4.1.2 String Intercepting Function"
   ],
   "metadata": {}
  },
  {
   "cell_type": "code",
   "execution_count": 101,
   "source": [
    "def pass_string(strings):\r\n",
    "    # encode data\r\n",
    "    gi_string_tr = gh.DataTree(\"RH_IN:string\")\r\n",
    "    gi_string_tr.Append([0], [strings])\r\n",
    "\r\n",
    "    # combine trees\r\n",
    "    trees = [gi_string_tr]\r\n",
    "\r\n",
    "    # decode data\r\n",
    "    output = gh.EvaluateDefinition(ghfile, trees)\r\n",
    "    values = output[\"values\"]\r\n",
    "\r\n",
    "    # getting tags, name search\r\n",
    "    def ns(name):\r\n",
    "        for i in range(len(values)):\r\n",
    "            vname = values[i][\"ParamName\"]\r\n",
    "            if (vname == \"RH_OUT:\" + name):\r\n",
    "                return i\r\n",
    "    \r\n",
    "    # search for Data Tree\r\n",
    "    tag = \"string\"\r\n",
    "    ou_ind = ns(tag)\r\n",
    "    ou_data = values[ou_ind][\"InnerTree\"]\r\n",
    "\r\n",
    "    # retrieve data from given Data Tree\r\n",
    "    ou_value = list(ou_data.values())\r\n",
    "    ou_unpack = ou_value[0][0][\"data\"]\r\n",
    "\r\n",
    "    return ou_unpack"
   ],
   "outputs": [],
   "metadata": {}
  },
  {
   "cell_type": "code",
   "execution_count": 102,
   "source": [
    "tx = pass_string(\"Hello World\")\r\n",
    "print(tx)"
   ],
   "outputs": [
    {
     "output_type": "stream",
     "name": "stdout",
     "text": [
      "\"Hello World\"\n"
     ]
    }
   ],
   "metadata": {}
  },
  {
   "cell_type": "markdown",
   "source": [
    "### 4.1.3 String Python Syntax Conlfict"
   ],
   "metadata": {}
  },
  {
   "cell_type": "code",
   "execution_count": 103,
   "source": [
    "tx = pass_string(\"\\\")\r\n",
    "print(tx)"
   ],
   "outputs": [
    {
     "output_type": "error",
     "ename": "SyntaxError",
     "evalue": "EOL while scanning string literal (Temp/ipykernel_16840/3384906308.py, line 1)",
     "traceback": [
      "\u001b[1;36m  File \u001b[1;32m\"C:\\Users\\Ghost\\AppData\\Local\\Temp/ipykernel_16840/3384906308.py\"\u001b[1;36m, line \u001b[1;32m1\u001b[0m\n\u001b[1;33m    tx = pass_string(\"\\\")\u001b[0m\n\u001b[1;37m                         ^\u001b[0m\n\u001b[1;31mSyntaxError\u001b[0m\u001b[1;31m:\u001b[0m EOL while scanning string literal\n"
     ]
    }
   ],
   "metadata": {}
  },
  {
   "cell_type": "code",
   "execution_count": 104,
   "source": [
    "tx = pass_string(\"\\\\\")\r\n",
    "print(tx)"
   ],
   "outputs": [
    {
     "output_type": "stream",
     "name": "stdout",
     "text": [
      "\"\\\\\"\n"
     ]
    }
   ],
   "metadata": {}
  },
  {
   "cell_type": "markdown",
   "source": [
    "### 4.1.4 String Intercepting using JSON LOAD"
   ],
   "metadata": {}
  },
  {
   "cell_type": "code",
   "execution_count": 105,
   "source": [
    "# input string\r\n",
    "strings = \"Rhino Compute Working\"\r\n",
    "\r\n",
    "# encode data\r\n",
    "gi_string_tr = gh.DataTree(\"RH_IN:string\")\r\n",
    "gi_string_tr.Append([0], [strings])\r\n",
    "\r\n",
    "# combine trees\r\n",
    "trees = [gi_string_tr]\r\n",
    "\r\n",
    "# decode data\r\n",
    "output = gh.EvaluateDefinition(ghfile, trees)\r\n",
    "values = output[\"values\"]\r\n",
    "\r\n",
    "# getting tags, name search\r\n",
    "def ns(name):\r\n",
    "    for i in range(len(values)):\r\n",
    "        vname = values[i][\"ParamName\"]\r\n",
    "        if (vname == \"RH_OUT:\" + name):\r\n",
    "            return i\r\n",
    "\r\n",
    "# search for Data Tree\r\n",
    "tag = \"string\"\r\n",
    "ou_ind = ns(tag)\r\n",
    "ou_data = values[ou_ind][\"InnerTree\"]"
   ],
   "outputs": [],
   "metadata": {}
  },
  {
   "cell_type": "code",
   "execution_count": 106,
   "source": [
    "# retrieve data from given Data Tree\r\n",
    "ou_value = list(ou_data.values())\r\n",
    "ou_type = ou_value[0][0]['type']\r\n",
    "ou_unpack = ou_value[0][0]['data']"
   ],
   "outputs": [],
   "metadata": {}
  },
  {
   "cell_type": "code",
   "execution_count": 107,
   "source": [
    "print(ou_value)\r\n",
    "print(ou_type)\r\n",
    "print(ou_unpack)\r\n",
    "print(type(ou_unpack))"
   ],
   "outputs": [
    {
     "output_type": "stream",
     "name": "stdout",
     "text": [
      "[[{'type': 'System.String', 'data': '\"Rhino Compute Working\"'}]]\n",
      "System.String\n",
      "\"Rhino Compute Working\"\n",
      "<class 'str'>\n"
     ]
    }
   ],
   "metadata": {}
  },
  {
   "cell_type": "code",
   "execution_count": 108,
   "source": [
    "# decoding using json.loads\r\n",
    "ds = ou_unpack\r\n",
    "ds_js = json.loads(ds)"
   ],
   "outputs": [],
   "metadata": {}
  },
  {
   "cell_type": "code",
   "execution_count": 109,
   "source": [
    "print(ds)\r\n",
    "print(ds_js)\r\n",
    "print(type(ds_js))"
   ],
   "outputs": [
    {
     "output_type": "stream",
     "name": "stdout",
     "text": [
      "\"Rhino Compute Working\"\n",
      "Rhino Compute Working\n",
      "<class 'str'>\n"
     ]
    }
   ],
   "metadata": {}
  },
  {
   "cell_type": "markdown",
   "source": [
    "### 4.1.5 String Intercepting Function using JSON LOAD"
   ],
   "metadata": {}
  },
  {
   "cell_type": "code",
   "execution_count": 110,
   "source": [
    "# name of the files to be used\r\n",
    "ghfile = ghx_dir + 'ex04-01-string.ghx'"
   ],
   "outputs": [],
   "metadata": {}
  },
  {
   "cell_type": "code",
   "execution_count": 111,
   "source": [
    "def pass_string(strings):\r\n",
    "    # encode data\r\n",
    "    gi_string_tr = gh.DataTree(\"RH_IN:string\")\r\n",
    "    gi_string_tr.Append([0], [strings])\r\n",
    "\r\n",
    "    # combine trees\r\n",
    "    trees = [gi_string_tr]\r\n",
    "\r\n",
    "    # decode data\r\n",
    "    output = gh.EvaluateDefinition(ghfile, trees)\r\n",
    "    values = output[\"values\"]\r\n",
    "\r\n",
    "    # getting tags, name search\r\n",
    "    def ns(name):\r\n",
    "        for i in range(len(values)):\r\n",
    "            vname = values[i][\"ParamName\"]\r\n",
    "            if (vname == \"RH_OUT:\" + name):\r\n",
    "                return i\r\n",
    "    \r\n",
    "    # search for Data Tree\r\n",
    "    tag = \"string\"\r\n",
    "    ou_ind = ns(tag)\r\n",
    "    ou_data = values[ou_ind][\"InnerTree\"]\r\n",
    "\r\n",
    "    # retrieve data from given Data Tree\r\n",
    "    ou_value = list(ou_data.values())\r\n",
    "    ou_unpack = ou_value[0][0][\"data\"]\r\n",
    "\r\n",
    "    # decode using json\r\n",
    "    ds = ou_unpack\r\n",
    "    ds_js = json.loads(ds)\r\n",
    "\r\n",
    "    return ds_js"
   ],
   "outputs": [],
   "metadata": {}
  },
  {
   "cell_type": "code",
   "execution_count": 112,
   "source": [
    "tx = pass_string(\"Hello World\")\r\n",
    "print(tx)\r\n",
    "print(type(tx))"
   ],
   "outputs": [
    {
     "output_type": "stream",
     "name": "stdout",
     "text": [
      "Hello World\n",
      "<class 'str'>\n"
     ]
    }
   ],
   "metadata": {}
  },
  {
   "cell_type": "code",
   "execution_count": 113,
   "source": [
    "tx = pass_string(\"\\\")\r\n",
    "print(tx)\r\n",
    "print(type(tx))"
   ],
   "outputs": [
    {
     "output_type": "error",
     "ename": "SyntaxError",
     "evalue": "EOL while scanning string literal (Temp/ipykernel_16840/3903297035.py, line 1)",
     "traceback": [
      "\u001b[1;36m  File \u001b[1;32m\"C:\\Users\\Ghost\\AppData\\Local\\Temp/ipykernel_16840/3903297035.py\"\u001b[1;36m, line \u001b[1;32m1\u001b[0m\n\u001b[1;33m    tx = pass_string(\"\\\")\u001b[0m\n\u001b[1;37m                         ^\u001b[0m\n\u001b[1;31mSyntaxError\u001b[0m\u001b[1;31m:\u001b[0m EOL while scanning string literal\n"
     ]
    }
   ],
   "metadata": {}
  },
  {
   "cell_type": "code",
   "execution_count": 114,
   "source": [
    "tx = pass_string(\"\\\\\")\r\n",
    "print(tx)\r\n",
    "print(type(tx))"
   ],
   "outputs": [
    {
     "output_type": "stream",
     "name": "stdout",
     "text": [
      "\\\n",
      "<class 'str'>\n"
     ]
    }
   ],
   "metadata": {}
  },
  {
   "cell_type": "code",
   "execution_count": 115,
   "source": [
    "tx = pass_string('[1,2,3]')\r\n",
    "print(tx)\r\n",
    "print(type(tx))"
   ],
   "outputs": [
    {
     "output_type": "stream",
     "name": "stdout",
     "text": [
      "[1,2,3]\n",
      "<class 'str'>\n"
     ]
    }
   ],
   "metadata": {}
  },
  {
   "cell_type": "code",
   "execution_count": 116,
   "source": [
    "tx = json.loads(tx)\r\n",
    "print(tx)\r\n",
    "print(type(tx))"
   ],
   "outputs": [
    {
     "output_type": "stream",
     "name": "stdout",
     "text": [
      "[1, 2, 3]\n",
      "<class 'list'>\n"
     ]
    }
   ],
   "metadata": {}
  },
  {
   "cell_type": "markdown",
   "source": [
    "### 4.1.6 String Passing Using New Get component"
   ],
   "metadata": {}
  },
  {
   "cell_type": "code",
   "execution_count": 117,
   "source": [
    "# name of the files to be used\r\n",
    "ghfile = ghx_dir + 'ex04-01-stringB.ghx'"
   ],
   "outputs": [],
   "metadata": {}
  },
  {
   "cell_type": "code",
   "execution_count": 118,
   "source": [
    "# encode data\r\n",
    "# combine trees\r\n",
    "trees = []\r\n",
    "\r\n",
    "# decode data\r\n",
    "output = gh.EvaluateDefinition(ghfile, trees)\r\n",
    "values = output[\"values\"]"
   ],
   "outputs": [],
   "metadata": {}
  },
  {
   "cell_type": "code",
   "execution_count": 119,
   "source": [
    "print(output)"
   ],
   "outputs": [
    {
     "output_type": "stream",
     "name": "stdout",
     "text": [
      "{'algo': '', 'pointer': 'md5_63AB5D07047DD2F100AA76B99D429CC8', 'cachesolve': False, 'recursionlevel': 0, 'values': [{'ParamName': 'RH_OUT:string', 'InnerTree': {'{0}': [{'type': 'System.String', 'data': '\"[1,2,3]\"'}]}}], 'warnings': [], 'errors': []}\n"
     ]
    }
   ],
   "metadata": {}
  },
  {
   "cell_type": "code",
   "execution_count": 120,
   "source": [
    "# getting tags, name search\r\n",
    "def ns(name):\r\n",
    "    for i in range(len(values)):\r\n",
    "        vname = values[i][\"ParamName\"]\r\n",
    "        if (vname == \"RH_OUT:\" + name):\r\n",
    "            return i\r\n",
    "\r\n",
    "# search for Data Tree\r\n",
    "tag = \"string\"\r\n",
    "ou_ind = ns(tag)\r\n",
    "ou_data = values[ou_ind][\"InnerTree\"]"
   ],
   "outputs": [],
   "metadata": {}
  },
  {
   "cell_type": "code",
   "execution_count": 121,
   "source": [
    "# retrieve data from given Data Tree\r\n",
    "ou_value = list(ou_data.values())\r\n",
    "ou_unpack = ou_value[0][0][\"data\"]\r\n",
    "\r\n",
    "# decode using json\r\n",
    "ds = ou_unpack\r\n",
    "ds_js = json.loads(ds)"
   ],
   "outputs": [],
   "metadata": {}
  },
  {
   "cell_type": "markdown",
   "source": [
    "## 4.2 Numeric <a class=\"anchor\" id=\"4.2\"></a>"
   ],
   "metadata": {}
  },
  {
   "cell_type": "markdown",
   "source": [
    "### 4.2.A.1 Float Passing"
   ],
   "metadata": {}
  },
  {
   "cell_type": "markdown",
   "source": [
    "<center><img src=\"images/canvas-ex04-02.jpg\" width=\"800\" height=><center>"
   ],
   "metadata": {}
  },
  {
   "cell_type": "code",
   "execution_count": 122,
   "source": [
    "# name of the files to be used\r\n",
    "ghfile = ghx_dir + 'ex04-02-float.ghx'\r\n",
    "model = rhino3dm.File3dm()\r\n",
    "filename = rh_dir + 'ex04-02.3dm'"
   ],
   "outputs": [],
   "metadata": {}
  },
  {
   "cell_type": "code",
   "execution_count": 123,
   "source": [
    "# encode data\r\n",
    "# combine trees\r\n",
    "trees = []\r\n",
    "\r\n",
    "# decode data\r\n",
    "output = gh.EvaluateDefinition(ghfile, trees)\r\n",
    "values = output[\"values\"]\r\n",
    "\r\n",
    "# getting tags, name search\r\n",
    "def ns(name):\r\n",
    "    for i in range(len(values)):\r\n",
    "        vname = values[i][\"ParamName\"]\r\n",
    "        if (vname == \"RH_OUT:\" + name):\r\n",
    "            return i\r\n",
    "\r\n",
    "# search for Data Tree\r\n",
    "tag = \"float\"\r\n",
    "ou_ind = ns(tag)\r\n",
    "ou_data = values[ou_ind][\"InnerTree\"]"
   ],
   "outputs": [],
   "metadata": {}
  },
  {
   "cell_type": "code",
   "execution_count": 124,
   "source": [
    "# retrieve data from given Data Tree\r\n",
    "ou_value = list(ou_data.values())\r\n",
    "ou_type = ou_value[0][0]['type']\r\n",
    "ou_unpack = ou_value[0][0]['data']"
   ],
   "outputs": [],
   "metadata": {}
  },
  {
   "cell_type": "code",
   "execution_count": 125,
   "source": [
    "print(ou_value)\r\n",
    "print(ou_type)\r\n",
    "print(ou_unpack)\r\n",
    "print(type(ou_unpack))"
   ],
   "outputs": [
    {
     "output_type": "stream",
     "name": "stdout",
     "text": [
      "[[{'type': 'System.Double', 'data': '0.5'}]]\n",
      "System.Double\n",
      "0.5\n",
      "<class 'str'>\n"
     ]
    }
   ],
   "metadata": {}
  },
  {
   "cell_type": "code",
   "execution_count": 126,
   "source": [
    "# decode using json\r\n",
    "ds = ou_unpack\r\n",
    "ds_js = json.loads(ds)"
   ],
   "outputs": [],
   "metadata": {}
  },
  {
   "cell_type": "code",
   "execution_count": 127,
   "source": [
    "print(ds)\r\n",
    "print(ds_js)\r\n",
    "print(type(ds_js))"
   ],
   "outputs": [
    {
     "output_type": "stream",
     "name": "stdout",
     "text": [
      "0.5\n",
      "0.5\n",
      "<class 'float'>\n"
     ]
    }
   ],
   "metadata": {}
  },
  {
   "cell_type": "markdown",
   "source": [
    "### 4.2.A.2 Float Intercepting Function"
   ],
   "metadata": {}
  },
  {
   "cell_type": "code",
   "execution_count": 128,
   "source": [
    "def float_pass(numb):\r\n",
    "    # encode data\r\n",
    "    float_tr = gh.DataTree(\"RH_IN:float\")\r\n",
    "    float_tr.Append([0], [numb])\r\n",
    "\r\n",
    "    # combine trees\r\n",
    "    trees = [float_tr]\r\n",
    "\r\n",
    "    # decode data\r\n",
    "    output = gh.EvaluateDefinition(ghfile, trees)\r\n",
    "    values = output[\"values\"]\r\n",
    "\r\n",
    "    # getting tags, name search\r\n",
    "    def ns(name):\r\n",
    "        for i in range(len(values)):\r\n",
    "            vname = values[i][\"ParamName\"]\r\n",
    "            if (vname == \"RH_OUT:\" + name):\r\n",
    "                return i\r\n",
    "\r\n",
    "    # search for Data Tree\r\n",
    "    tag = \"float\"\r\n",
    "    ou_ind = ns(tag)\r\n",
    "    ou_data = values[ou_ind][\"InnerTree\"]\r\n",
    "\r\n",
    "    # retrieve data from given Data Tree\r\n",
    "    ou_value = list(ou_data.values())\r\n",
    "    ou_type = ou_value[0][0]['type']\r\n",
    "    ou_unpack = ou_value[0][0]['data']\r\n",
    "\r\n",
    "    # decode results\r\n",
    "    ds = ou_unpack\r\n",
    "    ds_js = json.loads(ds)\r\n",
    "\r\n",
    "    return ds_js"
   ],
   "outputs": [],
   "metadata": {}
  },
  {
   "cell_type": "code",
   "execution_count": 129,
   "source": [
    "numb = 1.5\r\n",
    "fp = float_pass(numb)\r\n",
    "print(fp)\r\n",
    "print(type(fp))"
   ],
   "outputs": [
    {
     "output_type": "stream",
     "name": "stdout",
     "text": [
      "1.5\n",
      "<class 'float'>\n"
     ]
    }
   ],
   "metadata": {}
  },
  {
   "cell_type": "code",
   "execution_count": 130,
   "source": [
    "numb = int(1)\r\n",
    "fp = float_pass(numb)\r\n",
    "print(fp)\r\n",
    "print(type(fp))"
   ],
   "outputs": [
    {
     "output_type": "stream",
     "name": "stdout",
     "text": [
      "1.0\n",
      "<class 'float'>\n"
     ]
    }
   ],
   "metadata": {}
  },
  {
   "cell_type": "markdown",
   "source": [
    "### 4.2.B.1 Integer Intercepting"
   ],
   "metadata": {}
  },
  {
   "cell_type": "markdown",
   "source": [
    "<center><img src=\"images/canvas-ex04-02B.jpg\" width=\"800\" height=><center>"
   ],
   "metadata": {}
  },
  {
   "cell_type": "code",
   "execution_count": 131,
   "source": [
    "# name of the files to be used\r\n",
    "ghfile = ghx_dir + 'ex04-02-int.ghx'"
   ],
   "outputs": [],
   "metadata": {}
  },
  {
   "cell_type": "code",
   "execution_count": 132,
   "source": [
    "# input value\r\n",
    "num = 2\r\n",
    "\r\n",
    "# encode data\r\n",
    "float_tr = gh.DataTree(\"RH_IN:float\")\r\n",
    "float_tr.Append([0], [numb])\r\n",
    "\r\n",
    "# combine trees\r\n",
    "trees = [float_tr]\r\n",
    "\r\n",
    "# decode data\r\n",
    "output = gh.EvaluateDefinition(ghfile, trees)\r\n",
    "values = output[\"values\"]\r\n",
    "\r\n",
    "# getting tags, name search\r\n",
    "def ns(name):\r\n",
    "    for i in range(len(values)):\r\n",
    "        vname = values[i][\"ParamName\"]\r\n",
    "        if (vname == \"RH_OUT:\" + name):\r\n",
    "            return i\r\n",
    "\r\n",
    "# search for Data Tree\r\n",
    "tag = \"integer\"\r\n",
    "ou_ind = ns(tag)\r\n",
    "ou_data = values[ou_ind][\"InnerTree\"]\r\n"
   ],
   "outputs": [],
   "metadata": {}
  },
  {
   "cell_type": "code",
   "execution_count": 133,
   "source": [
    "# retrieve data from given Data Tree\r\n",
    "ou_value = list(ou_data.values())\r\n",
    "ou_type = ou_value[0][0]['type']\r\n",
    "ou_unpack = ou_value[0][0]['data']"
   ],
   "outputs": [],
   "metadata": {}
  },
  {
   "cell_type": "code",
   "execution_count": 134,
   "source": [
    "print(ou_value)\r\n",
    "print(ou_type)\r\n",
    "print(ou_unpack)\r\n",
    "print(type(ou_unpack))"
   ],
   "outputs": [
    {
     "output_type": "stream",
     "name": "stdout",
     "text": [
      "[[{'type': 'System.Int32', 'data': '5'}]]\n",
      "System.Int32\n",
      "5\n",
      "<class 'str'>\n"
     ]
    }
   ],
   "metadata": {}
  },
  {
   "cell_type": "code",
   "execution_count": 135,
   "source": [
    "# decode results\r\n",
    "ds = ou_unpack\r\n",
    "ds_js = json.loads(ds)"
   ],
   "outputs": [],
   "metadata": {}
  },
  {
   "cell_type": "code",
   "execution_count": 136,
   "source": [
    "print(ds)\r\n",
    "print(ds_js)\r\n",
    "print(type(ds_js))"
   ],
   "outputs": [
    {
     "output_type": "stream",
     "name": "stdout",
     "text": [
      "5\n",
      "5\n",
      "<class 'int'>\n"
     ]
    }
   ],
   "metadata": {}
  },
  {
   "cell_type": "markdown",
   "source": [
    "### 4.2.B.2 Int Intercepting Function"
   ],
   "metadata": {}
  },
  {
   "cell_type": "code",
   "execution_count": 137,
   "source": [
    "def int_pass(numb):\r\n",
    "    # encode data\r\n",
    "    int_tr = gh.DataTree(\"RH_IN:integer\")\r\n",
    "    int_tr.Append([0], [numb])\r\n",
    "\r\n",
    "    # combine trees\r\n",
    "    trees = [int_tr]\r\n",
    "\r\n",
    "    # decode data\r\n",
    "    output = gh.EvaluateDefinition(ghfile, trees)\r\n",
    "    values = output[\"values\"]\r\n",
    "\r\n",
    "    # getting tags, name search\r\n",
    "    def ns(name):\r\n",
    "        for i in range(len(values)):\r\n",
    "            vname = values[i][\"ParamName\"]\r\n",
    "            if (vname == \"RH_OUT:\" + name):\r\n",
    "                return i\r\n",
    "\r\n",
    "    # search for Data Tree\r\n",
    "    tag = \"integer\"\r\n",
    "    ou_ind = ns(tag)\r\n",
    "    ou_data = values[ou_ind][\"InnerTree\"]\r\n",
    "\r\n",
    "    # retrieve data from given Data Tree\r\n",
    "    ou_value = list(ou_data.values())\r\n",
    "    ou_type = ou_value[0][0]['type']\r\n",
    "    ou_unpack = ou_value[0][0]['data']\r\n",
    "\r\n",
    "    # decode results\r\n",
    "    ds = ou_unpack\r\n",
    "    ds_js = json.loads(ds)\r\n",
    "\r\n",
    "    return ds_js"
   ],
   "outputs": [],
   "metadata": {}
  },
  {
   "cell_type": "code",
   "execution_count": 138,
   "source": [
    "numb = int(2)\r\n",
    "ip = int_pass(numb)\r\n",
    "print(ip)\r\n",
    "print(type(fp))"
   ],
   "outputs": [
    {
     "output_type": "stream",
     "name": "stdout",
     "text": [
      "2\n",
      "<class 'float'>\n"
     ]
    }
   ],
   "metadata": {}
  },
  {
   "cell_type": "code",
   "execution_count": 139,
   "source": [
    "numb = 1.5\r\n",
    "fp = float_pass(numb)\r\n",
    "print(fp)\r\n",
    "print(type(fp))"
   ],
   "outputs": [
    {
     "output_type": "error",
     "ename": "TypeError",
     "evalue": "list indices must be integers or slices, not NoneType",
     "traceback": [
      "\u001b[1;31m---------------------------------------------------------------------------\u001b[0m",
      "\u001b[1;31mTypeError\u001b[0m                                 Traceback (most recent call last)",
      "\u001b[1;32m~\\AppData\\Local\\Temp/ipykernel_16840/2166865960.py\u001b[0m in \u001b[0;36m<module>\u001b[1;34m\u001b[0m\n\u001b[0;32m      1\u001b[0m \u001b[0mnumb\u001b[0m \u001b[1;33m=\u001b[0m \u001b[1;36m1.5\u001b[0m\u001b[1;33m\u001b[0m\u001b[1;33m\u001b[0m\u001b[0m\n\u001b[1;32m----> 2\u001b[1;33m \u001b[0mfp\u001b[0m \u001b[1;33m=\u001b[0m \u001b[0mfloat_pass\u001b[0m\u001b[1;33m(\u001b[0m\u001b[0mnumb\u001b[0m\u001b[1;33m)\u001b[0m\u001b[1;33m\u001b[0m\u001b[1;33m\u001b[0m\u001b[0m\n\u001b[0m\u001b[0;32m      3\u001b[0m \u001b[0mprint\u001b[0m\u001b[1;33m(\u001b[0m\u001b[0mfp\u001b[0m\u001b[1;33m)\u001b[0m\u001b[1;33m\u001b[0m\u001b[1;33m\u001b[0m\u001b[0m\n\u001b[0;32m      4\u001b[0m \u001b[0mprint\u001b[0m\u001b[1;33m(\u001b[0m\u001b[0mtype\u001b[0m\u001b[1;33m(\u001b[0m\u001b[0mfp\u001b[0m\u001b[1;33m)\u001b[0m\u001b[1;33m)\u001b[0m\u001b[1;33m\u001b[0m\u001b[1;33m\u001b[0m\u001b[0m\n",
      "\u001b[1;32m~\\AppData\\Local\\Temp/ipykernel_16840/2264855005.py\u001b[0m in \u001b[0;36mfloat_pass\u001b[1;34m(numb)\u001b[0m\n\u001b[0;32m     21\u001b[0m     \u001b[0mtag\u001b[0m \u001b[1;33m=\u001b[0m \u001b[1;34m\"float\"\u001b[0m\u001b[1;33m\u001b[0m\u001b[1;33m\u001b[0m\u001b[0m\n\u001b[0;32m     22\u001b[0m     \u001b[0mou_ind\u001b[0m \u001b[1;33m=\u001b[0m \u001b[0mns\u001b[0m\u001b[1;33m(\u001b[0m\u001b[0mtag\u001b[0m\u001b[1;33m)\u001b[0m\u001b[1;33m\u001b[0m\u001b[1;33m\u001b[0m\u001b[0m\n\u001b[1;32m---> 23\u001b[1;33m     \u001b[0mou_data\u001b[0m \u001b[1;33m=\u001b[0m \u001b[0mvalues\u001b[0m\u001b[1;33m[\u001b[0m\u001b[0mou_ind\u001b[0m\u001b[1;33m]\u001b[0m\u001b[1;33m[\u001b[0m\u001b[1;34m\"InnerTree\"\u001b[0m\u001b[1;33m]\u001b[0m\u001b[1;33m\u001b[0m\u001b[1;33m\u001b[0m\u001b[0m\n\u001b[0m\u001b[0;32m     24\u001b[0m \u001b[1;33m\u001b[0m\u001b[0m\n\u001b[0;32m     25\u001b[0m     \u001b[1;31m# retrieve data from given Data Tree\u001b[0m\u001b[1;33m\u001b[0m\u001b[1;33m\u001b[0m\u001b[1;33m\u001b[0m\u001b[0m\n",
      "\u001b[1;31mTypeError\u001b[0m: list indices must be integers or slices, not NoneType"
     ]
    }
   ],
   "metadata": {}
  },
  {
   "cell_type": "markdown",
   "source": [
    "## 4.3 Boolean <a class=\"anchor\" id=\"4.3\"></a>"
   ],
   "metadata": {}
  },
  {
   "cell_type": "markdown",
   "source": [
    "<center><img src=\"images/canvas-ex04-03.jpg\" width=\"600\" height=><center>"
   ],
   "metadata": {}
  },
  {
   "cell_type": "code",
   "execution_count": 140,
   "source": [
    "# name of the files to be used\r\n",
    "ghfile = ghx_dir + 'ex04-03-boolean.ghx'"
   ],
   "outputs": [],
   "metadata": {}
  },
  {
   "cell_type": "code",
   "execution_count": 141,
   "source": [
    "# encode data\r\n",
    "bool_tr = gh.DataTree('RH_IN:boolean')\r\n",
    "# combine trees\r\n",
    "trees = [bool_tr]\r\n",
    "\r\n",
    "# decode data\r\n",
    "output = gh.EvaluateDefinition(ghfile, trees)\r\n",
    "print(output)\r\n",
    "# values = output[\"values\"]\r\n",
    "# print(values)\r\n",
    "\r\n",
    "# # getting tags, name search\r\n",
    "# def ns(name):\r\n",
    "#     for i in range(len(values)):\r\n",
    "#         vname = values[i][\"ParamName\"]\r\n",
    "#         if (vname == \"RH_OUT:\" + name):\r\n",
    "#             return i\r\n",
    "\r\n",
    "# # search for Data Tree\r\n",
    "# tag = \"bool\"\r\n",
    "# ou_ind = ns(tag)\r\n",
    "# print(ou_ind)\r\n",
    "# ou_data = values[ou_ind][\"InnerTree\"]"
   ],
   "outputs": [
    {
     "output_type": "stream",
     "name": "stdout",
     "text": [
      "{'statusCode': 500, 'message': 'Something went horribly, horribly wrong while servicing your request.', 'details': 'Nancy.RequestExecutionException: Oh noes! ---> System.Xml.XmlException: Data at the root level is invalid. Line 1, position 1.\\r\\n   at System.Xml.XmlTextReaderImpl.Throw(Exception e)\\r\\n   at System.Xml.XmlTextReaderImpl.ParseRootLevelWhitespace()\\r\\n   at System.Xml.XmlTextReaderImpl.ParseDocumentContent()\\r\\n   at System.Xml.XmlLoader.Load(XmlDocument doc, XmlReader reader, Boolean preserveWhitespace)\\r\\n   at System.Xml.XmlDocument.Load(XmlReader reader)\\r\\n   at System.Xml.XmlDocument.LoadXml(String xml)\\r\\n   at GH_IO.Serialization.GH_Archive.Deserialize_Xml(String xmlContent)\\r\\n   at compute.geometry.GrasshopperDefinition.ArchiveFromBase64String(String blob) in C:\\\\projects\\\\compute-rhino3d\\\\src\\\\compute.geometry\\\\GrasshopperDefinition.cs:line 1009\\r\\n   at compute.geometry.GrasshopperDefinition.FromBase64String(String data, Boolean cache) in C:\\\\projects\\\\compute-rhino3d\\\\src\\\\compute.geometry\\\\GrasshopperDefinition.cs:line 108\\r\\n   at compute.geometry.ResthopperEndpointsModule.GrasshopperSolveHelper(Schema input, String body, Stopwatch stopwatch) in C:\\\\projects\\\\compute-rhino3d\\\\src\\\\compute.geometry\\\\ResthopperEndpoints.cs:line 66\\r\\n   at compute.geometry.ResthopperEndpointsModule.Grasshopper(NancyContext ctx) in C:\\\\projects\\\\compute-rhino3d\\\\src\\\\compute.geometry\\\\ResthopperEndpoints.cs:line 135\\r\\n   at Nancy.Routing.Route.<>c__DisplayClass4.<Wrap>b__3(Object parameters, CancellationToken context)\\r\\n   --- End of inner exception stack trace ---\\r\\n   at Nancy.NancyEngine.InvokeOnErrorHook(NancyContext context, ErrorPipeline pipeline, Exception ex)'}\n"
     ]
    }
   ],
   "metadata": {}
  },
  {
   "cell_type": "code",
   "execution_count": 142,
   "source": [
    "# retrieve data from given Data Tree\r\n",
    "ou_value = list(ou_data.values())\r\n",
    "ou_type = ou_value[0][0]['type']\r\n",
    "ou_unpack = ou_value[0][0]['data']"
   ],
   "outputs": [],
   "metadata": {}
  },
  {
   "cell_type": "code",
   "execution_count": 143,
   "source": [
    "print(ou_value)\r\n",
    "print(ou_type)\r\n",
    "print(ou_unpack)\r\n",
    "print(type(ou_unpack))"
   ],
   "outputs": [
    {
     "output_type": "stream",
     "name": "stdout",
     "text": [
      "[[{'type': 'System.Int32', 'data': '5'}]]\n",
      "System.Int32\n",
      "5\n",
      "<class 'str'>\n"
     ]
    }
   ],
   "metadata": {}
  },
  {
   "cell_type": "markdown",
   "source": [
    "## 4.4 Interval <a class=\"anchor\" id=\"4.4\"></a>"
   ],
   "metadata": {}
  },
  {
   "cell_type": "markdown",
   "source": [
    "<center><img src=\"images/canvas-ex04-04.png\" width=\"800\" height=><center>   "
   ],
   "metadata": {}
  },
  {
   "cell_type": "markdown",
   "source": [
    "## 4.5 Point <a class=\"anchor\" id=\"4.5\"></a>"
   ],
   "metadata": {}
  },
  {
   "cell_type": "markdown",
   "source": [
    "<center><img src=\"images/canvas-ex04-05.jpg\" width=\"600\" height=\"\"><center>   "
   ],
   "metadata": {}
  },
  {
   "cell_type": "code",
   "execution_count": 144,
   "source": [
    "# name of the files to be used\r\n",
    "ghfile = ghx_dir + 'ex04-05-point.ghx'\r\n",
    "model = rhino3dm.File3dm()\r\n",
    "filename = rh_dir + 'ex04-05.3dm'"
   ],
   "outputs": [],
   "metadata": {}
  },
  {
   "cell_type": "markdown",
   "source": [
    "### 4.5.1.1 Point Passing"
   ],
   "metadata": {}
  },
  {
   "cell_type": "code",
   "execution_count": 145,
   "source": [
    "# encode data\r\n",
    "# combine trees\r\n",
    "trees = []\r\n",
    "\r\n",
    "# decode data\r\n",
    "output = gh.EvaluateDefinition(ghfile, trees)\r\n",
    "values = output[\"values\"]\r\n",
    "\r\n",
    "# getting tags, name search\r\n",
    "def ns(name):\r\n",
    "    for i in range(len(values)):\r\n",
    "        vname = values[i][\"ParamName\"]\r\n",
    "        if (vname == \"RH_OUT:\" + name):\r\n",
    "            return i\r\n",
    "\r\n",
    "# search for Data Tree\r\n",
    "tag = \"go_pt\"\r\n",
    "ou_ind = ns(tag)\r\n",
    "ou_data = values[ou_ind][\"InnerTree\"]"
   ],
   "outputs": [],
   "metadata": {}
  },
  {
   "cell_type": "code",
   "execution_count": 146,
   "source": [
    "# retrieve data from given Data Tree\r\n",
    "ou_value = list(ou_data.values())\r\n",
    "ou_unpack = ou_value[0][0][\"data\"]\r\n",
    "\r\n",
    "print(ou_unpack)\r\n",
    "print(type(ou_unpack))"
   ],
   "outputs": [
    {
     "output_type": "stream",
     "name": "stdout",
     "text": [
      "{\"X\":0.0,\"Y\":0.0,\"Z\":0.0}\n",
      "<class 'str'>\n"
     ]
    }
   ],
   "metadata": {}
  },
  {
   "cell_type": "code",
   "execution_count": 147,
   "source": [
    "ds = ou_unpack\r\n",
    "ds_js = json.loads(ds)\r\n",
    "print(ds_js)\r\n",
    "print(type(ds_js))"
   ],
   "outputs": [
    {
     "output_type": "stream",
     "name": "stdout",
     "text": [
      "{'X': 0.0, 'Y': 0.0, 'Z': 0.0}\n",
      "<class 'dict'>\n"
     ]
    }
   ],
   "metadata": {}
  },
  {
   "cell_type": "markdown",
   "source": [
    "For some reason grasshopper can't convert Point3d objects automatically"
   ],
   "metadata": {}
  },
  {
   "cell_type": "code",
   "execution_count": 148,
   "source": [
    "# it is impossible to decode point3d\r\n",
    "ds_obj = rhino3dm.CommonObject.Decode(ds_js)"
   ],
   "outputs": [
    {
     "output_type": "error",
     "ename": "KeyError",
     "evalue": "'data'",
     "traceback": [
      "\u001b[1;31m---------------------------------------------------------------------------\u001b[0m",
      "\u001b[1;31mKeyError\u001b[0m                                  Traceback (most recent call last)",
      "\u001b[1;32m~\\AppData\\Local\\Temp/ipykernel_16840/1879883195.py\u001b[0m in \u001b[0;36m<module>\u001b[1;34m\u001b[0m\n\u001b[0;32m      1\u001b[0m \u001b[1;31m# it is impossible to decode point3d\u001b[0m\u001b[1;33m\u001b[0m\u001b[1;33m\u001b[0m\u001b[1;33m\u001b[0m\u001b[0m\n\u001b[1;32m----> 2\u001b[1;33m \u001b[0mds_obj\u001b[0m \u001b[1;33m=\u001b[0m \u001b[0mrhino3dm\u001b[0m\u001b[1;33m.\u001b[0m\u001b[0mCommonObject\u001b[0m\u001b[1;33m.\u001b[0m\u001b[0mDecode\u001b[0m\u001b[1;33m(\u001b[0m\u001b[0mds_js\u001b[0m\u001b[1;33m)\u001b[0m\u001b[1;33m\u001b[0m\u001b[1;33m\u001b[0m\u001b[0m\n\u001b[0m",
      "\u001b[1;31mKeyError\u001b[0m: 'data'"
     ]
    }
   ],
   "metadata": {}
  },
  {
   "cell_type": "code",
   "execution_count": 149,
   "source": [
    "pt_x = ds_js['X']\r\n",
    "pt_y = ds_js['Y']\r\n",
    "pt_z = ds_js['Z']"
   ],
   "outputs": [],
   "metadata": {}
  },
  {
   "cell_type": "code",
   "execution_count": 150,
   "source": [
    "pt_recon = rhino3dm.Point3d(pt_x,pt_y,pt_z)"
   ],
   "outputs": [],
   "metadata": {}
  },
  {
   "cell_type": "code",
   "execution_count": 151,
   "source": [
    "print(type(pt_recon))"
   ],
   "outputs": [
    {
     "output_type": "stream",
     "name": "stdout",
     "text": [
      "<class 'rhino3dm._rhino3dm.Point3d'>\n"
     ]
    }
   ],
   "metadata": {}
  },
  {
   "cell_type": "code",
   "execution_count": 159,
   "source": [
    "model.Objects.AddPoint(pt_recon)\r\n",
    "model.Write(filename)"
   ],
   "outputs": [
    {
     "output_type": "execute_result",
     "data": {
      "text/plain": [
       "True"
      ]
     },
     "metadata": {},
     "execution_count": 159
    }
   ],
   "metadata": {}
  },
  {
   "cell_type": "markdown",
   "source": [
    "### 4.5.1.2 Point Passing Function"
   ],
   "metadata": {}
  },
  {
   "cell_type": "code",
   "execution_count": 160,
   "source": [
    "def point_passing():\r\n",
    "    # encode data\r\n",
    "    # combine trees\r\n",
    "    trees = []\r\n",
    "\r\n",
    "    # decode data\r\n",
    "    output = gh.EvaluateDefinition(ghfile, trees)\r\n",
    "    values = output[\"values\"]\r\n",
    "\r\n",
    "    # getting tags, name search\r\n",
    "    def ns(name):\r\n",
    "        for i in range(len(values)):\r\n",
    "            vname = values[i][\"ParamName\"]\r\n",
    "            if (vname == \"RH_OUT:\" + name):\r\n",
    "                return i\r\n",
    "\r\n",
    "    # search for Data Tree\r\n",
    "    tag = \"go_pt\"\r\n",
    "    ou_ind = ns(tag)\r\n",
    "    ou_data = values[ou_ind][\"InnerTree\"]\r\n",
    "\r\n",
    "    # retrieve data from given Data Tree\r\n",
    "    ou_value = list(ou_data.values())\r\n",
    "    ou_unpack = ou_value[0][0][\"data\"]\r\n",
    "\r\n",
    "    # decode json\r\n",
    "    ds = ou_unpack\r\n",
    "    ds_js = json.loads(ds)\r\n",
    "\r\n",
    "    # gather coordinates\r\n",
    "    pt_x = ds_js['X']\r\n",
    "    pt_y = ds_js['Y']\r\n",
    "    pt_z = ds_js['Z']\r\n",
    "\r\n",
    "    pt_recon = rhino3dm.Point3d(pt_x,pt_y,pt_z)\r\n",
    "\r\n",
    "    return pt_recon"
   ],
   "outputs": [],
   "metadata": {}
  },
  {
   "cell_type": "code",
   "execution_count": 161,
   "source": [
    "new_pt = point_passing()"
   ],
   "outputs": [],
   "metadata": {}
  },
  {
   "cell_type": "code",
   "execution_count": 162,
   "source": [
    "print(new_pt.X)\r\n",
    "print(new_pt.Y)\r\n",
    "print(new_pt.Z)"
   ],
   "outputs": [
    {
     "output_type": "stream",
     "name": "stdout",
     "text": [
      "0.0\n",
      "0.0\n",
      "0.0\n"
     ]
    }
   ],
   "metadata": {}
  },
  {
   "cell_type": "markdown",
   "source": [
    "### 4.5.2 Point Intercepting"
   ],
   "metadata": {}
  },
  {
   "cell_type": "code",
   "execution_count": 167,
   "source": [
    "def point_passing(pt):\r\n",
    "    # encode data\r\n",
    "    pt_tr = gh.DataTree('RH_IN:gi_pt')\r\n",
    "    pt_tr.Append([0], [pt])\r\n",
    "\r\n",
    "    # combine trees\r\n",
    "    trees = [pt_tr]\r\n",
    "\r\n",
    "    # decode data\r\n",
    "    output = gh.EvaluateDefinition(ghfile, trees)\r\n",
    "    values = output[\"values\"]\r\n",
    "\r\n",
    "    # getting tags, name search\r\n",
    "    def ns(name):\r\n",
    "        for i in range(len(values)):\r\n",
    "            vname = values[i][\"ParamName\"]\r\n",
    "            if (vname == \"RH_OUT:\" + name):\r\n",
    "                return i\r\n",
    "\r\n",
    "    # search for Data Tree\r\n",
    "    tag = \"go_pt\"\r\n",
    "    ou_ind = ns(tag)\r\n",
    "    ou_data = values[ou_ind][\"InnerTree\"]\r\n",
    "\r\n",
    "    # retrieve data from given Data Tree\r\n",
    "    ou_value = list(ou_data.values())\r\n",
    "    ou_unpack = ou_value[0][0][\"data\"]\r\n",
    "\r\n",
    "    # decode json\r\n",
    "    ds = ou_unpack\r\n",
    "    ds_js = json.loads(ds)\r\n",
    "\r\n",
    "    # gather coordinates\r\n",
    "    pt_x = ds_js['X']\r\n",
    "    pt_y = ds_js['Y']\r\n",
    "    pt_z = ds_js['Z']\r\n",
    "\r\n",
    "    pt_recon = rhino3dm.Point3d(pt_x,pt_y,pt_z)\r\n",
    "\r\n",
    "    return pt_recon"
   ],
   "outputs": [],
   "metadata": {}
  },
  {
   "cell_type": "code",
   "execution_count": 168,
   "source": [
    "pt_x = 1.0\r\n",
    "pt_y = 1.0\r\n",
    "pt_z = 1.0\r\n",
    "rh_pt = rhino3dm.Point3d(pt_x,pt_y,pt_z)"
   ],
   "outputs": [],
   "metadata": {}
  },
  {
   "cell_type": "markdown",
   "source": [
    "Because the we need to communicate with .GHX whenever we are inserting Rhino Geometery, we need to convert it using json"
   ],
   "metadata": {}
  },
  {
   "cell_type": "code",
   "execution_count": 169,
   "source": [
    "js_pt = json.dumps(rh_pt.Encode())"
   ],
   "outputs": [],
   "metadata": {}
  },
  {
   "cell_type": "code",
   "execution_count": 170,
   "source": [
    "new_pt = point_passing(js_pt)"
   ],
   "outputs": [],
   "metadata": {}
  },
  {
   "cell_type": "code",
   "execution_count": 171,
   "source": [
    "print(new_pt.X)\r\n",
    "print(new_pt.Y)\r\n",
    "print(new_pt.Z)"
   ],
   "outputs": [
    {
     "output_type": "stream",
     "name": "stdout",
     "text": [
      "1.0\n",
      "1.0\n",
      "1.0\n"
     ]
    }
   ],
   "metadata": {}
  },
  {
   "cell_type": "markdown",
   "source": [
    "## 4.6 Vector <a class=\"anchor\" id=\"4.6\"></a>"
   ],
   "metadata": {}
  },
  {
   "cell_type": "markdown",
   "source": [
    "<center><img src=\"images/canvas-ex04-06.png\" width=\"800\" height=\"\"><center>   "
   ],
   "metadata": {}
  },
  {
   "cell_type": "code",
   "execution_count": 172,
   "source": [
    "# name of the files to be used\r\n",
    "ghfile = ghx_dir + 'ex04-06-vector.ghx'\r\n",
    "model = rhino3dm.File3dm()\r\n",
    "filename = rh_dir + 'ex04-06.3dm'"
   ],
   "outputs": [],
   "metadata": {}
  },
  {
   "cell_type": "markdown",
   "source": [
    "## 4.7 Plane <a class=\"anchor\" id=\"4.7\"></a>"
   ],
   "metadata": {}
  },
  {
   "cell_type": "markdown",
   "source": [
    "<center><img src=\"images/canvas-ex04-07.jpg\" width=\"800\" height=><center>   "
   ],
   "metadata": {}
  },
  {
   "cell_type": "code",
   "execution_count": 173,
   "source": [
    "# name of the files to be used\r\n",
    "ghfile = ghx_dir + 'ex04-07-plane.ghx'\r\n",
    "model = rhino3dm.File3dm()\r\n",
    "filename = rh_dir + 'ex04-07.3dm'"
   ],
   "outputs": [],
   "metadata": {}
  },
  {
   "cell_type": "markdown",
   "source": [
    "## 4.8 Line <a class=\"anchor\" id=\"4.8\"></a>"
   ],
   "metadata": {}
  },
  {
   "cell_type": "markdown",
   "source": [
    "<center><img src=\"images/canvas-ex04-08.png\" width=\"800\" height=><center>   "
   ],
   "metadata": {}
  },
  {
   "cell_type": "code",
   "execution_count": 174,
   "source": [
    "# name of the files to be used\r\n",
    "ghfile = ghx_dir + 'ex04-08-line.ghx'\r\n",
    "model = rhino3dm.File3dm()\r\n",
    "filename = rh_dir + 'ex04-08.3dm'\r\n"
   ],
   "outputs": [],
   "metadata": {}
  },
  {
   "cell_type": "markdown",
   "source": [
    "## 4.9 Polyline <a class=\"anchor\" id=\"4.9\"></a>"
   ],
   "metadata": {}
  },
  {
   "cell_type": "markdown",
   "source": [
    "<center><img src=\"images/canvas-ex04-09.png\" width=\"800\" height=><center>   "
   ],
   "metadata": {}
  },
  {
   "cell_type": "code",
   "execution_count": 175,
   "source": [
    "# name of the files to be used\r\n",
    "ghfile = 'ex04-09-polyine.ghx'\r\n",
    "model = rhino3dm.File3dm()\r\n",
    "filename = 'ex04-09.3dm'"
   ],
   "outputs": [],
   "metadata": {}
  },
  {
   "cell_type": "markdown",
   "source": [
    "## 4.10 Circle <a class=\"anchor\" id=\"4.10\"></a>"
   ],
   "metadata": {}
  },
  {
   "cell_type": "markdown",
   "source": [
    "<center><img src=\"images/canvas-ex04-10.jpg\" width=\"800\" height=><center>   "
   ],
   "metadata": {}
  },
  {
   "cell_type": "code",
   "execution_count": 176,
   "source": [
    "# name of the files to be used\r\n",
    "ghfile = ghx_dir +'ex04-10-circle.ghx'\r\n",
    "model = rhino3dm.File3dm()\r\n",
    "filename = rh_dir + 'ex04-10.3dm'"
   ],
   "outputs": [],
   "metadata": {}
  },
  {
   "cell_type": "markdown",
   "source": [
    "### 4.10.1 Circle Passing"
   ],
   "metadata": {}
  },
  {
   "cell_type": "code",
   "execution_count": 177,
   "source": [
    "def circle(circle_radius: float):\r\n",
    "    # circle_radius = 15\r\n",
    "    c_rad_tr = gh.DataTree('RH_IN:circle_radius')\r\n",
    "    c_rad_tr.Append([0],[circle_radius])\r\n",
    "\r\n",
    "    trees=[c_rad_tr]\r\n",
    "\r\n",
    "    # Send data to compute server\r\n",
    "    output = gh.EvaluateDefinition(ghfile, trees)\r\n",
    "    values = output[\"values\"]\r\n",
    "\r\n",
    "    # getting tags\r\n",
    "    def ns(name):\r\n",
    "        for i in range(len(values)):\r\n",
    "            vname = values[i][\"ParamName\"]\r\n",
    "            if (vname == \"RH_OUT:\" + name):\r\n",
    "                return i\r\n",
    "\r\n",
    "    # convert data\r\n",
    "    tag = \"circle\"\r\n",
    "    ou_ind = ns(tag)\r\n",
    "    ou_dict = values[ou_ind][\"InnerTree\"]\r\n",
    "    # because this object has nested tree, we have to run loop\r\n",
    "    ou_value = list(ou_dict.values())[0][0][\"data\"]\r\n",
    "    ds = ou_value\r\n",
    "    ds_js = json.loads(ou_value)\r\n",
    "    ds_obj = rhino3dm.CommonObject.Decode(ds_js)\r\n",
    "    # print(ds_obj)\r\n",
    "    # print(type(ds_obj))\r\n",
    "\r\n",
    "    return ds_obj"
   ],
   "outputs": [],
   "metadata": {}
  },
  {
   "cell_type": "code",
   "execution_count": 178,
   "source": [
    "radius = float(15.0)\r\n",
    "circle_geo = circle(radius)\r\n",
    "model.Objects.Add(circle_geo)\r\n",
    "model.Write(filename)"
   ],
   "outputs": [
    {
     "output_type": "execute_result",
     "data": {
      "text/plain": [
       "True"
      ]
     },
     "metadata": {},
     "execution_count": 178
    }
   ],
   "metadata": {}
  },
  {
   "cell_type": "markdown",
   "source": [
    "### 4.10.2 Circle Intercepting"
   ],
   "metadata": {}
  },
  {
   "cell_type": "code",
   "execution_count": 179,
   "source": [
    "def circle_area(curve):\r\n",
    "    c_tr = gh.DataTree('RH_IN:any_curve')\r\n",
    "    c_tr.Append([0],[curve])\r\n",
    "\r\n",
    "    trees=[c_tr]\r\n",
    "\r\n",
    "    # Send data to compute server\r\n",
    "    output = gh.EvaluateDefinition(ghfile, trees)\r\n",
    "    values = output[\"values\"]\r\n",
    "\r\n",
    "    # getting tags\r\n",
    "    def ns(name):\r\n",
    "        for i in range(len(values)):\r\n",
    "            tname = values[i][\"ParamName\"]\r\n",
    "            if (tname == \"RH_OUT:\" + name):\r\n",
    "                return i\r\n",
    "\r\n",
    "    # convert data\r\n",
    "    tag = \"curve_area\"\r\n",
    "    ou_ind = ns(tag)\r\n",
    "    ou_dict = values[ou_ind][\"InnerTree\"]\r\n",
    "    # because this object has nested tree, we have to run loop\r\n",
    "    ou_value = list(ou_dict.values())[0][0][\"data\"]\r\n",
    "    ds = ou_value\r\n",
    "    ds_js = json.loads(ou_value)\r\n",
    "    # ds_obj = rhino3dm.CommonObject.Decode(ds_js)\r\n",
    "    # print(ds_obj)\r\n",
    "    # print(type(ds_obj))\r\n",
    "\r\n",
    "    return ds_js"
   ],
   "outputs": [],
   "metadata": {}
  },
  {
   "cell_type": "code",
   "execution_count": 180,
   "source": [
    "# create circle in rhino3dm\r\n",
    "rh_pt = rhino3dm.Point3d(0, 0, 0)\r\n",
    "rh_circle = rhino3dm.Circle(rh_pt, 1)"
   ],
   "outputs": [],
   "metadata": {}
  },
  {
   "cell_type": "markdown",
   "source": [
    "Because the we need to communicate with .GHX whenever we are inserting Rhino Geometery, we need to convert it using json"
   ],
   "metadata": {}
  },
  {
   "cell_type": "code",
   "execution_count": 181,
   "source": [
    "# encoding rhino3dm object into json to communicate with .GHX\r\n",
    "js_circle = json.dumps(rh_circle.ToNurbsCurve().Encode())"
   ],
   "outputs": [],
   "metadata": {}
  },
  {
   "cell_type": "code",
   "execution_count": 182,
   "source": [
    "c_area = circle_area(js_circle)\r\n",
    "print(c_area)"
   ],
   "outputs": [
    {
     "output_type": "stream",
     "name": "stdout",
     "text": [
      "3.1415926923587874\n"
     ]
    }
   ],
   "metadata": {}
  },
  {
   "cell_type": "code",
   "execution_count": 183,
   "source": [
    "for i in range(10):\r\n",
    "    rh_circle = rhino3dm.Circle(rh_pt, (i+1)*10)\r\n",
    "    js_circle = json.dumps(rh_circle.ToNurbsCurve().Encode())\r\n",
    "    c_area = circle_area(js_circle)\r\n",
    "    print(c_area)"
   ],
   "outputs": [
    {
     "output_type": "stream",
     "name": "stdout",
     "text": [
      "314.1592692358788\n",
      "1256.6370769435152\n",
      "2827.4334231229095\n",
      "5026.548307774061\n",
      "7853.981730896965\n",
      "11309.733692491638\n",
      "15393.804192558058\n",
      "20106.193231096244\n",
      "25446.900808106166\n",
      "31415.92692358786\n"
     ]
    }
   ],
   "metadata": {}
  },
  {
   "cell_type": "code",
   "execution_count": 185,
   "source": [
    "# create multiple circle in rhino3dm\r\n",
    "rh_mlt_circle = []\r\n",
    "for i in range(10):\r\n",
    "    rh_circle = rhino3dm.Circle(rh_pt, (i+1) * 10)\r\n",
    "    rh_mlt_circle.append(rh_circle)"
   ],
   "outputs": [],
   "metadata": {}
  },
  {
   "cell_type": "code",
   "execution_count": 186,
   "source": [
    "for rh_circle in rh_mlt_circle:\r\n",
    "    js_circle = json.dumps(rh_circle.ToNurbsCurve().Encode())\r\n",
    "    c_area = circle_area(js_circle)\r\n",
    "    print(c_area)"
   ],
   "outputs": [
    {
     "output_type": "stream",
     "name": "stdout",
     "text": [
      "314.1592692358788\n",
      "1256.6370769435152\n",
      "2827.4334231229095\n",
      "5026.548307774061\n",
      "7853.981730896965\n",
      "11309.733692491638\n",
      "15393.804192558058\n",
      "20106.193231096244\n",
      "25446.900808106166\n",
      "31415.92692358786\n"
     ]
    }
   ],
   "metadata": {}
  },
  {
   "cell_type": "markdown",
   "source": [
    "## 4.11 Curve <a class=\"anchor\" id=\"4.11\"></a>"
   ],
   "metadata": {}
  },
  {
   "cell_type": "markdown",
   "source": [
    "<center><img src=\"images/canvas-ex04-11.png\" width=\"800\" height=><center>   "
   ],
   "metadata": {}
  },
  {
   "cell_type": "code",
   "execution_count": 187,
   "source": [
    "# name of the files to be used\r\n",
    "ghfile = ghx_dir + 'ex04-11-curve.ghx'\r\n",
    "model = rhino3dm.File3dm()\r\n",
    "filename = rh_dir + 'ex04-11.3dm'"
   ],
   "outputs": [],
   "metadata": {}
  },
  {
   "cell_type": "markdown",
   "source": [
    "## 4.12 Polycurve <a class=\"anchor\" id=\"4.12\"></a>"
   ],
   "metadata": {}
  },
  {
   "cell_type": "markdown",
   "source": [
    "<center><img src=\"images/canvas-ex04-12.jpg\" width=\"600\" height=><center>   "
   ],
   "metadata": {}
  },
  {
   "cell_type": "markdown",
   "source": [
    "<center><img src=\"images/diagram03.jpg\" width=\"500\" height=><center>   "
   ],
   "metadata": {}
  },
  {
   "cell_type": "code",
   "execution_count": 188,
   "source": [
    "# name of the files to be used\r\n",
    "ghfile = 'ex04-12-polycurve.ghx'\r\n",
    "model = rhino3dm.File3dm()\r\n",
    "filename = 'ex04-12.3dm'"
   ],
   "outputs": [],
   "metadata": {}
  },
  {
   "cell_type": "markdown",
   "source": [
    "## 4.13 Surface <a class=\"anchor\" id=\"4.13\"></a>"
   ],
   "metadata": {}
  },
  {
   "cell_type": "markdown",
   "source": [
    "<center><img src=\"images/canvas-ex04-13.jpg\" width=\"800\" height=><center>   "
   ],
   "metadata": {}
  },
  {
   "cell_type": "code",
   "execution_count": 189,
   "source": [
    "# name of the files to be used\r\n",
    "ghfile = ghx_dir + 'ex04-13-surface.ghx'\r\n",
    "model = rhino3dm.File3dm()\r\n",
    "filename = rh_dir + 'ex04-13.3dm'"
   ],
   "outputs": [],
   "metadata": {}
  },
  {
   "cell_type": "code",
   "execution_count": 190,
   "source": [
    "trees = []"
   ],
   "outputs": [],
   "metadata": {}
  },
  {
   "cell_type": "code",
   "execution_count": 191,
   "source": [
    "# Send data to compute server\r\n",
    "output = gh.EvaluateDefinition(ghfile, trees)\r\n",
    "values = output[\"values\"]"
   ],
   "outputs": [],
   "metadata": {}
  },
  {
   "cell_type": "code",
   "execution_count": 192,
   "source": [
    "# print(values)"
   ],
   "outputs": [],
   "metadata": {}
  },
  {
   "cell_type": "markdown",
   "source": [
    "## 4.14 Brep <a class=\"anchor\" id=\"4.14\"></a>"
   ],
   "metadata": {}
  },
  {
   "cell_type": "code",
   "execution_count": 193,
   "source": [
    "# name of the files to be used\r\n",
    "ghfile = ghx_dir + 'ex04-14.ghx'\r\n",
    "model = rhino3dm.File3dm()\r\n",
    "filename = rh_dir + 'ex04-14.3dm'"
   ],
   "outputs": [],
   "metadata": {}
  },
  {
   "cell_type": "markdown",
   "source": [
    "## 4.15 Mesh <a class=\"anchor\" id=\"4.15\"></a>"
   ],
   "metadata": {}
  },
  {
   "cell_type": "markdown",
   "source": [
    "We can bake the meshes to the scene as .3dm but if we want to retrieve the Point3d Object or export into STL/OBJ we have to work with strings cand reconstruct upon it"
   ],
   "metadata": {}
  },
  {
   "cell_type": "markdown",
   "source": [
    "<center><img src=\"images/canvas-ex04-15.jpg\" width=\"800\" height=><center>   "
   ],
   "metadata": {}
  },
  {
   "cell_type": "markdown",
   "source": [
    "### 4.15.1 Mesh Passing <a class=\"anchor\" id=\"4.15.1\"></a>"
   ],
   "metadata": {}
  },
  {
   "cell_type": "code",
   "execution_count": 194,
   "source": [
    "# name of the files to be used\r\n",
    "ghfile = ghx_dir + 'ex04-15-mesh01.ghx'\r\n",
    "model = rhino3dm.File3dm()\r\n",
    "filename = rh_dir + 'ex04-15-01.3dm'"
   ],
   "outputs": [],
   "metadata": {}
  },
  {
   "cell_type": "code",
   "execution_count": 195,
   "source": [
    "def mesh(mesh_res: int, mesh_tri: bool):\r\n",
    "    mesh_res_tr = gh.DataTree('RH_IN:mesh_res')\r\n",
    "    mesh_res_tr.Append([0],[mesh_res])\r\n",
    "\r\n",
    "    mesh_tri_tr = gh.DataTree('RH_IN:mesh_tri')\r\n",
    "    mesh_tri_tr.Append([0],[mesh_tri])\r\n",
    "\r\n",
    "    trees=[mesh_res_tr, mesh_tri_tr]\r\n",
    "\r\n",
    "    # Send data to compute server\r\n",
    "    output = gh.EvaluateDefinition(ghfile, trees)\r\n",
    "    # print(output)\r\n",
    "    values = output[\"values\"]\r\n",
    "\r\n",
    "    # getting tags\r\n",
    "    def ns(name):\r\n",
    "        for i in range(len(values)):\r\n",
    "            vname = values[i][\"ParamName\"]\r\n",
    "            if (vname == \"RH_OUT:\" + name):\r\n",
    "                return i\r\n",
    "\r\n",
    "    # convert data\r\n",
    "    tag = \"mesh\"\r\n",
    "    ou_ind = ns(tag)\r\n",
    "    ou_dict = values[ou_ind][\"InnerTree\"]\r\n",
    "    # because this object has nested tree, we have to run loop\r\n",
    "    ou_value = list(ou_dict.values())[0][0][\"data\"]\r\n",
    "    ds = ou_value\r\n",
    "    ds_js = json.loads(ds)\r\n",
    "    ds_obj = rhino3dm.CommonObject.Decode(ds_js)\r\n",
    "    return ds_obj"
   ],
   "outputs": [],
   "metadata": {}
  },
  {
   "cell_type": "code",
   "execution_count": 196,
   "source": [
    "mesh_res = int(1)\r\n",
    "mesh_tri = False\r\n",
    "\r\n",
    "geo_mesh = mesh(mesh_res,mesh_tri)\r\n",
    "model.Objects.Add(geo_mesh)\r\n",
    "model.Write(filename)"
   ],
   "outputs": [
    {
     "output_type": "execute_result",
     "data": {
      "text/plain": [
       "True"
      ]
     },
     "metadata": {},
     "execution_count": 196
    }
   ],
   "metadata": {}
  },
  {
   "cell_type": "markdown",
   "source": [
    "### 4.15.2 Mesh Vertex Lists <a class=\"anchor\" id=\"4.15.2\"></a>"
   ],
   "metadata": {}
  },
  {
   "cell_type": "code",
   "execution_count": 197,
   "source": [
    "def mesh_vlist(mesh_res: int, mesh_tri: bool):\r\n",
    "    mesh_res_tr = gh.DataTree('RH_IN:mesh_res')\r\n",
    "    mesh_res_tr.Append([0],[mesh_res])\r\n",
    "\r\n",
    "    mesh_tri_tr = gh.DataTree('RH_IN:mesh_tri')\r\n",
    "    mesh_tri_tr.Append([0],[mesh_tri])\r\n",
    "\r\n",
    "    trees=[mesh_res_tr, mesh_tri_tr]\r\n",
    "\r\n",
    "    # Send data to compute server\r\n",
    "    output = gh.EvaluateDefinition(ghfile, trees)\r\n",
    "    # print(output)\r\n",
    "    values = output[\"values\"]\r\n",
    "\r\n",
    "    # getting tags\r\n",
    "    def ns(name):\r\n",
    "        for i in range(len(values)):\r\n",
    "            tname = values[i][\"ParamName\"]\r\n",
    "            if (tname == \"RH_OUT:\" + name):\r\n",
    "                return i\r\n",
    "\r\n",
    "    # convert data\r\n",
    "    tag = \"mesh_vertex_list\"\r\n",
    "    ou_ind = ns(tag)\r\n",
    "    ou_dict = values[ou_ind][\"InnerTree\"]\r\n",
    "    # because this object has nested tree, we have to run loop\r\n",
    "    ou_value = list(ou_dict.values()) #[0] #[0][\"data\"]\r\n",
    "\r\n",
    "    ou_serial = []\r\n",
    "\r\n",
    "    # check for everything and throw back lists\r\n",
    "    for i in range(len(ou_value)):\r\n",
    "        for j in range(len(ou_value[i])):\r\n",
    "            # swipe through all data tree (haven't checked for triple quadraple nested trees)\r\n",
    "            ds = ou_value[i][j][\"data\"]\r\n",
    "            ds_js = json.loads(ds)\r\n",
    "            \r\n",
    "            # check whether it is rhino geometry or just string / float\r\n",
    "            try:\r\n",
    "                ds_obj = rhino3dm.CommonObject.Decode(ds_js)\r\n",
    "            except:\r\n",
    "                ds_obj = ds_js\r\n",
    "\r\n",
    "            # check if the string can be converted into list again\r\n",
    "            if ( type(ds_obj) is str):\r\n",
    "                try :\r\n",
    "                    ds_obj = json.loads(ds_obj)\r\n",
    "                except:\r\n",
    "                    ds_obj = ds_obj\r\n",
    "            else:\r\n",
    "                pass\r\n",
    "            #append final data\r\n",
    "            ou_serial.append( ds_obj )\r\n",
    "\r\n",
    "    return ou_serial"
   ],
   "outputs": [],
   "metadata": {}
  },
  {
   "cell_type": "code",
   "execution_count": 198,
   "source": [
    "mesh_res = int(1)\r\n",
    "mesh_tri = False\r\n",
    "\r\n",
    "m_vl = mesh_vlist(mesh_res, mesh_tri)\r\n",
    "print(m_vl[0])\r\n",
    "print(type(m_vl[0]))"
   ],
   "outputs": [
    {
     "output_type": "stream",
     "name": "stdout",
     "text": [
      "[-15, 15, -15]\n",
      "<class 'list'>\n"
     ]
    }
   ],
   "metadata": {}
  },
  {
   "cell_type": "markdown",
   "source": [
    "### 4.15.3 Mesh Face Type <a class=\"anchor\" id=\"4.15.3\"></a>"
   ],
   "metadata": {}
  },
  {
   "cell_type": "code",
   "execution_count": 199,
   "source": [
    "def mesh_ftype(mesh_res: int, mesh_tri: bool):\r\n",
    "    mesh_res_tr = gh.DataTree('RH_IN:mesh_res')\r\n",
    "    mesh_res_tr.Append([0],[mesh_res])\r\n",
    "\r\n",
    "    mesh_tri_tr = gh.DataTree('RH_IN:mesh_tri')\r\n",
    "    mesh_tri_tr.Append([0],[mesh_tri])\r\n",
    "\r\n",
    "    trees=[mesh_res_tr, mesh_tri_tr]\r\n",
    "\r\n",
    "    # Send data to compute server\r\n",
    "    output = gh.EvaluateDefinition(ghfile, trees)\r\n",
    "    # print(output)\r\n",
    "    values = output[\"values\"]\r\n",
    "\r\n",
    "    # getting tags\r\n",
    "    def ns(name):\r\n",
    "        for i in range(len(values)):\r\n",
    "            vname = values[i][\"ParamName\"]\r\n",
    "            if (vname == \"RH_OUT:\" + name):\r\n",
    "                return i\r\n",
    "\r\n",
    "    # convert data\r\n",
    "    tag = \"mesh_face_type\"\r\n",
    "    ou_ind = ns(tag)\r\n",
    "    ou_dict = values[ou_ind][\"InnerTree\"]\r\n",
    "    # because this object has nested tree, we have to run loop\r\n",
    "    ou_value = list(ou_dict.values()) #[0] #[0][\"data\"]\r\n",
    "    \r\n",
    "    ou_serial = []\r\n",
    "\r\n",
    "    # check for everything and throw back lists\r\n",
    "    for i in range(len(ou_value)):\r\n",
    "        for j in range(len(ou_value[i])):\r\n",
    "            # swipe through all data tree (haven't checked for triple quadraple nested trees)\r\n",
    "            ds = ou_value[i][j][\"data\"]\r\n",
    "            ds_js = json.loads(ds)\r\n",
    "            \r\n",
    "            # check whether it is rhino geometry or just string / float\r\n",
    "            try:\r\n",
    "                ds_obj = rhino3dm.CommonObject.Decode(ds_js)\r\n",
    "            except:\r\n",
    "                ds_obj = ds_js\r\n",
    "\r\n",
    "            # check if the string can be converted into list again\r\n",
    "            if ( type(ds_obj) is str):\r\n",
    "                try : \r\n",
    "                    ds_obj = json.loads(ds_obj)\r\n",
    "                except:\r\n",
    "                    ds_obj = ds_obj\r\n",
    "            else:\r\n",
    "                pass\r\n",
    "            #append final data\r\n",
    "            ou_serial.append( ds_obj )\r\n",
    "\r\n",
    "    return ou_serial"
   ],
   "outputs": [],
   "metadata": {}
  },
  {
   "cell_type": "code",
   "execution_count": 200,
   "source": [
    "mesh_res = int(1)\r\n",
    "mesh_tri = False\r\n",
    "\r\n",
    "m_ft = mesh_ftype(mesh_res, mesh_tri)\r\n",
    "print(m_ft)\r\n",
    "print(type(m_ft))"
   ],
   "outputs": [
    {
     "output_type": "stream",
     "name": "stdout",
     "text": [
      "['quad', 'quad', 'quad', 'quad', 'quad', 'quad']\n",
      "<class 'list'>\n"
     ]
    }
   ],
   "metadata": {}
  },
  {
   "cell_type": "markdown",
   "source": [
    "### 4.15.4 Mesh Face Lists <a class=\"anchor\" id=\"4.15.4\"></a>"
   ],
   "metadata": {}
  },
  {
   "cell_type": "code",
   "execution_count": 201,
   "source": [
    "def mesh_flist(mesh_res: int, mesh_tri: bool):\r\n",
    "    mesh_res_tr = gh.DataTree('RH_IN:mesh_res')\r\n",
    "    mesh_res_tr.Append([0],[mesh_res])\r\n",
    "\r\n",
    "    mesh_tri_tr = gh.DataTree('RH_IN:mesh_tri')\r\n",
    "    mesh_tri_tr.Append([0],[mesh_tri])\r\n",
    "\r\n",
    "    trees=[mesh_res_tr, mesh_tri_tr]\r\n",
    "\r\n",
    "    # Send data to compute server\r\n",
    "    output = gh.EvaluateDefinition(ghfile, trees)\r\n",
    "    # print(output)\r\n",
    "    values = output[\"values\"]\r\n",
    "\r\n",
    "    # getting tags\r\n",
    "    def ns(name):\r\n",
    "        for i in range(len(values)):\r\n",
    "            vname = values[i][\"ParamName\"]\r\n",
    "            if (vname == \"RH_OUT:\" + name):\r\n",
    "                return i\r\n",
    "\r\n",
    "    # convert data\r\n",
    "    tag = \"mesh_face_list\"\r\n",
    "    ou_ind = ns(tag)\r\n",
    "    ou_dict = values[ou_ind][\"InnerTree\"]\r\n",
    "    # because this object has nested tree, we have to run loop\r\n",
    "    ou_value = list(ou_dict.values()) #[0] #[0][\"data\"]\r\n",
    "\r\n",
    "    ou_serial = []\r\n",
    "\r\n",
    "    # check for everything and throw back lists\r\n",
    "    for i in range(len(ou_value)):\r\n",
    "        for j in range(len(ou_value[i])):\r\n",
    "            # swipe through all data tree (haven't checked for triple quadraple nested trees)\r\n",
    "            ds = ou_value[i][j][\"data\"]\r\n",
    "            ds_js = json.loads(ds)\r\n",
    "            \r\n",
    "            # check whether it is rhino geometry or just string / float\r\n",
    "            try:\r\n",
    "                ds_obj = rhino3dm.CommonObject.Decode(ds_js)\r\n",
    "            except:\r\n",
    "                ds_obj = ds_js\r\n",
    "\r\n",
    "            # check if the string can be converted into list again\r\n",
    "            if ( type(ds_obj) is str):\r\n",
    "                try :\r\n",
    "                    ds_obj = json.loads(ds_obj)\r\n",
    "                except:\r\n",
    "                    ds_obj = ds_obj\r\n",
    "            else:\r\n",
    "                pass\r\n",
    "\r\n",
    "            ou_serial.append( ds_obj )\r\n",
    "\r\n",
    "    return ou_serial"
   ],
   "outputs": [],
   "metadata": {}
  },
  {
   "cell_type": "code",
   "execution_count": 202,
   "source": [
    "mesh_res = int(2)\r\n",
    "mesh_tri = False\r\n",
    "\r\n",
    "m_fl = mesh_flist(mesh_res, mesh_tri)\r\n",
    "print(m_fl[0])\r\n",
    "print(type(m_fl[0]))\r\n",
    "print(m_fl[0][0])\r\n",
    "print(type(m_fl[0][0]))"
   ],
   "outputs": [
    {
     "output_type": "stream",
     "name": "stdout",
     "text": [
      "[0, 1, 4, 3]\n",
      "<class 'list'>\n",
      "0\n",
      "<class 'int'>\n"
     ]
    }
   ],
   "metadata": {}
  },
  {
   "cell_type": "markdown",
   "source": [
    "### 4.15.5 Mesh Exporting to STL/OBJ using MeshIO <a class=\"anchor\" id=\"4.15.5\"></a>"
   ],
   "metadata": {}
  },
  {
   "cell_type": "markdown",
   "source": [
    "Because I couldn't find good ways to export files other than 3dm in rhino compute, we would use Python Module <span style=\"color:lime\">MeshIO</span> and <span style=\"color:lime\">Numpy STL</span> to export meshes"
   ],
   "metadata": {}
  },
  {
   "cell_type": "markdown",
   "source": [
    "<center><img src=\"images/diagram01.jpg\" width=\"250\" height=><center>   "
   ],
   "metadata": {}
  },
  {
   "cell_type": "markdown",
   "source": [
    "### Compile to reconstruct mesh"
   ],
   "metadata": {}
  },
  {
   "cell_type": "code",
   "execution_count": 203,
   "source": [
    "mesh_res = int(2)\r\n",
    "mesh_tri = True\r\n",
    "\r\n",
    "m_vl = mesh_vlist(mesh_res, mesh_tri)\r\n",
    "m_ft = mesh_ftype(mesh_res, mesh_tri)\r\n",
    "m_fl = mesh_flist(mesh_res, mesh_tri)"
   ],
   "outputs": [],
   "metadata": {}
  },
  {
   "cell_type": "code",
   "execution_count": 204,
   "source": [
    "# print(m_vl)\r\n",
    "# print(type(m_vl))\r\n",
    "\r\n",
    "# print(m_ft)\r\n",
    "# print(type(m_ft))\r\n",
    "\r\n",
    "# print(m_fl)\r\n",
    "# print(type(m_fl))"
   ],
   "outputs": [],
   "metadata": {}
  },
  {
   "cell_type": "markdown",
   "source": [
    "Keep in mind if you want to have quad mesh faces in the file, you have to use something like OBJ as STL can only take trinagular meshes\r\n",
    "<br> Beside that, if we get any performance issues, we woud try to implement numpy STL"
   ],
   "metadata": {}
  },
  {
   "cell_type": "code",
   "execution_count": 205,
   "source": [
    "import meshio"
   ],
   "outputs": [],
   "metadata": {}
  },
  {
   "cell_type": "code",
   "execution_count": 206,
   "source": [
    "m_points = m_vl\r\n",
    "m_pair = (m_ft[0], m_fl)\r\n",
    "m_cells = []\r\n",
    "m_cells.append( m_pair )"
   ],
   "outputs": [],
   "metadata": {}
  },
  {
   "cell_type": "code",
   "execution_count": 207,
   "source": [
    "generation = mesh_res\r\n",
    "i = generation\r\n",
    "i = format(i, '04d')\r\n",
    "print(i)"
   ],
   "outputs": [
    {
     "output_type": "stream",
     "name": "stdout",
     "text": [
      "0002\n"
     ]
    }
   ],
   "metadata": {}
  },
  {
   "cell_type": "code",
   "execution_count": 208,
   "source": [
    "stl_filename = \"ex04-15-\"+i+\".stl\"\r\n",
    "print(stl_filename)"
   ],
   "outputs": [
    {
     "output_type": "stream",
     "name": "stdout",
     "text": [
      "ex04-15-0002.stl\n"
     ]
    }
   ],
   "metadata": {}
  },
  {
   "cell_type": "code",
   "execution_count": 209,
   "source": [
    "# Alternative with the same options\r\n",
    "check = meshio.write_points_cells(stl_filename, m_points, m_cells)\r\n",
    "print(check)"
   ],
   "outputs": [
    {
     "output_type": "stream",
     "name": "stdout",
     "text": [
      "None\n"
     ]
    }
   ],
   "metadata": {}
  },
  {
   "cell_type": "markdown",
   "source": [
    "### 4.15.5+ Mesh Plot using matplotlib and Numpy STL"
   ],
   "metadata": {}
  },
  {
   "cell_type": "code",
   "execution_count": 210,
   "source": [
    "from stl import mesh\r\n",
    "from mpl_toolkits import mplot3d\r\n",
    "from matplotlib import pyplot"
   ],
   "outputs": [],
   "metadata": {}
  },
  {
   "cell_type": "code",
   "execution_count": 211,
   "source": [
    "# Create a new plot\r\n",
    "figure = pyplot.figure()\r\n",
    "axes = mplot3d.Axes3D(figure)\r\n",
    "\r\n",
    "# Load the STL files and add the vectors to the plot\r\n",
    "your_mesh = mesh.Mesh.from_file(stl_filename)\r\n",
    "axes.add_collection3d(mplot3d.art3d.Poly3DCollection(your_mesh.vectors))\r\n",
    "\r\n",
    "# Auto scale to the mesh size\r\n",
    "scale = your_mesh.points.flatten()\r\n",
    "axes.auto_scale_xyz(scale, scale, scale)\r\n",
    "\r\n",
    "# Show the plot to the screen\r\n",
    "pyplot.show()"
   ],
   "outputs": [
    {
     "output_type": "stream",
     "name": "stderr",
     "text": [
      "C:\\Python37\\lib\\site-packages\\ipykernel_launcher.py:3: MatplotlibDeprecationWarning: Axes3D(fig) adding itself to the figure is deprecated since 3.4. Pass the keyword argument auto_add_to_figure=False and use fig.add_axes(ax) to suppress this warning. The default value of auto_add_to_figure will change to False in mpl3.5 and True values will no longer work in 3.6.  This is consistent with other Axes classes.\n",
      "  This is separate from the ipykernel package so we can avoid doing imports until\n"
     ]
    },
    {
     "output_type": "display_data",
     "data": {
      "image/png": "[encoded data removed]",
      "text/plain": [
       "<Figure size 432x288 with 1 Axes>"
      ]
     },
     "metadata": {
      "needs_background": "light"
     }
    }
   ],
   "metadata": {}
  },
  {
   "cell_type": "markdown",
   "source": [
    "### 4.15.5#B Testing with another model <a class=\"anchor\" id=\"4.15.5.B\"></a>"
   ],
   "metadata": {}
  },
  {
   "cell_type": "markdown",
   "source": [
    "<center><img src=\"images/diagram02.jpg\" width=\"250\" height=><center>   "
   ],
   "metadata": {}
  },
  {
   "cell_type": "code",
   "execution_count": 212,
   "source": [
    "# name of the files to be used\r\n",
    "ghfile = ghx_dir + 'ex04-15-mesh03.ghx'"
   ],
   "outputs": [],
   "metadata": {}
  },
  {
   "cell_type": "code",
   "execution_count": 213,
   "source": [
    "mesh_res = int(25)\r\n",
    "mesh_tri = True\r\n",
    "\r\n",
    "m_vl = mesh_vlist(mesh_res, mesh_tri)\r\n",
    "m_ft = mesh_ftype(mesh_res, mesh_tri)\r\n",
    "m_fl = mesh_flist(mesh_res, mesh_tri)"
   ],
   "outputs": [],
   "metadata": {}
  },
  {
   "cell_type": "code",
   "execution_count": 214,
   "source": [
    "m_points = m_vl\r\n",
    "m_pair = (m_ft[0], m_fl)\r\n",
    "m_cells = []\r\n",
    "m_cells.append( m_pair )"
   ],
   "outputs": [],
   "metadata": {}
  },
  {
   "cell_type": "code",
   "execution_count": 215,
   "source": [
    "generation = mesh_res\r\n",
    "i = generation\r\n",
    "i = format(i, '04d')\r\n",
    "print(i)"
   ],
   "outputs": [
    {
     "output_type": "stream",
     "name": "stdout",
     "text": [
      "0025\n"
     ]
    }
   ],
   "metadata": {}
  },
  {
   "cell_type": "code",
   "execution_count": 216,
   "source": [
    "import meshio"
   ],
   "outputs": [],
   "metadata": {}
  },
  {
   "cell_type": "code",
   "execution_count": 217,
   "source": [
    "stl_filename = \"ex04-15-\"+i+\".stl\"\r\n",
    "print(stl_filename)"
   ],
   "outputs": [
    {
     "output_type": "stream",
     "name": "stdout",
     "text": [
      "ex04-15-0025.stl\n"
     ]
    }
   ],
   "metadata": {}
  },
  {
   "cell_type": "code",
   "execution_count": 218,
   "source": [
    "# Alternative with the same options\r\n",
    "check = meshio.write_points_cells(stl_filename, m_points, m_cells)\r\n",
    "print(check)"
   ],
   "outputs": [
    {
     "output_type": "stream",
     "name": "stdout",
     "text": [
      "None\n"
     ]
    }
   ],
   "metadata": {}
  },
  {
   "cell_type": "markdown",
   "source": [
    "### 4.15.5#B+ Mesh Plot using matplotlib and Numpy STL"
   ],
   "metadata": {}
  },
  {
   "cell_type": "code",
   "execution_count": 219,
   "source": [
    "from stl import mesh\r\n",
    "from mpl_toolkits import mplot3d\r\n",
    "from matplotlib import pyplot"
   ],
   "outputs": [],
   "metadata": {}
  },
  {
   "cell_type": "code",
   "execution_count": 220,
   "source": [
    "# Create a new plot\r\n",
    "figure = pyplot.figure()\r\n",
    "axes = mplot3d.Axes3D(figure)\r\n",
    "\r\n",
    "# Load the STL files and add the vectors to the plot\r\n",
    "your_mesh = mesh.Mesh.from_file(stl_filename)\r\n",
    "axes.add_collection3d(mplot3d.art3d.Poly3DCollection(your_mesh.vectors))\r\n",
    "\r\n",
    "# Auto scale to the mesh size\r\n",
    "scale = your_mesh.points.flatten()\r\n",
    "axes.auto_scale_xyz(scale, scale, scale)\r\n",
    "\r\n",
    "# Show the plot to the screen\r\n",
    "pyplot.show()"
   ],
   "outputs": [
    {
     "output_type": "stream",
     "name": "stderr",
     "text": [
      "C:\\Python37\\lib\\site-packages\\ipykernel_launcher.py:3: MatplotlibDeprecationWarning: Axes3D(fig) adding itself to the figure is deprecated since 3.4. Pass the keyword argument auto_add_to_figure=False and use fig.add_axes(ax) to suppress this warning. The default value of auto_add_to_figure will change to False in mpl3.5 and True values will no longer work in 3.6.  This is consistent with other Axes classes.\n",
      "  This is separate from the ipykernel package so we can avoid doing imports until\n"
     ]
    },
    {
     "output_type": "display_data",
     "data": {
      "image/png": "[encoded data removed]",
      "text/plain": [
       "<Figure size 432x288 with 1 Axes>"
      ]
     },
     "metadata": {
      "needs_background": "light"
     }
    }
   ],
   "metadata": {}
  },
  {
   "cell_type": "markdown",
   "source": [
    "### 4.15.6 Mesh Exporting Function <a class=\"anchor\" id=\"4.15.6\"></a>"
   ],
   "metadata": {}
  },
  {
   "cell_type": "markdown",
   "source": [
    "## 4.16 Subd <a class=\"anchor\" id=\"4.16\"></a>"
   ],
   "metadata": {}
  },
  {
   "cell_type": "markdown",
   "source": [
    "<center><img src=\"images/canvas-ex04-16.jpg\" width=\"800\" height=><center>"
   ],
   "metadata": {}
  },
  {
   "cell_type": "code",
   "execution_count": 221,
   "source": [
    "# name of the files to be used\r\n",
    "ghfile = ghx_dir + 'ex04-16-subd.ghx'\r\n",
    "model = rhino3dm.File3dm()\r\n",
    "filename = rh_dir + 'ex04-16.3dm'"
   ],
   "outputs": [],
   "metadata": {}
  },
  {
   "cell_type": "markdown",
   "source": [
    "### 4.16.1 Subd Pass <a class=\"anchor\" id=\"4.16.1\"></a>"
   ],
   "metadata": {}
  },
  {
   "cell_type": "code",
   "execution_count": 222,
   "source": [
    "def subd(mesh_res):\r\n",
    "    mesh_res_tr = gh.DataTree('RH_IN:mesh_res')\r\n",
    "    mesh_res_tr.Append([0],[mesh_res])\r\n",
    "\r\n",
    "    trees=[mesh_res_tr]\r\n",
    "\r\n",
    "    # Send data to compute server\r\n",
    "    output = gh.EvaluateDefinition(ghfile, trees)\r\n",
    "    values = output[\"values\"]\r\n",
    "\r\n",
    "    # getting tags\r\n",
    "    def ns(name):\r\n",
    "        for i in range(len(values)):\r\n",
    "            vname = values[i][\"ParamName\"]\r\n",
    "            if (vname == \"RH_OUT:\" + name):\r\n",
    "                return i\r\n",
    "\r\n",
    "    # convert data\r\n",
    "    tag = \"subd\"\r\n",
    "    ou_ind = ns(tag)\r\n",
    "    ou_dict = values[ou_ind][\"InnerTree\"]\r\n",
    "    # because this object has nested tree, we have to run loop\r\n",
    "    ou_value = list(ou_dict.values())[0][0][\"data\"]\r\n",
    "    ds = ou_value\r\n",
    "    ds_js = json.loads(ds)\r\n",
    "    ds_obj = rhino3dm.CommonObject.Decode(ds_js)\r\n",
    "    return ds_obj"
   ],
   "outputs": [],
   "metadata": {}
  },
  {
   "cell_type": "code",
   "execution_count": 223,
   "source": [
    "geo_subd = subd(1.0)\r\n",
    "model.Objects.Add(geo_subd)\r\n",
    "model.Write(filename)"
   ],
   "outputs": [
    {
     "output_type": "execute_result",
     "data": {
      "text/plain": [
       "True"
      ]
     },
     "metadata": {},
     "execution_count": 223
    }
   ],
   "metadata": {}
  },
  {
   "cell_type": "markdown",
   "source": [
    "### 4.16.2 Subd Brep <a class=\"anchor\" id=\"4.16.2\"></a>"
   ],
   "metadata": {}
  },
  {
   "cell_type": "code",
   "execution_count": 224,
   "source": [
    "def subd_brep(mesh_res):\r\n",
    "    mesh_res_tr = gh.DataTree('RH_IN:mesh_res')\r\n",
    "    mesh_res_tr.Append([0],[mesh_res])\r\n",
    "\r\n",
    "    trees=[mesh_res_tr]\r\n",
    "\r\n",
    "    # Send data to compute server\r\n",
    "    output = gh.EvaluateDefinition(ghfile, trees)\r\n",
    "    values = output[\"values\"]\r\n",
    "\r\n",
    "    # getting tags\r\n",
    "    def ns(name):\r\n",
    "        for i in range(len(values)):\r\n",
    "            tname = values[i][\"ParamName\"]\r\n",
    "            if (tname == \"RH_OUT:\" + name):\r\n",
    "                return i\r\n",
    "\r\n",
    "    # convert data\r\n",
    "    tag = \"subd_brep\"\r\n",
    "    ou_ind = ns(tag)\r\n",
    "    ou_dict = values[ou_ind][\"InnerTree\"]\r\n",
    "    # because this object has nested tree, we have to run loop\r\n",
    "    ou_value = list(ou_dict.values())[0][0][\"data\"]\r\n",
    "    ds = ou_value\r\n",
    "    ds_js = json.loads(ds)\r\n",
    "    ds_obj = rhino3dm.CommonObject.Decode(ds_js)\r\n",
    "    return ds_obj"
   ],
   "outputs": [],
   "metadata": {}
  },
  {
   "cell_type": "code",
   "execution_count": 225,
   "source": [
    "geo_subd_brep = subd_brep(1.0)\r\n",
    "model.Objects.Add(geo_subd_brep)\r\n",
    "model.Write(filename)"
   ],
   "outputs": [
    {
     "output_type": "execute_result",
     "data": {
      "text/plain": [
       "True"
      ]
     },
     "metadata": {},
     "execution_count": 225
    }
   ],
   "metadata": {}
  },
  {
   "cell_type": "markdown",
   "source": [
    "### 4.16.3 Subd Mesh <a class=\"anchor\" id=\"4.16.3\"></a>"
   ],
   "metadata": {}
  },
  {
   "cell_type": "code",
   "execution_count": 226,
   "source": [
    "def subd_mesh(mesh_res):\r\n",
    "    mesh_res_tr = gh.DataTree('RH_IN:mesh_res')\r\n",
    "    mesh_res_tr.Append([0],[mesh_res])\r\n",
    "\r\n",
    "    trees=[mesh_res_tr]\r\n",
    "\r\n",
    "    # Send data to compute server\r\n",
    "    output = gh.EvaluateDefinition(ghfile, trees)\r\n",
    "    values = output[\"values\"]\r\n",
    "\r\n",
    "    # getting tags\r\n",
    "    def ns(name):\r\n",
    "        for i in range(len(values)):\r\n",
    "            vname = values[i][\"ParamName\"]\r\n",
    "            if (vname == \"RH_OUT:\" + name):\r\n",
    "                return i\r\n",
    "\r\n",
    "    # convert data\r\n",
    "    tag = \"subd_mesh\"\r\n",
    "    ou_ind = ns(tag)\r\n",
    "    ou_dict = values[ou_ind][\"InnerTree\"]\r\n",
    "    # because this object has nested tree, we have to run loop\r\n",
    "    ou_value = list(ou_dict.values())[0][0][\"data\"]\r\n",
    "    ds = ou_value\r\n",
    "    ds_js = json.loads(ds)\r\n",
    "    ds_obj = rhino3dm.CommonObject.Decode(ds_js)\r\n",
    "    return ds_obj"
   ],
   "outputs": [],
   "metadata": {}
  },
  {
   "cell_type": "code",
   "execution_count": 227,
   "source": [
    "geo_subd_mesh = subd_mesh(1.0)\r\n",
    "model.Objects.Add(geo_subd_mesh)\r\n",
    "model.Write(filename)"
   ],
   "outputs": [
    {
     "output_type": "execute_result",
     "data": {
      "text/plain": [
       "True"
      ]
     },
     "metadata": {},
     "execution_count": 227
    }
   ],
   "metadata": {}
  },
  {
   "cell_type": "markdown",
   "source": [
    "# 05 Working with complex definition <a class=\"anchor\" id=\"5\"></a>"
   ],
   "metadata": {}
  },
  {
   "cell_type": "code",
   "execution_count": 228,
   "source": [
    "# name of the files to be used\r\n",
    "ghfile = ghx_dir + 'ex05.ghx'\r\n",
    "model = rhino3dm.File3dm()\r\n",
    "filename = rh_dir + 'ex05.3dm'"
   ],
   "outputs": [],
   "metadata": {}
  },
  {
   "cell_type": "markdown",
   "source": [
    "## 5.1 intercepting input parameter : single curve\r\n",
    "we can insert date even in between each step of grasshopper's definition "
   ],
   "metadata": {}
  },
  {
   "cell_type": "code",
   "execution_count": 229,
   "source": [
    "# create circle in rhino3dm\r\n",
    "rhPt = rhino3dm.Point3d(0, 0, 0)\r\n",
    "rhCircle = rhino3dm.Circle(rhPt, 5)"
   ],
   "outputs": [],
   "metadata": {}
  },
  {
   "cell_type": "markdown",
   "source": [
    "from now on we would create function to exectue it multiple times"
   ],
   "metadata": {}
  },
  {
   "cell_type": "code",
   "execution_count": 230,
   "source": [
    "def insertCircleDivPt(circle, divValue):\r\n",
    "    # Define Data Tree\r\n",
    "    circle_tr = gh.DataTree(\"RH_IN:circle\")\r\n",
    "    # encode rhino3dm objects and insert into ghx\r\n",
    "    enCircle = json.dumps(circle.ToNurbsCurve().Encode())\r\n",
    "    circle_tr.Append([0], enCircle)\r\n",
    "    divLen_tr = gh.DataTree(\"RH_IN:divLen\")\r\n",
    "    divLen_tr.Append([0], [divValue])\r\n",
    "    trees = [divLen_tr]\r\n",
    "\r\n",
    "    # Send data to compute server\r\n",
    "    output = gh.EvaluateDefinition(ghfile, trees)\r\n",
    "    values = output[\"values\"]\r\n",
    "\r\n",
    "    # getting tags\r\n",
    "    def ns(name):\r\n",
    "        for i in range(len(values)):\r\n",
    "            vname = values[i][\"ParamName\"]\r\n",
    "            if (vname == \"RH_OUT:\" + name):\r\n",
    "                return i\r\n",
    "\r\n",
    "    # convert data\r\n",
    "    tag = \"divCount\"\r\n",
    "    ou_ind = ns(tag)\r\n",
    "    # this would return data in to dictionary, but the key dynamically changes\r\n",
    "    # depending on what we are doing with grasshopper\r\n",
    "    ou_dict = values[ou_ind][\"InnerTree\"]\r\n",
    "    # because it is using \"grasshopper\" \"data tree\" to create dictionary\r\n",
    "    # just for ease of use I am blindly turning only values into list\r\n",
    "    value = list(ou_dict.values())[0][0][\"data\"]\r\n",
    "    return value"
   ],
   "outputs": [],
   "metadata": {}
  },
  {
   "cell_type": "code",
   "execution_count": 231,
   "source": [
    "k = insertCircleDivPt(rhCircle, 4)\r\n",
    "print(k)"
   ],
   "outputs": [
    {
     "output_type": "stream",
     "name": "stdout",
     "text": [
      "158.0\n"
     ]
    }
   ],
   "metadata": {}
  },
  {
   "cell_type": "markdown",
   "source": [
    "## 5.2 intercepting input parameter : multiple curves"
   ],
   "metadata": {}
  },
  {
   "cell_type": "code",
   "execution_count": 232,
   "source": [
    "rhMltCircle = []\r\n",
    "for i in range(10):\r\n",
    "    rhMltCircle.append(rhino3dm.Circle(rhPt, i * 100))\r\n",
    "\r\n",
    "print(rhMltCircle)\r\n",
    "print(type(rhMltCircle[0]))"
   ],
   "outputs": [
    {
     "output_type": "stream",
     "name": "stdout",
     "text": [
      "[<rhino3dm._rhino3dm.Circle object at 0x000001D4392FBB30>, <rhino3dm._rhino3dm.Circle object at 0x000001D46203D6B0>, <rhino3dm._rhino3dm.Circle object at 0x000001D46203D770>, <rhino3dm._rhino3dm.Circle object at 0x000001D46203D7B0>, <rhino3dm._rhino3dm.Circle object at 0x000001D46203D430>, <rhino3dm._rhino3dm.Circle object at 0x000001D46203D830>, <rhino3dm._rhino3dm.Circle object at 0x000001D46203D870>, <rhino3dm._rhino3dm.Circle object at 0x000001D46203D730>, <rhino3dm._rhino3dm.Circle object at 0x000001D46203D8B0>, <rhino3dm._rhino3dm.Circle object at 0x000001D46203D7F0>]\n",
      "<class 'rhino3dm._rhino3dm.Circle'>\n"
     ]
    }
   ],
   "metadata": {}
  },
  {
   "cell_type": "markdown",
   "source": [
    "## 5.3 Divide curve by length and return number of points"
   ],
   "metadata": {}
  },
  {
   "cell_type": "code",
   "execution_count": 233,
   "source": [
    "def divCurve(divValue):\r\n",
    "    # Define Data Tree\r\n",
    "    divLen_tr = gh.DataTree(\"RH_IN:divLen\")\r\n",
    "    divLen_tr.Append([0], [divValue])\r\n",
    "    trees = [divLen_tr]\r\n",
    "\r\n",
    "    # Send data to compute server\r\n",
    "    output = gh.EvaluateDefinition(ghfile, trees)\r\n",
    "    values = output[\"values\"]\r\n",
    "\r\n",
    "    # getting tags\r\n",
    "    def ns(name):\r\n",
    "        for i in range(len(values)):\r\n",
    "            vname = values[i][\"ParamName\"]\r\n",
    "            if (vname == \"RH_OUT:\" + name):\r\n",
    "                return i\r\n",
    "\r\n",
    "    # convert data\r\n",
    "    tag = \"divCount\"\r\n",
    "    ou_ind = ns(tag)\r\n",
    "    ou_dict = values[ou_ind][\"InnerTree\"]\r\n",
    "    ou_value = list(ou_dict.values())[0][0][\"data\"]\r\n",
    "    return ou_value"
   ],
   "outputs": [],
   "metadata": {}
  },
  {
   "cell_type": "code",
   "execution_count": 234,
   "source": [
    "# Calling function to calculate\r\n",
    "pt_numbs = divCurve(5)\r\n",
    "print(pt_numbs)"
   ],
   "outputs": [
    {
     "output_type": "stream",
     "name": "stdout",
     "text": [
      "126.0\n"
     ]
    }
   ],
   "metadata": {}
  },
  {
   "cell_type": "markdown",
   "source": [
    "## 5.4 Divide curves by length and return points"
   ],
   "metadata": {}
  },
  {
   "cell_type": "code",
   "execution_count": 235,
   "source": [
    "def divPts(radius, divValue):\r\n",
    "    # Define Data Tree\r\n",
    "    divLen_tr = gh.DataTree(\"RH_IN:divLen\")\r\n",
    "    divLen_tr.Append([0], [divValue])\r\n",
    "    radius_tr = gh.DataTree(\"RH_IN:radius\")\r\n",
    "    radius_tr.Append([0], [radius])\r\n",
    "    trees = [divLen_tr, radius_tr]\r\n",
    "\r\n",
    "    # Send data to compute server\r\n",
    "    output = gh.EvaluateDefinition(ghfile, trees)\r\n",
    "    values = output[\"values\"]\r\n",
    "\r\n",
    "    # getting tags\r\n",
    "    def ns(name):\r\n",
    "        for i in range(len(values)):\r\n",
    "            tname = values[i][\"ParamName\"]\r\n",
    "            if (tname == \"RH_OUT:\" + name):\r\n",
    "                return i\r\n",
    "\r\n",
    "    # convert data\r\n",
    "    tag = \"ptX\"\r\n",
    "    ou_ind = ns(tag)\r\n",
    "    ou_dict = values[ou_ind][\"InnerTree\"]\r\n",
    "    ou_value = list(ou_dict.values())[0]  # [0][\"data\"]\r\n",
    "\r\n",
    "    vx = []\r\n",
    "    for ptx in ou_value:\r\n",
    "        vx.append(float(ptx[\"data\"]))\r\n",
    "\r\n",
    "    tag = \"ptY\"\r\n",
    "    ou_ind = ns(tag)\r\n",
    "    ou_dict = values[ou_ind][\"InnerTree\"]\r\n",
    "    ou_value = list(ou_dict.values())[0]  # [0][\"data\"]\r\n",
    "\r\n",
    "    vy = []\r\n",
    "    for pty in ou_value:\r\n",
    "        vy.append(float(pty[\"data\"]))\r\n",
    "\r\n",
    "    tag = \"ptZ\"\r\n",
    "    ou_ind = ns(tag)\r\n",
    "    ou_dict = values[ou_ind][\"InnerTree\"]\r\n",
    "    ou_value = list(ou_dict.values())[0]  # [0][\"data\"]\r\n",
    "\r\n",
    "    vz = []\r\n",
    "    for ptz in ou_value:\r\n",
    "        vz.append(float(ptz[\"data\"]))\r\n",
    "\r\n",
    "    vpts = []\r\n",
    "    for i in range(len(ou_value)):\r\n",
    "        vpts.append([vx[i], vy[i], vz[i]])\r\n",
    "\r\n",
    "    return vpts"
   ],
   "outputs": [],
   "metadata": {}
  },
  {
   "cell_type": "code",
   "execution_count": 236,
   "source": [
    "# Calling function sinlge time to bake points\r\n",
    "dvpts = divPts(4, 2)\r\n",
    "for co in dvpts:\r\n",
    "    model.Objects.AddPoint(co[0], co[1], co[2])"
   ],
   "outputs": [],
   "metadata": {}
  },
  {
   "cell_type": "code",
   "execution_count": 237,
   "source": [
    "print(dvpts)"
   ],
   "outputs": [
    {
     "output_type": "stream",
     "name": "stdout",
     "text": [
      "[[4.0, 0.0, 0.0], [3.510330237193198, 1.917702173395844, 0.0], [2.161209164200809, 3.3658839772895384, 0.0], [0.2829487391114478, 3.9899799512071787, 0.0], [-1.66458732094265, 3.6371897188567126, 0.0], [-3.204574517594887, 2.3938885022451433, 0.0], [-3.959970001025627, 0.5644799296494931, 0.0], [-3.7458267346010894, -1.40313294963369, 0.0], [-2.6145742966078886, -3.027210142609423, 0.0], [-0.8431830509448448, -3.910120502311833, 0.0], [1.1346487187935568, -3.8356971054738067, 0.0], [2.834679240231669, -2.822161158580354, 0.0], [3.8406812017667304, -1.1176618032283567, 0.0]]\n"
     ]
    }
   ],
   "metadata": {}
  },
  {
   "cell_type": "code",
   "execution_count": 238,
   "source": [
    "# Calling function multiple times to bake points\r\n",
    "for i in range(10):\r\n",
    "    pts = divPts(i, 0.5)\r\n",
    "    for j in range(len(pts)):\r\n",
    "        co = pts[j]\r\n",
    "        model.Objects.AddPoint(co[0], co[1], co[2])"
   ],
   "outputs": [],
   "metadata": {}
  },
  {
   "cell_type": "code",
   "execution_count": 239,
   "source": [
    "model.Write(filename)"
   ],
   "outputs": [
    {
     "output_type": "execute_result",
     "data": {
      "text/plain": [
       "True"
      ]
     },
     "metadata": {},
     "execution_count": 239
    }
   ],
   "metadata": {}
  },
  {
   "cell_type": "markdown",
   "source": [
    "## 5.5 Create list of items"
   ],
   "metadata": {}
  },
  {
   "cell_type": "code",
   "execution_count": 240,
   "source": [
    "def mCircle(radius, divValue):\r\n",
    "    # Define Data Tree\r\n",
    "    divLen_tr = gh.DataTree(\"RH_IN:divLen\")\r\n",
    "    divLen_tr.Append([0], [divValue])\r\n",
    "    radius_tr = gh.DataTree(\"RH_IN:radius\")\r\n",
    "    radius_tr.Append([0], [radius])\r\n",
    "    trees = [divLen_tr, radius_tr]\r\n",
    "\r\n",
    "    # Send data to compute server\r\n",
    "    output = gh.EvaluateDefinition(ghfile, trees)\r\n",
    "    values = output[\"values\"]\r\n",
    "\r\n",
    "    # getting tags\r\n",
    "    def ns(name):\r\n",
    "        for i in range(len(values)):\r\n",
    "            vname = values[i][\"ParamName\"]\r\n",
    "            if (vname == \"RH_OUT:\" + name):\r\n",
    "                return i\r\n",
    "\r\n",
    "    # convert data\r\n",
    "    tag = \"crvM\"\r\n",
    "    ind = ns(tag)\r\n",
    "    ou_dict = values[ind][\"InnerTree\"]\r\n",
    "    ou_value = list(ou_dict.values())[0]  # [0][\"data\"]\r\n",
    "\r\n",
    "    serial = []\r\n",
    "    for item in ou_value:\r\n",
    "        ds = item[\"data\"]\r\n",
    "        ds_js = json.loads(ds)\r\n",
    "        ds_obj = rhino3dm.CommonObject.Decode(ds_js)\r\n",
    "        serial.append(ds_obj)\r\n",
    "\r\n",
    "    return serial"
   ],
   "outputs": [],
   "metadata": {}
  },
  {
   "cell_type": "code",
   "execution_count": 241,
   "source": [
    "multiple_circles = mCircle(9, 1)"
   ],
   "outputs": [],
   "metadata": {}
  },
  {
   "cell_type": "code",
   "execution_count": 242,
   "source": [
    "for curve in multiple_circles:\r\n",
    "    model.Objects.AddCurve(curve)\r\n"
   ],
   "outputs": [],
   "metadata": {}
  },
  {
   "cell_type": "code",
   "execution_count": 243,
   "source": [
    "model.Write(filename)"
   ],
   "outputs": [
    {
     "output_type": "execute_result",
     "data": {
      "text/plain": [
       "True"
      ]
     },
     "metadata": {},
     "execution_count": 243
    }
   ],
   "metadata": {}
  },
  {
   "cell_type": "markdown",
   "source": [
    "## 5.6 Create Nested list of items"
   ],
   "metadata": {}
  },
  {
   "cell_type": "code",
   "execution_count": 244,
   "source": [
    "def trCircle(radius, divValue, subDiv):\r\n",
    "    # Define Data Tree\r\n",
    "    divLen_tr = gh.DataTree(\"RH_IN:divLen\")\r\n",
    "    divLen_tr.Append([0], [divValue])\r\n",
    "    radius_tr = gh.DataTree(\"RH_IN:radius\")\r\n",
    "    radius_tr.Append([0], [radius])\r\n",
    "    subDiv_tr = gh.DataTree(\"RH_IN:subDiv\")\r\n",
    "    subDiv_tr.Append([0], [subDiv])\r\n",
    "    trees = [divLen_tr, radius_tr, subDiv_tr]\r\n",
    "\r\n",
    "    # Send data to compute server\r\n",
    "    output = gh.EvaluateDefinition(ghfile, trees)\r\n",
    "    values = output[\"values\"]\r\n",
    "\r\n",
    "    # getting tags\r\n",
    "    def ns(name):\r\n",
    "        for i in range(len(values)):\r\n",
    "            vname = values[i][\"ParamName\"]\r\n",
    "            if (vname == \"RH_OUT:\" + name):\r\n",
    "                return i\r\n",
    "\r\n",
    "    # convert data\r\n",
    "    tag = \"crvTree\"\r\n",
    "    ou_ind = ns(tag)\r\n",
    "    ou_dict = values[ou_ind][\"InnerTree\"]\r\n",
    "    # because this object has nested tree, we have to run loop\r\n",
    "    ou_value = list(ou_dict.values())  # [1]  # [0][\"data\"]\r\n",
    "\r\n",
    "    serial = []\r\n",
    "    for i in range(len(ou_value)):\r\n",
    "        for j in range(len(ou_value[i])):\r\n",
    "            ds = ou_value[i][j][\"data\"]\r\n",
    "            ds_js = json.loads(ds)\r\n",
    "            ds_obj = rhino3dm.CommonObject.Decode(ds_js)\r\n",
    "            serial.append(ds_obj)\r\n",
    "\r\n",
    "    return serial"
   ],
   "outputs": [],
   "metadata": {}
  },
  {
   "cell_type": "code",
   "execution_count": 245,
   "source": [
    "nested_circles = trCircle(100, 10, 4)"
   ],
   "outputs": [],
   "metadata": {}
  },
  {
   "cell_type": "code",
   "execution_count": 246,
   "source": [
    "for curve in nested_circles:\r\n",
    "    model.Objects.AddCurve(curve)"
   ],
   "outputs": [],
   "metadata": {}
  },
  {
   "cell_type": "code",
   "execution_count": 247,
   "source": [
    "model.Write(filename)"
   ],
   "outputs": [
    {
     "output_type": "execute_result",
     "data": {
      "text/plain": [
       "True"
      ]
     },
     "metadata": {},
     "execution_count": 247
    }
   ],
   "metadata": {}
  },
  {
   "cell_type": "markdown",
   "source": [
    "# 09 Advanced Topic <a class=\"anchor\" id=\"9\"></a>"
   ],
   "metadata": {}
  },
  {
   "cell_type": "markdown",
   "source": [
    "## 9.1 Using components from external grasshopper plugin <a class=\"anchor\" id=\"9.1\"></a>"
   ],
   "metadata": {}
  },
  {
   "cell_type": "markdown",
   "source": [
    "### 9.1.1 Using metahopper to retrieve input parameters used in Grasshopper Definition <a class=\"anchor\" id=\"9.1.1\"></a>"
   ],
   "metadata": {}
  },
  {
   "cell_type": "markdown",
   "source": [
    "From the grasshopper plugin [Metahopper](https://www.food4rhino.com/en/app/metahopper) there is a component that retrieves all named groups from the canvas : Get Groups\r\n",
    "<br> We are going to use this to ask grasshopper for what kind of input data variables we can use in rhino compute"
   ],
   "metadata": {}
  },
  {
   "cell_type": "markdown",
   "source": [
    "<center><img src=\"images/canvas-ex02-00.jpg\" width=\"800\" height=\"200\"><center>"
   ],
   "metadata": {}
  },
  {
   "cell_type": "code",
   "execution_count": 248,
   "source": [
    "# name of the files to be used\r\n",
    "ghfile = ghx_dir + 'ex09-01-01.ghx'"
   ],
   "outputs": [],
   "metadata": {}
  },
  {
   "cell_type": "code",
   "execution_count": 249,
   "source": [
    "# data trees to look for\r\n",
    "trees = [] #we are not doing anything"
   ],
   "outputs": [],
   "metadata": {}
  },
  {
   "cell_type": "code",
   "execution_count": 250,
   "source": [
    "# decode data\r\n",
    "output = gh.EvaluateDefinition(ghfile, trees)\r\n",
    "values = output[\"values\"]"
   ],
   "outputs": [],
   "metadata": {}
  },
  {
   "cell_type": "code",
   "execution_count": 251,
   "source": [
    "# getting tags, name search\r\n",
    "def ns(name):\r\n",
    "    for i in range(len(values)):\r\n",
    "        vname = values[i][\"ParamName\"]\r\n",
    "        if (vname == \"RH_OUT:\" + name):\r\n",
    "            return i"
   ],
   "outputs": [],
   "metadata": {}
  },
  {
   "cell_type": "code",
   "execution_count": 252,
   "source": [
    "# search for Data Tree\r\n",
    "tag = \"go_q_inputs\"\r\n",
    "ou_ind = ns(tag)\r\n",
    "ou_data = values[ou_ind][\"InnerTree\"]\r\n",
    "ou_value = list(ou_data.values())\r\n",
    "ou_unpack = ou_value[0] #because this is neseted tree, we have to loop for unpacking\r\n",
    "\r\n",
    "input_params = []\r\n",
    "for item in ou_unpack:\r\n",
    "    par = item[\"data\"]\r\n",
    "    input_params.append(par)\r\n",
    "\r\n",
    "print(input_params)"
   ],
   "outputs": [
    {
     "output_type": "stream",
     "name": "stdout",
     "text": [
      "['\"RH_IN:gi_mult\"', '\"RH_IN:gi_num1\"', '\"RH_IN:gi_num2\"', '\"RH_IN:gi_mult\"']\n"
     ]
    }
   ],
   "metadata": {}
  },
  {
   "cell_type": "markdown",
   "source": [
    "You can now use this function if you have included above nodes in your Grasshopper Definition"
   ],
   "metadata": {}
  },
  {
   "cell_type": "code",
   "execution_count": 253,
   "source": [
    "def q_inputs():\r\n",
    "    # data trees to look for\r\n",
    "    trees = [] #we are not doing anything\r\n",
    "\r\n",
    "    # decode data\r\n",
    "    output = gh.EvaluateDefinition(ghfile, trees)\r\n",
    "    values = output[\"values\"]\r\n",
    "\r\n",
    "    # getting tags, name search\r\n",
    "    def ns(name):\r\n",
    "        for i in range(len(values)):\r\n",
    "            vname = values[i][\"ParamName\"]\r\n",
    "            if (vname == \"RH_OUT:\" + name):\r\n",
    "                return i\r\n",
    "\r\n",
    "    # search for Data Tree\r\n",
    "    tag = \"go_q_inputs\"\r\n",
    "    ou_ind = ns(tag)\r\n",
    "    ou_data = values[ou_ind][\"InnerTree\"]\r\n",
    "    ou_value = list(ou_data.values())\r\n",
    "    ou_unpack = ou_value[0] #because this is neseted tree, we have to loop for unpacking\r\n",
    "\r\n",
    "    input_params = []\r\n",
    "    for item in ou_unpack:\r\n",
    "        par = item[\"data\"]\r\n",
    "        input_params.append(par)\r\n",
    "\r\n",
    "    return input_params"
   ],
   "outputs": [],
   "metadata": {}
  },
  {
   "cell_type": "code",
   "execution_count": 254,
   "source": [
    "q_inputs()"
   ],
   "outputs": [
    {
     "output_type": "execute_result",
     "data": {
      "text/plain": [
       "['\"RH_IN:gi_mult\"', '\"RH_IN:gi_num1\"', '\"RH_IN:gi_num2\"', '\"RH_IN:gi_mult\"']"
      ]
     },
     "metadata": {},
     "execution_count": 254
    }
   ],
   "metadata": {}
  },
  {
   "cell_type": "markdown",
   "source": [
    "### 9.1.2#A Exporting Mesh : Using PanCake to export geometry\r\n",
    "From [PanCake](https://www.food4rhino.com/en/app/pancake) we are going to use component that exports STL"
   ],
   "metadata": {}
  },
  {
   "cell_type": "code",
   "execution_count": 255,
   "source": [
    "# name of the files to be used\r\n",
    "ghfile = ghx_dir + 'ex060102-Export2STL.ghx'"
   ],
   "outputs": [],
   "metadata": {}
  },
  {
   "cell_type": "code",
   "execution_count": 256,
   "source": [
    "# data trees to look for\r\n",
    "trees = [] #we are not doing anything"
   ],
   "outputs": [],
   "metadata": {}
  },
  {
   "cell_type": "code",
   "execution_count": 257,
   "source": [
    "# decode data\r\n",
    "output = gh.EvaluateDefinition(ghfile, trees)\r\n",
    "values = output[\"values\"]"
   ],
   "outputs": [
    {
     "output_type": "error",
     "ename": "KeyError",
     "evalue": "'values'",
     "traceback": [
      "\u001b[1;31m---------------------------------------------------------------------------\u001b[0m",
      "\u001b[1;31mKeyError\u001b[0m                                  Traceback (most recent call last)",
      "\u001b[1;32m~\\AppData\\Local\\Temp/ipykernel_16840/2731570188.py\u001b[0m in \u001b[0;36m<module>\u001b[1;34m\u001b[0m\n\u001b[0;32m      1\u001b[0m \u001b[1;31m# decode data\u001b[0m\u001b[1;33m\u001b[0m\u001b[1;33m\u001b[0m\u001b[1;33m\u001b[0m\u001b[0m\n\u001b[0;32m      2\u001b[0m \u001b[0moutput\u001b[0m \u001b[1;33m=\u001b[0m \u001b[0mgh\u001b[0m\u001b[1;33m.\u001b[0m\u001b[0mEvaluateDefinition\u001b[0m\u001b[1;33m(\u001b[0m\u001b[0mghfile\u001b[0m\u001b[1;33m,\u001b[0m \u001b[0mtrees\u001b[0m\u001b[1;33m)\u001b[0m\u001b[1;33m\u001b[0m\u001b[1;33m\u001b[0m\u001b[0m\n\u001b[1;32m----> 3\u001b[1;33m \u001b[0mvalues\u001b[0m \u001b[1;33m=\u001b[0m \u001b[0moutput\u001b[0m\u001b[1;33m[\u001b[0m\u001b[1;34m\"values\"\u001b[0m\u001b[1;33m]\u001b[0m\u001b[1;33m\u001b[0m\u001b[1;33m\u001b[0m\u001b[0m\n\u001b[0m",
      "\u001b[1;31mKeyError\u001b[0m: 'values'"
     ]
    }
   ],
   "metadata": {}
  },
  {
   "cell_type": "code",
   "execution_count": 258,
   "source": [
    "tags = []\r\n",
    "for i in range(len(values)):\r\n",
    "    tname = values[i][\"ParamName\"]\r\n",
    "    tags.append(tname)\r\n",
    "print(tags)"
   ],
   "outputs": [
    {
     "output_type": "stream",
     "name": "stdout",
     "text": [
      "['RH_OUT:go_q_inputs', 'RH_OUT:go_area', 'RH_OUT:go_mult']\n"
     ]
    }
   ],
   "metadata": {}
  },
  {
   "cell_type": "code",
   "execution_count": 259,
   "source": [
    "q_inputs()"
   ],
   "outputs": [
    {
     "output_type": "error",
     "ename": "KeyError",
     "evalue": "'values'",
     "traceback": [
      "\u001b[1;31m---------------------------------------------------------------------------\u001b[0m",
      "\u001b[1;31mKeyError\u001b[0m                                  Traceback (most recent call last)",
      "\u001b[1;32m~\\AppData\\Local\\Temp/ipykernel_16840/2977449530.py\u001b[0m in \u001b[0;36m<module>\u001b[1;34m\u001b[0m\n\u001b[1;32m----> 1\u001b[1;33m \u001b[0mq_inputs\u001b[0m\u001b[1;33m(\u001b[0m\u001b[1;33m)\u001b[0m\u001b[1;33m\u001b[0m\u001b[1;33m\u001b[0m\u001b[0m\n\u001b[0m",
      "\u001b[1;32m~\\AppData\\Local\\Temp/ipykernel_16840/1435780195.py\u001b[0m in \u001b[0;36mq_inputs\u001b[1;34m()\u001b[0m\n\u001b[0;32m      5\u001b[0m     \u001b[1;31m# decode data\u001b[0m\u001b[1;33m\u001b[0m\u001b[1;33m\u001b[0m\u001b[1;33m\u001b[0m\u001b[0m\n\u001b[0;32m      6\u001b[0m     \u001b[0moutput\u001b[0m \u001b[1;33m=\u001b[0m \u001b[0mgh\u001b[0m\u001b[1;33m.\u001b[0m\u001b[0mEvaluateDefinition\u001b[0m\u001b[1;33m(\u001b[0m\u001b[0mghfile\u001b[0m\u001b[1;33m,\u001b[0m \u001b[0mtrees\u001b[0m\u001b[1;33m)\u001b[0m\u001b[1;33m\u001b[0m\u001b[1;33m\u001b[0m\u001b[0m\n\u001b[1;32m----> 7\u001b[1;33m     \u001b[0mvalues\u001b[0m \u001b[1;33m=\u001b[0m \u001b[0moutput\u001b[0m\u001b[1;33m[\u001b[0m\u001b[1;34m\"values\"\u001b[0m\u001b[1;33m]\u001b[0m\u001b[1;33m\u001b[0m\u001b[1;33m\u001b[0m\u001b[0m\n\u001b[0m\u001b[0;32m      8\u001b[0m \u001b[1;33m\u001b[0m\u001b[0m\n\u001b[0;32m      9\u001b[0m     \u001b[1;31m# getting tags, name search\u001b[0m\u001b[1;33m\u001b[0m\u001b[1;33m\u001b[0m\u001b[1;33m\u001b[0m\u001b[0m\n",
      "\u001b[1;31mKeyError\u001b[0m: 'values'"
     ]
    }
   ],
   "metadata": {}
  },
  {
   "cell_type": "code",
   "execution_count": 260,
   "source": [
    "def q_export(name, max_gen, gene):\r\n",
    "    \r\n",
    "    max_gen_tr = gh.DataTree('RH_IN:gi_max_gen')\r\n",
    "    max_gen_tr.Append([0],[max_gen])\r\n",
    "\r\n",
    "    gene_param_tr = gh.DataTree('RH_IN:gi_gene_param')\r\n",
    "    gene_param_tr.Append([0],[gene])\r\n",
    "\r\n",
    "    # file_dir_tr = gh.DataTree('RH_IN:gi_file_dir')\r\n",
    "    # file_dir_tr.Append([0],[dir])\r\n",
    "\r\n",
    "    file_nm_tr = gh.DataTree('RH_IN:gi_file_nm')\r\n",
    "    file_nm_tr.Append([0],[name])\r\n",
    "\r\n",
    "    export_tr = gh.DataTree('RH_IN:gi_export_stl')\r\n",
    "    export_tr.Append([0], [True])\r\n",
    "\r\n",
    "    trees = [max_gen_tr, gene_param_tr, file_nm_tr, export_tr]\r\n",
    "\r\n",
    "    # decode data\r\n",
    "    output = gh.EvaluateDefinition(ghfile, trees)\r\n",
    "    values = output[\"values\"]\r\n",
    "\r\n"
   ],
   "outputs": [],
   "metadata": {}
  },
  {
   "cell_type": "code",
   "execution_count": 261,
   "source": [
    "q_export(\"test\",10,2)"
   ],
   "outputs": [
    {
     "output_type": "error",
     "ename": "KeyError",
     "evalue": "'values'",
     "traceback": [
      "\u001b[1;31m---------------------------------------------------------------------------\u001b[0m",
      "\u001b[1;31mKeyError\u001b[0m                                  Traceback (most recent call last)",
      "\u001b[1;32m~\\AppData\\Local\\Temp/ipykernel_16840/216755303.py\u001b[0m in \u001b[0;36m<module>\u001b[1;34m\u001b[0m\n\u001b[1;32m----> 1\u001b[1;33m \u001b[0mq_export\u001b[0m\u001b[1;33m(\u001b[0m\u001b[1;34m\"test\"\u001b[0m\u001b[1;33m,\u001b[0m\u001b[1;36m10\u001b[0m\u001b[1;33m,\u001b[0m\u001b[1;36m2\u001b[0m\u001b[1;33m)\u001b[0m\u001b[1;33m\u001b[0m\u001b[1;33m\u001b[0m\u001b[0m\n\u001b[0m",
      "\u001b[1;32m~\\AppData\\Local\\Temp/ipykernel_16840/80208201.py\u001b[0m in \u001b[0;36mq_export\u001b[1;34m(name, max_gen, gene)\u001b[0m\n\u001b[0;32m     20\u001b[0m     \u001b[1;31m# decode data\u001b[0m\u001b[1;33m\u001b[0m\u001b[1;33m\u001b[0m\u001b[1;33m\u001b[0m\u001b[0m\n\u001b[0;32m     21\u001b[0m     \u001b[0moutput\u001b[0m \u001b[1;33m=\u001b[0m \u001b[0mgh\u001b[0m\u001b[1;33m.\u001b[0m\u001b[0mEvaluateDefinition\u001b[0m\u001b[1;33m(\u001b[0m\u001b[0mghfile\u001b[0m\u001b[1;33m,\u001b[0m \u001b[0mtrees\u001b[0m\u001b[1;33m)\u001b[0m\u001b[1;33m\u001b[0m\u001b[1;33m\u001b[0m\u001b[0m\n\u001b[1;32m---> 22\u001b[1;33m     \u001b[0mvalues\u001b[0m \u001b[1;33m=\u001b[0m \u001b[0moutput\u001b[0m\u001b[1;33m[\u001b[0m\u001b[1;34m\"values\"\u001b[0m\u001b[1;33m]\u001b[0m\u001b[1;33m\u001b[0m\u001b[1;33m\u001b[0m\u001b[0m\n\u001b[0m\u001b[0;32m     23\u001b[0m \u001b[1;33m\u001b[0m\u001b[0m\n",
      "\u001b[1;31mKeyError\u001b[0m: 'values'"
     ]
    }
   ],
   "metadata": {}
  },
  {
   "cell_type": "markdown",
   "source": [
    "### 9.1.2#B Exporting Mesh : Using C# code to export STL\r\n",
    "From [Tutorial by Junichiro Horikawa](https://www.youtube.com/watch?v=eUqRZvJjxvc) we are going to use component that exports STL"
   ],
   "metadata": {}
  },
  {
   "cell_type": "markdown",
   "source": [
    "### 9.1.2#C Exporting Mesh : Using Python to export STL\r\n",
    "From [Python STL export code](https://www.grasshopper3d.com/forum/topics/shortest-walk-tapered-branching-script?commentId=2985220%3AComment%3A1463585)"
   ],
   "metadata": {}
  },
  {
   "cell_type": "markdown",
   "source": [
    "### 9.1.3 Using Karamba3d to conduct structural anlaysis\r\n",
    "Karamba3d requires to run command Karamba3DGetLicense in rhino.\r\n",
    "We just have to run that command once, and that's the problem"
   ],
   "metadata": {}
  },
  {
   "cell_type": "markdown",
   "source": [
    "### 9.1.4 Using Ladybug tools Honeybee to conduct thermal analysis\r\n",
    "Ladybug tools require to run Energyplus, THERM and other dependencies"
   ],
   "metadata": {}
  },
  {
   "cell_type": "markdown",
   "source": [
    "## 9.2 Using external Python Modules <a class=\"anchor\" id=\"9.2\"></a>"
   ],
   "metadata": {}
  },
  {
   "cell_type": "markdown",
   "source": [
    "### 9.2.1#A Exporting Mesh : Using numpy-stl <a class=\"anchor\" id=\"9.2.1\"></a>\r\n",
    "[Numpy STL pypi](https://pypi.org/project/numpy-stl/)\r\n",
    "Capable of reading and writing STL. Dependent on numpy"
   ],
   "metadata": {}
  },
  {
   "cell_type": "code",
   "execution_count": 268,
   "source": [
    "import numpy as np\r\n",
    "from stl import mesh\r\n",
    "\r\n",
    "# Define the 8 vertices of the cube\r\n",
    "vertices = np.array([\\\r\n",
    "    [-1, -1, -1],\r\n",
    "    [+1, -1, -1],\r\n",
    "    [+1, +1, -1],\r\n",
    "    [-1, +1, -1],\r\n",
    "    [-1, -1, +1],\r\n",
    "    [+1, -1, +1],\r\n",
    "    [+1, +1, +1],\r\n",
    "    [-1, +1, +1]])\r\n",
    "# Define the 12 triangles composing the cube\r\n",
    "faces = np.array([\\\r\n",
    "    [0,3,1],\r\n",
    "    [1,3,2],\r\n",
    "    [0,4,7],\r\n",
    "    [0,7,3],\r\n",
    "    [4,5,6],\r\n",
    "    [4,6,7],\r\n",
    "    [5,1,2],\r\n",
    "    [5,2,6],\r\n",
    "    [2,3,6],\r\n",
    "    [3,7,6],\r\n",
    "    [0,1,5],\r\n",
    "    [0,5,4]])\r\n",
    "\r\n",
    "# Create the mesh\r\n",
    "cube = mesh.Mesh(np.zeros(faces.shape[0], dtype=mesh.Mesh.dtype))\r\n",
    "for i, f in enumerate(faces):\r\n",
    "    for j in range(3):\r\n",
    "        cube.vectors[i][j] = vertices[f[j],:]\r\n",
    "\r\n",
    "# Write the mesh to file \"cube.stl\"\r\n",
    "cube.save('STL\\npstl_cube.stl')"
   ],
   "outputs": [],
   "metadata": {}
  },
  {
   "cell_type": "code",
   "execution_count": 269,
   "source": [
    "from stl import mesh\r\n",
    "from mpl_toolkits import mplot3d\r\n",
    "from matplotlib import pyplot\r\n",
    "\r\n",
    "# Create a new plot\r\n",
    "figure = pyplot.figure()\r\n",
    "axes = mplot3d.Axes3D(figure)\r\n",
    "\r\n",
    "# Load the STL files and add the vectors to the plot\r\n",
    "your_mesh = mesh.Mesh.from_file('npstl_cube.stl')\r\n",
    "axes.add_collection3d(mplot3d.art3d.Poly3DCollection(your_mesh.vectors))\r\n",
    "\r\n",
    "# Auto scale to the mesh size\r\n",
    "scale = your_mesh.points.flatten()\r\n",
    "axes.auto_scale_xyz(scale, scale, scale)\r\n",
    "\r\n",
    "# Show the plot to the screen\r\n",
    "pyplot.show()"
   ],
   "outputs": [
    {
     "output_type": "stream",
     "name": "stderr",
     "text": [
      "C:\\Python37\\lib\\site-packages\\ipykernel_launcher.py:7: MatplotlibDeprecationWarning: Axes3D(fig) adding itself to the figure is deprecated since 3.4. Pass the keyword argument auto_add_to_figure=False and use fig.add_axes(ax) to suppress this warning. The default value of auto_add_to_figure will change to False in mpl3.5 and True values will no longer work in 3.6.  This is consistent with other Axes classes.\n",
      "  import sys\n"
     ]
    },
    {
     "output_type": "display_data",
     "data": {
      "image/png": "[encoded data removed]",
      "text/plain": [
       "<Figure size 432x288 with 1 Axes>"
      ]
     },
     "metadata": {
      "needs_background": "light"
     }
    }
   ],
   "metadata": {}
  },
  {
   "cell_type": "markdown",
   "source": [
    "### 9.2.1#B Exporting Mesh : Using meshio <a class=\"anchor\" id=\"9.2.1.B\"></a>\r\n",
    "[MeshIO Github](https://github.com/nschloe/meshio)\r\n",
    "\r\n",
    "This module can create OBJ, VTK, which can contain quad mesh (we just can't plot in matplotlib?)"
   ],
   "metadata": {}
  },
  {
   "cell_type": "code",
   "execution_count": 270,
   "source": [
    "import meshio\r\n",
    "\r\n",
    "# two triangles and one quad\r\n",
    "points = [\r\n",
    "    [0.0, 0.0],\r\n",
    "    [1.0, 0.0],\r\n",
    "    [0.0, 1.0],\r\n",
    "    [1.0, 1.0],\r\n",
    "    [2.0, 0.0],\r\n",
    "    [2.0, 1.0],\r\n",
    "]\r\n",
    "cells = [\r\n",
    "    (\"triangle\", [[0, 1, 2], [1, 3, 2]]),\r\n",
    "    (\"quad\", [[1, 4, 5, 3]]),\r\n",
    "]\r\n",
    "\r\n",
    "# Alternative with the same options\r\n",
    "meshio.write_points_cells(\"STL\\msio_test_1.stl\", points, cells)"
   ],
   "outputs": [
    {
     "output_type": "stream",
     "name": "stderr",
     "text": [
      "WARNING:root:STL can only write triangle cells. Discarding quad.\n",
      "WARNING:root:STL requires 3D points, but 2D points given. Appending 0 third component.\n"
     ]
    }
   ],
   "metadata": {}
  },
  {
   "cell_type": "code",
   "execution_count": 271,
   "source": [
    "from stl import mesh\r\n",
    "from mpl_toolkits import mplot3d\r\n",
    "from matplotlib import pyplot\r\n",
    "\r\n",
    "# Create a new plot\r\n",
    "figure = pyplot.figure()\r\n",
    "axes = mplot3d.Axes3D(figure)\r\n",
    "\r\n",
    "# Load the STL files and add the vectors to the plot\r\n",
    "your_mesh = mesh.Mesh.from_file('msio_test_1.stl')\r\n",
    "axes.add_collection3d(mplot3d.art3d.Poly3DCollection(your_mesh.vectors))\r\n",
    "\r\n",
    "# Auto scale to the mesh size\r\n",
    "scale = your_mesh.points.flatten()\r\n",
    "axes.auto_scale_xyz(scale, scale, scale)\r\n",
    "\r\n",
    "# Show the plot to the screen\r\n",
    "pyplot.show()"
   ],
   "outputs": [
    {
     "output_type": "stream",
     "name": "stderr",
     "text": [
      "C:\\Python37\\lib\\site-packages\\ipykernel_launcher.py:7: MatplotlibDeprecationWarning: Axes3D(fig) adding itself to the figure is deprecated since 3.4. Pass the keyword argument auto_add_to_figure=False and use fig.add_axes(ax) to suppress this warning. The default value of auto_add_to_figure will change to False in mpl3.5 and True values will no longer work in 3.6.  This is consistent with other Axes classes.\n",
      "  import sys\n"
     ]
    },
    {
     "output_type": "display_data",
     "data": {
      "image/png": "[encoded data removed]",
      "text/plain": [
       "<Figure size 432x288 with 1 Axes>"
      ]
     },
     "metadata": {
      "needs_background": "light"
     }
    }
   ],
   "metadata": {}
  },
  {
   "cell_type": "code",
   "execution_count": 274,
   "source": [
    "mesh = meshio.Mesh(\r\n",
    "    points,\r\n",
    "    cells,\r\n",
    "    # Optionally provide extra data on points, cells, etc.\r\n",
    "    point_data={\"T\": [0.3, -1.2, 0.5, 0.7, 0.0, -3.0]},\r\n",
    "    # Each item in cell data must match the cells array\r\n",
    "    cell_data={\"a\": [[0.1, 0.2], [0.4]]},\r\n",
    ")\r\n",
    "mesh.write(\r\n",
    "    \"STL\\msio_test_2.stl\",  # str, os.PathLike, or buffer/open file\r\n",
    "    # file_format=\"vtk\",  # optional if first argument is a path; inferred from extension\r\n",
    ")"
   ],
   "outputs": [
    {
     "output_type": "stream",
     "name": "stderr",
     "text": [
      "WARNING:root:STL can only write triangle cells. Discarding quad.\n",
      "WARNING:root:STL requires 3D points, but 2D points given. Appending 0 third component.\n"
     ]
    }
   ],
   "metadata": {}
  },
  {
   "cell_type": "code",
   "execution_count": 275,
   "source": [
    "from stl import mesh\r\n",
    "from mpl_toolkits import mplot3d\r\n",
    "from matplotlib import pyplot\r\n",
    "\r\n",
    "# Create a new plot\r\n",
    "figure = pyplot.figure()\r\n",
    "axes = mplot3d.Axes3D(figure)\r\n",
    "\r\n",
    "# Load the STL files and add the vectors to the plot\r\n",
    "your_mesh = mesh.Mesh.from_file('msio_test_2.stl')\r\n",
    "axes.add_collection3d(mplot3d.art3d.Poly3DCollection(your_mesh.vectors))\r\n",
    "\r\n",
    "# Auto scale to the mesh size\r\n",
    "scale = your_mesh.points.flatten()\r\n",
    "axes.auto_scale_xyz(scale, scale, scale)\r\n",
    "\r\n",
    "# Show the plot to the screen\r\n",
    "pyplot.show()"
   ],
   "outputs": [
    {
     "output_type": "stream",
     "name": "stderr",
     "text": [
      "C:\\Python37\\lib\\site-packages\\ipykernel_launcher.py:7: MatplotlibDeprecationWarning: Axes3D(fig) adding itself to the figure is deprecated since 3.4. Pass the keyword argument auto_add_to_figure=False and use fig.add_axes(ax) to suppress this warning. The default value of auto_add_to_figure will change to False in mpl3.5 and True values will no longer work in 3.6.  This is consistent with other Axes classes.\n",
      "  import sys\n"
     ]
    },
    {
     "output_type": "display_data",
     "data": {
      "image/png": "[encoded data removed]",
      "text/plain": [
       "<Figure size 432x288 with 1 Axes>"
      ]
     },
     "metadata": {
      "needs_background": "light"
     }
    }
   ],
   "metadata": {}
  },
  {
   "cell_type": "markdown",
   "source": [
    "### 9.2.1#C Exporting Mesh : Using RW3DM\r\n",
    "\r\n",
    "[LINK](https://nurbs-python.readthedocs.io/en/5.x/modules_rhino.html)\r\n",
    "[LINK](https://github.com/orbingol/rw3dm)"
   ],
   "metadata": {}
  },
  {
   "cell_type": "markdown",
   "source": [
    "## 9.3 Complex Workflow / Pipeline for collaboration <a class=\"anchor\" id=\"9.3\"></a>"
   ],
   "metadata": {}
  },
  {
   "cell_type": "markdown",
   "source": [
    "### 9.3.1 Using components that is not connected together <a class=\"anchor\" id=\"9.3.1\"></a>"
   ],
   "metadata": {}
  },
  {
   "cell_type": "markdown",
   "source": [
    "### 9.3.2 Using different Grasshopper definition and exchange data <a class=\"anchor\" id=\"9.3.2\"></a>"
   ],
   "metadata": {}
  },
  {
   "cell_type": "markdown",
   "source": [
    "### 9.3.3 Reading geometry from 3dm file <a class=\"anchor\" id=\"9.3.3\"></a>"
   ],
   "metadata": {}
  }
 ],
 "metadata": {
  "orig_nbformat": 4,
  "language_info": {
   "name": "python",
   "version": "3.7.9",
   "mimetype": "text/x-python",
   "codemirror_mode": {
    "name": "ipython",
    "version": 3
   },
   "pygments_lexer": "ipython3",
   "nbconvert_exporter": "python",
   "file_extension": ".py"
  },
  "kernelspec": {
   "name": "python3",
   "display_name": "Python 3.7.9 64-bit"
  },
  "interpreter": {
   "hash": "04635d289a519a1410467dd0afb0db42f9184808881ca68b2eb5a687a20a5a94"
  }
 },
 "nbformat": 4,
 "nbformat_minor": 2
}